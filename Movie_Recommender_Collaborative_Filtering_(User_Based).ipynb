{
  "cells": [
    {
      "cell_type": "markdown",
      "metadata": {
        "id": "C2WU46iJz-em"
      },
      "source": [
        "# Loading Files"
      ]
    },
    {
      "cell_type": "code",
      "execution_count": null,
      "metadata": {
        "id": "DYHUn-TTjUve"
      },
      "outputs": [],
      "source": [
        "# Importing dependencies\n",
        "\n",
        "import pandas as pd\n",
        "import numpy as np\n",
        "from sklearn.model_selection import train_test_split\n",
        "from sklearn.metrics.pairwise import cosine_similarity\n",
        "from sklearn.metrics import mean_squared_error\n",
        "import seaborn as sns\n",
        "\n"
      ]
    },
    {
      "cell_type": "code",
      "execution_count": null,
      "metadata": {
        "colab": {
          "base_uri": "https://localhost:8080/"
        },
        "id": "mBYQyPKVfCAg",
        "outputId": "3ae9d877-9bb3-4014-d06b-95376104d373"
      },
      "outputs": [
        {
          "output_type": "stream",
          "name": "stdout",
          "text": [
            "Mounted at /content/drive\n"
          ]
        }
      ],
      "source": [
        "from google.colab import drive\n",
        "drive.mount('/content/drive')"
      ]
    },
    {
      "cell_type": "code",
      "execution_count": null,
      "metadata": {
        "id": "SF_IV_EHA6qq"
      },
      "outputs": [],
      "source": [
        "# Load the movies dataset\n",
        "#movies = pd.read_csv('/content/drive/MyDrive/DeepTech/Movie_Recommender_System/movies.csv', sep='|', names=['budget', 'genres', 'homepage', 'id', 'keywords', 'original_language', 'original_title', 'overview', 'popularity', 'production_companies', 'production_countries', 'release_date', 'revenue', 'runtime', 'spoken_languages', 'status', 'tagline', 'title', 'vote_average', 'vote_count'], encoding='latin-1')\n",
        "#print(movies.head())"
      ]
    },
    {
      "cell_type": "code",
      "execution_count": null,
      "metadata": {
        "colab": {
          "base_uri": "https://localhost:8080/"
        },
        "id": "hxm8b3LHhBz8",
        "outputId": "cc0fba76-d82c-4930-a18c-aa8671d02c62"
      },
      "outputs": [
        {
          "output_type": "stream",
          "name": "stdout",
          "text": [
            "       id                                           overview  \\\n",
            "0   19995  In the 22nd century, a paraplegic Marine is di...   \n",
            "1     285  Captain Barbossa, long believed to be dead, ha...   \n",
            "2  206647  A cryptic message from Bond’s past sends him o...   \n",
            "3   49026  Following the death of District Attorney Harve...   \n",
            "4   49529  John Carter is a war-weary, former military ca...   \n",
            "\n",
            "                                      title  \n",
            "0                                    Avatar  \n",
            "1  Pirates of the Caribbean: At World's End  \n",
            "2                                   Spectre  \n",
            "3                     The Dark Knight Rises  \n",
            "4                               John Carter  \n"
          ]
        }
      ],
      "source": [
        "# Load the movies dataset\n",
        "movies = pd.read_csv('/content/drive/MyDrive/DeepTech/Movie_Recommender_System/movies.csv', usecols=['id', 'overview', 'title'], nrows=500000)\n",
        "print(movies.head())"
      ]
    },
    {
      "cell_type": "code",
      "execution_count": null,
      "metadata": {
        "colab": {
          "base_uri": "https://localhost:8080/"
        },
        "id": "kWcYGDoGgEB-",
        "outputId": "dbc111fa-f956-4c4c-9651-f2356bc3b1ff"
      },
      "outputs": [
        {
          "output_type": "stream",
          "name": "stdout",
          "text": [
            "(4803, 3)\n"
          ]
        }
      ],
      "source": [
        "print(movies.shape)\n"
      ]
    },
    {
      "cell_type": "code",
      "execution_count": null,
      "metadata": {
        "id": "wG0aaHbntuHu"
      },
      "outputs": [],
      "source": [
        "\n",
        "# Load the datasets\n",
        "#ratings = pd.read_csv('/content/u.data', sep='\\t', names=['user_id', 'movie_id', 'rating', 'timestamp'], encoding='latin-1')\n",
        "#print(ratings.head())\n",
        "#ratings.shape"
      ]
    },
    {
      "cell_type": "code",
      "execution_count": null,
      "metadata": {
        "colab": {
          "base_uri": "https://localhost:8080/",
          "height": 300
        },
        "id": "G71sfhFEebdq",
        "outputId": "1df54682-ef6d-4f91-cb7d-f2e4682b1ef8"
      },
      "outputs": [
        {
          "output_type": "execute_result",
          "data": {
            "text/plain": [
              "                  id\n",
              "count    4803.000000\n",
              "mean    57165.484281\n",
              "std     88694.614033\n",
              "min         5.000000\n",
              "25%      9014.500000\n",
              "50%     14629.000000\n",
              "75%     58610.500000\n",
              "max    459488.000000"
            ],
            "text/html": [
              "\n",
              "  <div id=\"df-076c6f8e-5e12-4e02-8b13-f2a024f0b98c\" class=\"colab-df-container\">\n",
              "    <div>\n",
              "<style scoped>\n",
              "    .dataframe tbody tr th:only-of-type {\n",
              "        vertical-align: middle;\n",
              "    }\n",
              "\n",
              "    .dataframe tbody tr th {\n",
              "        vertical-align: top;\n",
              "    }\n",
              "\n",
              "    .dataframe thead th {\n",
              "        text-align: right;\n",
              "    }\n",
              "</style>\n",
              "<table border=\"1\" class=\"dataframe\">\n",
              "  <thead>\n",
              "    <tr style=\"text-align: right;\">\n",
              "      <th></th>\n",
              "      <th>id</th>\n",
              "    </tr>\n",
              "  </thead>\n",
              "  <tbody>\n",
              "    <tr>\n",
              "      <th>count</th>\n",
              "      <td>4803.000000</td>\n",
              "    </tr>\n",
              "    <tr>\n",
              "      <th>mean</th>\n",
              "      <td>57165.484281</td>\n",
              "    </tr>\n",
              "    <tr>\n",
              "      <th>std</th>\n",
              "      <td>88694.614033</td>\n",
              "    </tr>\n",
              "    <tr>\n",
              "      <th>min</th>\n",
              "      <td>5.000000</td>\n",
              "    </tr>\n",
              "    <tr>\n",
              "      <th>25%</th>\n",
              "      <td>9014.500000</td>\n",
              "    </tr>\n",
              "    <tr>\n",
              "      <th>50%</th>\n",
              "      <td>14629.000000</td>\n",
              "    </tr>\n",
              "    <tr>\n",
              "      <th>75%</th>\n",
              "      <td>58610.500000</td>\n",
              "    </tr>\n",
              "    <tr>\n",
              "      <th>max</th>\n",
              "      <td>459488.000000</td>\n",
              "    </tr>\n",
              "  </tbody>\n",
              "</table>\n",
              "</div>\n",
              "    <div class=\"colab-df-buttons\">\n",
              "\n",
              "  <div class=\"colab-df-container\">\n",
              "    <button class=\"colab-df-convert\" onclick=\"convertToInteractive('df-076c6f8e-5e12-4e02-8b13-f2a024f0b98c')\"\n",
              "            title=\"Convert this dataframe to an interactive table.\"\n",
              "            style=\"display:none;\">\n",
              "\n",
              "  <svg xmlns=\"http://www.w3.org/2000/svg\" height=\"24px\" viewBox=\"0 -960 960 960\">\n",
              "    <path d=\"M120-120v-720h720v720H120Zm60-500h600v-160H180v160Zm220 220h160v-160H400v160Zm0 220h160v-160H400v160ZM180-400h160v-160H180v160Zm440 0h160v-160H620v160ZM180-180h160v-160H180v160Zm440 0h160v-160H620v160Z\"/>\n",
              "  </svg>\n",
              "    </button>\n",
              "\n",
              "  <style>\n",
              "    .colab-df-container {\n",
              "      display:flex;\n",
              "      gap: 12px;\n",
              "    }\n",
              "\n",
              "    .colab-df-convert {\n",
              "      background-color: #E8F0FE;\n",
              "      border: none;\n",
              "      border-radius: 50%;\n",
              "      cursor: pointer;\n",
              "      display: none;\n",
              "      fill: #1967D2;\n",
              "      height: 32px;\n",
              "      padding: 0 0 0 0;\n",
              "      width: 32px;\n",
              "    }\n",
              "\n",
              "    .colab-df-convert:hover {\n",
              "      background-color: #E2EBFA;\n",
              "      box-shadow: 0px 1px 2px rgba(60, 64, 67, 0.3), 0px 1px 3px 1px rgba(60, 64, 67, 0.15);\n",
              "      fill: #174EA6;\n",
              "    }\n",
              "\n",
              "    .colab-df-buttons div {\n",
              "      margin-bottom: 4px;\n",
              "    }\n",
              "\n",
              "    [theme=dark] .colab-df-convert {\n",
              "      background-color: #3B4455;\n",
              "      fill: #D2E3FC;\n",
              "    }\n",
              "\n",
              "    [theme=dark] .colab-df-convert:hover {\n",
              "      background-color: #434B5C;\n",
              "      box-shadow: 0px 1px 3px 1px rgba(0, 0, 0, 0.15);\n",
              "      filter: drop-shadow(0px 1px 2px rgba(0, 0, 0, 0.3));\n",
              "      fill: #FFFFFF;\n",
              "    }\n",
              "  </style>\n",
              "\n",
              "    <script>\n",
              "      const buttonEl =\n",
              "        document.querySelector('#df-076c6f8e-5e12-4e02-8b13-f2a024f0b98c button.colab-df-convert');\n",
              "      buttonEl.style.display =\n",
              "        google.colab.kernel.accessAllowed ? 'block' : 'none';\n",
              "\n",
              "      async function convertToInteractive(key) {\n",
              "        const element = document.querySelector('#df-076c6f8e-5e12-4e02-8b13-f2a024f0b98c');\n",
              "        const dataTable =\n",
              "          await google.colab.kernel.invokeFunction('convertToInteractive',\n",
              "                                                    [key], {});\n",
              "        if (!dataTable) return;\n",
              "\n",
              "        const docLinkHtml = 'Like what you see? Visit the ' +\n",
              "          '<a target=\"_blank\" href=https://colab.research.google.com/notebooks/data_table.ipynb>data table notebook</a>'\n",
              "          + ' to learn more about interactive tables.';\n",
              "        element.innerHTML = '';\n",
              "        dataTable['output_type'] = 'display_data';\n",
              "        await google.colab.output.renderOutput(dataTable, element);\n",
              "        const docLink = document.createElement('div');\n",
              "        docLink.innerHTML = docLinkHtml;\n",
              "        element.appendChild(docLink);\n",
              "      }\n",
              "    </script>\n",
              "  </div>\n",
              "\n",
              "\n",
              "    <div id=\"df-af3b142d-6179-4a52-aa4e-9cd9927e8f37\">\n",
              "      <button class=\"colab-df-quickchart\" onclick=\"quickchart('df-af3b142d-6179-4a52-aa4e-9cd9927e8f37')\"\n",
              "                title=\"Suggest charts\"\n",
              "                style=\"display:none;\">\n",
              "\n",
              "<svg xmlns=\"http://www.w3.org/2000/svg\" height=\"24px\"viewBox=\"0 0 24 24\"\n",
              "     width=\"24px\">\n",
              "    <g>\n",
              "        <path d=\"M19 3H5c-1.1 0-2 .9-2 2v14c0 1.1.9 2 2 2h14c1.1 0 2-.9 2-2V5c0-1.1-.9-2-2-2zM9 17H7v-7h2v7zm4 0h-2V7h2v10zm4 0h-2v-4h2v4z\"/>\n",
              "    </g>\n",
              "</svg>\n",
              "      </button>\n",
              "\n",
              "<style>\n",
              "  .colab-df-quickchart {\n",
              "      --bg-color: #E8F0FE;\n",
              "      --fill-color: #1967D2;\n",
              "      --hover-bg-color: #E2EBFA;\n",
              "      --hover-fill-color: #174EA6;\n",
              "      --disabled-fill-color: #AAA;\n",
              "      --disabled-bg-color: #DDD;\n",
              "  }\n",
              "\n",
              "  [theme=dark] .colab-df-quickchart {\n",
              "      --bg-color: #3B4455;\n",
              "      --fill-color: #D2E3FC;\n",
              "      --hover-bg-color: #434B5C;\n",
              "      --hover-fill-color: #FFFFFF;\n",
              "      --disabled-bg-color: #3B4455;\n",
              "      --disabled-fill-color: #666;\n",
              "  }\n",
              "\n",
              "  .colab-df-quickchart {\n",
              "    background-color: var(--bg-color);\n",
              "    border: none;\n",
              "    border-radius: 50%;\n",
              "    cursor: pointer;\n",
              "    display: none;\n",
              "    fill: var(--fill-color);\n",
              "    height: 32px;\n",
              "    padding: 0;\n",
              "    width: 32px;\n",
              "  }\n",
              "\n",
              "  .colab-df-quickchart:hover {\n",
              "    background-color: var(--hover-bg-color);\n",
              "    box-shadow: 0 1px 2px rgba(60, 64, 67, 0.3), 0 1px 3px 1px rgba(60, 64, 67, 0.15);\n",
              "    fill: var(--button-hover-fill-color);\n",
              "  }\n",
              "\n",
              "  .colab-df-quickchart-complete:disabled,\n",
              "  .colab-df-quickchart-complete:disabled:hover {\n",
              "    background-color: var(--disabled-bg-color);\n",
              "    fill: var(--disabled-fill-color);\n",
              "    box-shadow: none;\n",
              "  }\n",
              "\n",
              "  .colab-df-spinner {\n",
              "    border: 2px solid var(--fill-color);\n",
              "    border-color: transparent;\n",
              "    border-bottom-color: var(--fill-color);\n",
              "    animation:\n",
              "      spin 1s steps(1) infinite;\n",
              "  }\n",
              "\n",
              "  @keyframes spin {\n",
              "    0% {\n",
              "      border-color: transparent;\n",
              "      border-bottom-color: var(--fill-color);\n",
              "      border-left-color: var(--fill-color);\n",
              "    }\n",
              "    20% {\n",
              "      border-color: transparent;\n",
              "      border-left-color: var(--fill-color);\n",
              "      border-top-color: var(--fill-color);\n",
              "    }\n",
              "    30% {\n",
              "      border-color: transparent;\n",
              "      border-left-color: var(--fill-color);\n",
              "      border-top-color: var(--fill-color);\n",
              "      border-right-color: var(--fill-color);\n",
              "    }\n",
              "    40% {\n",
              "      border-color: transparent;\n",
              "      border-right-color: var(--fill-color);\n",
              "      border-top-color: var(--fill-color);\n",
              "    }\n",
              "    60% {\n",
              "      border-color: transparent;\n",
              "      border-right-color: var(--fill-color);\n",
              "    }\n",
              "    80% {\n",
              "      border-color: transparent;\n",
              "      border-right-color: var(--fill-color);\n",
              "      border-bottom-color: var(--fill-color);\n",
              "    }\n",
              "    90% {\n",
              "      border-color: transparent;\n",
              "      border-bottom-color: var(--fill-color);\n",
              "    }\n",
              "  }\n",
              "</style>\n",
              "\n",
              "      <script>\n",
              "        async function quickchart(key) {\n",
              "          const quickchartButtonEl =\n",
              "            document.querySelector('#' + key + ' button');\n",
              "          quickchartButtonEl.disabled = true;  // To prevent multiple clicks.\n",
              "          quickchartButtonEl.classList.add('colab-df-spinner');\n",
              "          try {\n",
              "            const charts = await google.colab.kernel.invokeFunction(\n",
              "                'suggestCharts', [key], {});\n",
              "          } catch (error) {\n",
              "            console.error('Error during call to suggestCharts:', error);\n",
              "          }\n",
              "          quickchartButtonEl.classList.remove('colab-df-spinner');\n",
              "          quickchartButtonEl.classList.add('colab-df-quickchart-complete');\n",
              "        }\n",
              "        (() => {\n",
              "          let quickchartButtonEl =\n",
              "            document.querySelector('#df-af3b142d-6179-4a52-aa4e-9cd9927e8f37 button');\n",
              "          quickchartButtonEl.style.display =\n",
              "            google.colab.kernel.accessAllowed ? 'block' : 'none';\n",
              "        })();\n",
              "      </script>\n",
              "    </div>\n",
              "\n",
              "    </div>\n",
              "  </div>\n"
            ],
            "application/vnd.google.colaboratory.intrinsic+json": {
              "type": "dataframe",
              "summary": "{\n  \"name\": \"movies\",\n  \"rows\": 8,\n  \"fields\": [\n    {\n      \"column\": \"id\",\n      \"properties\": {\n        \"dtype\": \"number\",\n        \"std\": 154035.43639610297,\n        \"min\": 5.0,\n        \"max\": 459488.0,\n        \"num_unique_values\": 8,\n        \"samples\": [\n          57165.484280657925,\n          14629.0,\n          4803.0\n        ],\n        \"semantic_type\": \"\",\n        \"description\": \"\"\n      }\n    }\n  ]\n}"
            }
          },
          "metadata": {},
          "execution_count": 7
        }
      ],
      "source": [
        "movies.describe()"
      ]
    },
    {
      "cell_type": "code",
      "execution_count": null,
      "metadata": {
        "colab": {
          "base_uri": "https://localhost:8080/"
        },
        "id": "cigjGlMBlKMW",
        "outputId": "826cca23-bfcb-4b20-a5b2-eff8733615c8"
      },
      "outputs": [
        {
          "output_type": "stream",
          "name": "stdout",
          "text": [
            "   userId  movieId  rating   timestamp\n",
            "0       1        2     3.5  1112486027\n",
            "1       1       29     3.5  1112484676\n",
            "2       1       32     3.5  1112484819\n",
            "3       1       47     3.5  1112484727\n",
            "4       1       50     3.5  1112484580\n"
          ]
        },
        {
          "output_type": "execute_result",
          "data": {
            "text/plain": [
              "(500000, 4)"
            ]
          },
          "metadata": {},
          "execution_count": 3
        }
      ],
      "source": [
        "# Load the datasets\n",
        "ratings = pd.read_csv('/content/drive/MyDrive/DeepTech/Movie_Recommender_System/ratings.csv', nrows=500000)\n",
        "print(ratings.head())\n",
        "ratings.shape"
      ]
    },
    {
      "cell_type": "code",
      "execution_count": null,
      "metadata": {
        "colab": {
          "base_uri": "https://localhost:8080/"
        },
        "id": "8LbB_kp6pasP",
        "outputId": "0e747e8c-732f-4149-b1d2-dab385093fc7"
      },
      "outputs": [
        {
          "output_type": "execute_result",
          "data": {
            "text/plain": [
              "(500000, 4)"
            ]
          },
          "metadata": {},
          "execution_count": 9
        }
      ],
      "source": [
        "ratings.shape"
      ]
    },
    {
      "cell_type": "code",
      "execution_count": null,
      "metadata": {
        "colab": {
          "base_uri": "https://localhost:8080/",
          "height": 300
        },
        "id": "hQMIXRmqRerZ",
        "outputId": "e4ead97f-cc58-4e4a-8ef1-153f617a2b28"
      },
      "outputs": [
        {
          "output_type": "execute_result",
          "data": {
            "text/plain": [
              "              userId        movieId         rating     timestamp\n",
              "count  500000.000000  500000.000000  500000.000000  5.000000e+05\n",
              "mean     1707.095956    8605.584772       3.520987  1.096408e+09\n",
              "std       974.501363   19089.428753       1.053267  1.606304e+08\n",
              "min         1.000000       1.000000       0.500000  8.269282e+08\n",
              "25%       847.000000     892.750000       3.000000  9.652847e+08\n",
              "50%      1734.000000    2138.000000       4.000000  1.100423e+09\n",
              "75%      2544.000000    4638.000000       4.000000  1.210910e+09\n",
              "max      3374.000000  130490.000000       5.000000  1.427762e+09"
            ],
            "text/html": [
              "\n",
              "  <div id=\"df-0e140c48-84b0-4cc9-8ee3-2011caf79c3f\" class=\"colab-df-container\">\n",
              "    <div>\n",
              "<style scoped>\n",
              "    .dataframe tbody tr th:only-of-type {\n",
              "        vertical-align: middle;\n",
              "    }\n",
              "\n",
              "    .dataframe tbody tr th {\n",
              "        vertical-align: top;\n",
              "    }\n",
              "\n",
              "    .dataframe thead th {\n",
              "        text-align: right;\n",
              "    }\n",
              "</style>\n",
              "<table border=\"1\" class=\"dataframe\">\n",
              "  <thead>\n",
              "    <tr style=\"text-align: right;\">\n",
              "      <th></th>\n",
              "      <th>userId</th>\n",
              "      <th>movieId</th>\n",
              "      <th>rating</th>\n",
              "      <th>timestamp</th>\n",
              "    </tr>\n",
              "  </thead>\n",
              "  <tbody>\n",
              "    <tr>\n",
              "      <th>count</th>\n",
              "      <td>500000.000000</td>\n",
              "      <td>500000.000000</td>\n",
              "      <td>500000.000000</td>\n",
              "      <td>5.000000e+05</td>\n",
              "    </tr>\n",
              "    <tr>\n",
              "      <th>mean</th>\n",
              "      <td>1707.095956</td>\n",
              "      <td>8605.584772</td>\n",
              "      <td>3.520987</td>\n",
              "      <td>1.096408e+09</td>\n",
              "    </tr>\n",
              "    <tr>\n",
              "      <th>std</th>\n",
              "      <td>974.501363</td>\n",
              "      <td>19089.428753</td>\n",
              "      <td>1.053267</td>\n",
              "      <td>1.606304e+08</td>\n",
              "    </tr>\n",
              "    <tr>\n",
              "      <th>min</th>\n",
              "      <td>1.000000</td>\n",
              "      <td>1.000000</td>\n",
              "      <td>0.500000</td>\n",
              "      <td>8.269282e+08</td>\n",
              "    </tr>\n",
              "    <tr>\n",
              "      <th>25%</th>\n",
              "      <td>847.000000</td>\n",
              "      <td>892.750000</td>\n",
              "      <td>3.000000</td>\n",
              "      <td>9.652847e+08</td>\n",
              "    </tr>\n",
              "    <tr>\n",
              "      <th>50%</th>\n",
              "      <td>1734.000000</td>\n",
              "      <td>2138.000000</td>\n",
              "      <td>4.000000</td>\n",
              "      <td>1.100423e+09</td>\n",
              "    </tr>\n",
              "    <tr>\n",
              "      <th>75%</th>\n",
              "      <td>2544.000000</td>\n",
              "      <td>4638.000000</td>\n",
              "      <td>4.000000</td>\n",
              "      <td>1.210910e+09</td>\n",
              "    </tr>\n",
              "    <tr>\n",
              "      <th>max</th>\n",
              "      <td>3374.000000</td>\n",
              "      <td>130490.000000</td>\n",
              "      <td>5.000000</td>\n",
              "      <td>1.427762e+09</td>\n",
              "    </tr>\n",
              "  </tbody>\n",
              "</table>\n",
              "</div>\n",
              "    <div class=\"colab-df-buttons\">\n",
              "\n",
              "  <div class=\"colab-df-container\">\n",
              "    <button class=\"colab-df-convert\" onclick=\"convertToInteractive('df-0e140c48-84b0-4cc9-8ee3-2011caf79c3f')\"\n",
              "            title=\"Convert this dataframe to an interactive table.\"\n",
              "            style=\"display:none;\">\n",
              "\n",
              "  <svg xmlns=\"http://www.w3.org/2000/svg\" height=\"24px\" viewBox=\"0 -960 960 960\">\n",
              "    <path d=\"M120-120v-720h720v720H120Zm60-500h600v-160H180v160Zm220 220h160v-160H400v160Zm0 220h160v-160H400v160ZM180-400h160v-160H180v160Zm440 0h160v-160H620v160ZM180-180h160v-160H180v160Zm440 0h160v-160H620v160Z\"/>\n",
              "  </svg>\n",
              "    </button>\n",
              "\n",
              "  <style>\n",
              "    .colab-df-container {\n",
              "      display:flex;\n",
              "      gap: 12px;\n",
              "    }\n",
              "\n",
              "    .colab-df-convert {\n",
              "      background-color: #E8F0FE;\n",
              "      border: none;\n",
              "      border-radius: 50%;\n",
              "      cursor: pointer;\n",
              "      display: none;\n",
              "      fill: #1967D2;\n",
              "      height: 32px;\n",
              "      padding: 0 0 0 0;\n",
              "      width: 32px;\n",
              "    }\n",
              "\n",
              "    .colab-df-convert:hover {\n",
              "      background-color: #E2EBFA;\n",
              "      box-shadow: 0px 1px 2px rgba(60, 64, 67, 0.3), 0px 1px 3px 1px rgba(60, 64, 67, 0.15);\n",
              "      fill: #174EA6;\n",
              "    }\n",
              "\n",
              "    .colab-df-buttons div {\n",
              "      margin-bottom: 4px;\n",
              "    }\n",
              "\n",
              "    [theme=dark] .colab-df-convert {\n",
              "      background-color: #3B4455;\n",
              "      fill: #D2E3FC;\n",
              "    }\n",
              "\n",
              "    [theme=dark] .colab-df-convert:hover {\n",
              "      background-color: #434B5C;\n",
              "      box-shadow: 0px 1px 3px 1px rgba(0, 0, 0, 0.15);\n",
              "      filter: drop-shadow(0px 1px 2px rgba(0, 0, 0, 0.3));\n",
              "      fill: #FFFFFF;\n",
              "    }\n",
              "  </style>\n",
              "\n",
              "    <script>\n",
              "      const buttonEl =\n",
              "        document.querySelector('#df-0e140c48-84b0-4cc9-8ee3-2011caf79c3f button.colab-df-convert');\n",
              "      buttonEl.style.display =\n",
              "        google.colab.kernel.accessAllowed ? 'block' : 'none';\n",
              "\n",
              "      async function convertToInteractive(key) {\n",
              "        const element = document.querySelector('#df-0e140c48-84b0-4cc9-8ee3-2011caf79c3f');\n",
              "        const dataTable =\n",
              "          await google.colab.kernel.invokeFunction('convertToInteractive',\n",
              "                                                    [key], {});\n",
              "        if (!dataTable) return;\n",
              "\n",
              "        const docLinkHtml = 'Like what you see? Visit the ' +\n",
              "          '<a target=\"_blank\" href=https://colab.research.google.com/notebooks/data_table.ipynb>data table notebook</a>'\n",
              "          + ' to learn more about interactive tables.';\n",
              "        element.innerHTML = '';\n",
              "        dataTable['output_type'] = 'display_data';\n",
              "        await google.colab.output.renderOutput(dataTable, element);\n",
              "        const docLink = document.createElement('div');\n",
              "        docLink.innerHTML = docLinkHtml;\n",
              "        element.appendChild(docLink);\n",
              "      }\n",
              "    </script>\n",
              "  </div>\n",
              "\n",
              "\n",
              "    <div id=\"df-f2f47624-1a17-4003-bacf-61b503a9dbd9\">\n",
              "      <button class=\"colab-df-quickchart\" onclick=\"quickchart('df-f2f47624-1a17-4003-bacf-61b503a9dbd9')\"\n",
              "                title=\"Suggest charts\"\n",
              "                style=\"display:none;\">\n",
              "\n",
              "<svg xmlns=\"http://www.w3.org/2000/svg\" height=\"24px\"viewBox=\"0 0 24 24\"\n",
              "     width=\"24px\">\n",
              "    <g>\n",
              "        <path d=\"M19 3H5c-1.1 0-2 .9-2 2v14c0 1.1.9 2 2 2h14c1.1 0 2-.9 2-2V5c0-1.1-.9-2-2-2zM9 17H7v-7h2v7zm4 0h-2V7h2v10zm4 0h-2v-4h2v4z\"/>\n",
              "    </g>\n",
              "</svg>\n",
              "      </button>\n",
              "\n",
              "<style>\n",
              "  .colab-df-quickchart {\n",
              "      --bg-color: #E8F0FE;\n",
              "      --fill-color: #1967D2;\n",
              "      --hover-bg-color: #E2EBFA;\n",
              "      --hover-fill-color: #174EA6;\n",
              "      --disabled-fill-color: #AAA;\n",
              "      --disabled-bg-color: #DDD;\n",
              "  }\n",
              "\n",
              "  [theme=dark] .colab-df-quickchart {\n",
              "      --bg-color: #3B4455;\n",
              "      --fill-color: #D2E3FC;\n",
              "      --hover-bg-color: #434B5C;\n",
              "      --hover-fill-color: #FFFFFF;\n",
              "      --disabled-bg-color: #3B4455;\n",
              "      --disabled-fill-color: #666;\n",
              "  }\n",
              "\n",
              "  .colab-df-quickchart {\n",
              "    background-color: var(--bg-color);\n",
              "    border: none;\n",
              "    border-radius: 50%;\n",
              "    cursor: pointer;\n",
              "    display: none;\n",
              "    fill: var(--fill-color);\n",
              "    height: 32px;\n",
              "    padding: 0;\n",
              "    width: 32px;\n",
              "  }\n",
              "\n",
              "  .colab-df-quickchart:hover {\n",
              "    background-color: var(--hover-bg-color);\n",
              "    box-shadow: 0 1px 2px rgba(60, 64, 67, 0.3), 0 1px 3px 1px rgba(60, 64, 67, 0.15);\n",
              "    fill: var(--button-hover-fill-color);\n",
              "  }\n",
              "\n",
              "  .colab-df-quickchart-complete:disabled,\n",
              "  .colab-df-quickchart-complete:disabled:hover {\n",
              "    background-color: var(--disabled-bg-color);\n",
              "    fill: var(--disabled-fill-color);\n",
              "    box-shadow: none;\n",
              "  }\n",
              "\n",
              "  .colab-df-spinner {\n",
              "    border: 2px solid var(--fill-color);\n",
              "    border-color: transparent;\n",
              "    border-bottom-color: var(--fill-color);\n",
              "    animation:\n",
              "      spin 1s steps(1) infinite;\n",
              "  }\n",
              "\n",
              "  @keyframes spin {\n",
              "    0% {\n",
              "      border-color: transparent;\n",
              "      border-bottom-color: var(--fill-color);\n",
              "      border-left-color: var(--fill-color);\n",
              "    }\n",
              "    20% {\n",
              "      border-color: transparent;\n",
              "      border-left-color: var(--fill-color);\n",
              "      border-top-color: var(--fill-color);\n",
              "    }\n",
              "    30% {\n",
              "      border-color: transparent;\n",
              "      border-left-color: var(--fill-color);\n",
              "      border-top-color: var(--fill-color);\n",
              "      border-right-color: var(--fill-color);\n",
              "    }\n",
              "    40% {\n",
              "      border-color: transparent;\n",
              "      border-right-color: var(--fill-color);\n",
              "      border-top-color: var(--fill-color);\n",
              "    }\n",
              "    60% {\n",
              "      border-color: transparent;\n",
              "      border-right-color: var(--fill-color);\n",
              "    }\n",
              "    80% {\n",
              "      border-color: transparent;\n",
              "      border-right-color: var(--fill-color);\n",
              "      border-bottom-color: var(--fill-color);\n",
              "    }\n",
              "    90% {\n",
              "      border-color: transparent;\n",
              "      border-bottom-color: var(--fill-color);\n",
              "    }\n",
              "  }\n",
              "</style>\n",
              "\n",
              "      <script>\n",
              "        async function quickchart(key) {\n",
              "          const quickchartButtonEl =\n",
              "            document.querySelector('#' + key + ' button');\n",
              "          quickchartButtonEl.disabled = true;  // To prevent multiple clicks.\n",
              "          quickchartButtonEl.classList.add('colab-df-spinner');\n",
              "          try {\n",
              "            const charts = await google.colab.kernel.invokeFunction(\n",
              "                'suggestCharts', [key], {});\n",
              "          } catch (error) {\n",
              "            console.error('Error during call to suggestCharts:', error);\n",
              "          }\n",
              "          quickchartButtonEl.classList.remove('colab-df-spinner');\n",
              "          quickchartButtonEl.classList.add('colab-df-quickchart-complete');\n",
              "        }\n",
              "        (() => {\n",
              "          let quickchartButtonEl =\n",
              "            document.querySelector('#df-f2f47624-1a17-4003-bacf-61b503a9dbd9 button');\n",
              "          quickchartButtonEl.style.display =\n",
              "            google.colab.kernel.accessAllowed ? 'block' : 'none';\n",
              "        })();\n",
              "      </script>\n",
              "    </div>\n",
              "\n",
              "    </div>\n",
              "  </div>\n"
            ],
            "application/vnd.google.colaboratory.intrinsic+json": {
              "type": "dataframe",
              "summary": "{\n  \"name\": \"ratings\",\n  \"rows\": 8,\n  \"fields\": [\n    {\n      \"column\": \"userId\",\n      \"properties\": {\n        \"dtype\": \"number\",\n        \"std\": 176215.01299258333,\n        \"min\": 1.0,\n        \"max\": 500000.0,\n        \"num_unique_values\": 8,\n        \"samples\": [\n          1707.095956,\n          1734.0,\n          500000.0\n        ],\n        \"semantic_type\": \"\",\n        \"description\": \"\"\n      }\n    },\n    {\n      \"column\": \"movieId\",\n      \"properties\": {\n        \"dtype\": \"number\",\n        \"std\": 174057.73295387274,\n        \"min\": 1.0,\n        \"max\": 500000.0,\n        \"num_unique_values\": 8,\n        \"samples\": [\n          8605.584772,\n          2138.0,\n          500000.0\n        ],\n        \"semantic_type\": \"\",\n        \"description\": \"\"\n      }\n    },\n    {\n      \"column\": \"rating\",\n      \"properties\": {\n        \"dtype\": \"number\",\n        \"std\": 176775.6308926408,\n        \"min\": 0.5,\n        \"max\": 500000.0,\n        \"num_unique_values\": 7,\n        \"samples\": [\n          500000.0,\n          3.520987,\n          4.0\n        ],\n        \"semantic_type\": \"\",\n        \"description\": \"\"\n      }\n    },\n    {\n      \"column\": \"timestamp\",\n      \"properties\": {\n        \"dtype\": \"number\",\n        \"std\": 506836354.11088336,\n        \"min\": 500000.0,\n        \"max\": 1427761906.0,\n        \"num_unique_values\": 8,\n        \"samples\": [\n          1096407860.267522,\n          1100423308.0,\n          500000.0\n        ],\n        \"semantic_type\": \"\",\n        \"description\": \"\"\n      }\n    }\n  ]\n}"
            }
          },
          "metadata": {},
          "execution_count": 10
        }
      ],
      "source": [
        "ratings.describe()"
      ]
    },
    {
      "cell_type": "code",
      "execution_count": null,
      "metadata": {
        "colab": {
          "base_uri": "https://localhost:8080/"
        },
        "id": "8nE3_b78rMIr",
        "outputId": "8fb87388-fba1-4807-bb2f-896092ffdf36"
      },
      "outputs": [
        {
          "output_type": "stream",
          "name": "stdout",
          "text": [
            "   user_id  movie_id  rating   timestamp\n",
            "0        1         2     3.5  1112486027\n",
            "1        1        29     3.5  1112484676\n",
            "2        1        32     3.5  1112484819\n",
            "3        1        47     3.5  1112484727\n",
            "4        1        50     3.5  1112484580\n"
          ]
        }
      ],
      "source": [
        "# Rename columns for consistency\n",
        "ratings = ratings.rename(columns={'userId': 'user_id', 'movieId': 'movie_id'})\n",
        "\n",
        "print(ratings.head())"
      ]
    },
    {
      "cell_type": "code",
      "execution_count": null,
      "metadata": {
        "id": "ARmtMjfTp9_n"
      },
      "outputs": [],
      "source": [
        "# Load the datasets\n",
        "#credits = pd.read_csv('/content/drive/MyDrive/DeepTech/Movie_Recommender_System/tmdb_5000_credits.csv')\n",
        "#print(credits.head())\n",
        "#credits.shape"
      ]
    },
    {
      "cell_type": "markdown",
      "metadata": {
        "id": "9WPeCoJ31h6g"
      },
      "source": [
        "# **DATA EXPLORATION**"
      ]
    },
    {
      "cell_type": "code",
      "execution_count": null,
      "metadata": {
        "colab": {
          "base_uri": "https://localhost:8080/",
          "height": 804
        },
        "id": "ASEhQcWKUDPO",
        "outputId": "7f068b24-7778-4e3a-d5d3-5523954a24a5"
      },
      "outputs": [
        {
          "output_type": "display_data",
          "data": {
            "text/plain": [
              "<Figure size 640x480 with 1 Axes>"
            ],
            "image/png": "[encoded data removed]"
          },
          "metadata": {}
        },
        {
          "output_type": "stream",
          "name": "stdout",
          "text": [
            "\n",
            "Summary of Rating Distribution:\n",
            "The histogram shows the distribution of movie ratings given by users.\n",
            "The majority of ratings appear to be towards the higher end of the scale (4s and 5s), indicating a general positive sentiment towards the movies.\n",
            "There are fewer ratings at the lower end (1s and 2s).\n",
            "This suggests that users are more likely to rate movies favorably or that the dataset is skewed towards movies that are generally well-received.\n",
            "rating\n",
            "5.0     70284\n",
            "4.5     38958\n",
            "4.0    141034\n",
            "3.5     54828\n",
            "3.0    108212\n",
            "2.5     21158\n",
            "2.0     34824\n",
            "1.5      6517\n",
            "1.0     17363\n",
            "0.5      6822\n",
            "Name: count, dtype: int64\n"
          ]
        }
      ],
      "source": [
        "\n",
        "import matplotlib.pyplot as plt\n",
        "\n",
        "# Histogram of Ratings\n",
        "ratings['rating'].hist(bins=5, edgecolor='black')\n",
        "plt.title('Distribution of Movie Ratings')\n",
        "plt.xlabel('Rating')\n",
        "plt.ylabel('Frequency')\n",
        "plt.show()\n",
        "\n",
        "# Summary of the trend\n",
        "print(\"\\nSummary of Rating Distribution:\")\n",
        "print(\"The histogram shows the distribution of movie ratings given by users.\")\n",
        "print(\"The majority of ratings appear to be towards the higher end of the scale (4s and 5s), indicating a general positive sentiment towards the movies.\")\n",
        "print(\"There are fewer ratings at the lower end (1s and 2s).\")\n",
        "print(\"This suggests that users are more likely to rate movies favorably or that the dataset is skewed towards movies that are generally well-received.\")\n",
        "print(ratings['rating'].value_counts().sort_index(ascending=False))"
      ]
    },
    {
      "cell_type": "code",
      "execution_count": null,
      "metadata": {
        "colab": {
          "base_uri": "https://localhost:8080/",
          "height": 723
        },
        "id": "hz1q0SkSWSwM",
        "outputId": "08254c1b-7d56-49ea-eeeb-4d33cda91000"
      },
      "outputs": [
        {
          "output_type": "display_data",
          "data": {
            "text/plain": [
              "<Figure size 1000x600 with 1 Axes>"
            ],
            "image/png": "[encoded data removed]"
          },
          "metadata": {}
        },
        {
          "output_type": "stream",
          "name": "stdout",
          "text": [
            "Summary of Number of Ratings per User:\n",
            "Total number of users: 3374\n",
            "Minimum number of ratings per user: 9\n",
            "Maximum number of ratings per user: 2644\n",
            "Average number of ratings per user: 148.19\n",
            "Median number of ratings per user: 70.0\n",
            "\n",
            "The histogram (on a log scale) shows a highly skewed distribution. A large number of users have rated a small number of movies (casual users), while a smaller number of users have rated a significantly larger number of movies (power users). This indicates a long-tail distribution of user activity.\n"
          ]
        }
      ],
      "source": [
        "# Number of Ratings per User\n",
        "\n",
        "import matplotlib.pyplot as plt\n",
        "# Calculate the number of ratings per user\n",
        "user_rating_counts = ratings['user_id'].value_counts()\n",
        "\n",
        "# Plot the histogram of number of ratings per user\n",
        "plt.figure(figsize=(10, 6))\n",
        "plt.hist(user_rating_counts.values, bins=50, log=True, edgecolor='black')\n",
        "plt.xlabel('Number of Ratings')\n",
        "plt.ylabel('Number of Users (log scale)')\n",
        "plt.title('Histogram of Number of Ratings per User')\n",
        "plt.grid(axis='y', alpha=0.75)\n",
        "plt.show()\n",
        "\n",
        "# Print a brief summary of the trend\n",
        "print(\"Summary of Number of Ratings per User:\")\n",
        "print(f\"Total number of users: {user_rating_counts.shape[0]}\")\n",
        "print(f\"Minimum number of ratings per user: {user_rating_counts.min()}\")\n",
        "print(f\"Maximum number of ratings per user: {user_rating_counts.max()}\")\n",
        "print(f\"Average number of ratings per user: {user_rating_counts.mean():.2f}\")\n",
        "print(f\"Median number of ratings per user: {user_rating_counts.median()}\")\n",
        "\n",
        "print(\"\\nThe histogram (on a log scale) shows a highly skewed distribution. A large number of users have rated a small number of movies (casual users), while a smaller number of users have rated a significantly larger number of movies (power users). This indicates a long-tail distribution of user activity.\")\n"
      ]
    },
    {
      "cell_type": "code",
      "execution_count": null,
      "metadata": {
        "colab": {
          "base_uri": "https://localhost:8080/",
          "height": 951
        },
        "id": "EbEmS4AHXbMr",
        "outputId": "ffef0b02-b9cb-486d-9138-541924b1e230"
      },
      "outputs": [
        {
          "output_type": "display_data",
          "data": {
            "text/plain": [
              "<Figure size 1000x800 with 1 Axes>"
            ],
            "image/png": "[encoded data removed]"
          },
          "metadata": {}
        },
        {
          "output_type": "stream",
          "name": "stdout",
          "text": [
            "\n",
            "Summary of User-Movie Matrix Sparsity:\n",
            "Shape of the user-movie matrix: (3374, 12277)\n",
            "Number of users: 3374\n",
            "Number of movies: 12277\n",
            "Total possible ratings: 41422598\n",
            "Actual ratings: 500000\n",
            "Sparsity of the matrix: 0.9879\n",
            "\n",
            "The heatmap visually represents the sparsity of the user-movie interaction matrix. The colored areas (where data points exist) are significantly less than the white areas (missing data points), indicating that each user has only rated a small fraction of the available movies. This high sparsity is typical in collaborative filtering datasets.\n"
          ]
        }
      ],
      "source": [
        "# User-Movie Matrix Heatmap using seaborn.heatmap to shows sparsity of the user-item matrix\n",
        "\n",
        "import matplotlib.pyplot as plt\n",
        "import seaborn as sns\n",
        "\n",
        "# Create the user-movie matrix\n",
        "user_movie_matrix = ratings.pivot(index='user_id', columns='movie_id', values='rating')\n",
        "\n",
        "# Plot the heatmap\n",
        "plt.figure(figsize=(10, 8))\n",
        "sns.heatmap(user_movie_matrix.isnull(), cbar=False, cmap='viridis')\n",
        "plt.title('Sparsity of User-Movie Rating Matrix')\n",
        "plt.xlabel('Movie ID')\n",
        "plt.ylabel('User ID')\n",
        "plt.show()\n",
        "\n",
        "print(\"\\nSummary of User-Movie Matrix Sparsity:\")\n",
        "print(f\"Shape of the user-movie matrix: {user_movie_matrix.shape}\")\n",
        "print(f\"Number of users: {user_movie_matrix.shape[0]}\")\n",
        "print(f\"Number of movies: {user_movie_matrix.shape[1]}\")\n",
        "total_cells = user_movie_matrix.shape[0] * user_movie_matrix.shape[1]\n",
        "filled_cells = user_movie_matrix.count().sum()\n",
        "sparsity = 1 - (filled_cells / total_cells)\n",
        "print(f\"Total possible ratings: {total_cells}\")\n",
        "print(f\"Actual ratings: {filled_cells}\")\n",
        "print(f\"Sparsity of the matrix: {sparsity:.4f}\")\n",
        "\n",
        "print(\"\\nThe heatmap visually represents the sparsity of the user-movie interaction matrix. The colored areas (where data points exist) are significantly less than the white areas (missing data points), indicating that each user has only rated a small fraction of the available movies. This high sparsity is typical in collaborative filtering datasets.\")"
      ]
    },
    {
      "cell_type": "code",
      "execution_count": null,
      "metadata": {
        "colab": {
          "base_uri": "https://localhost:8080/",
          "height": 522
        },
        "id": "PKQ25uc5grzy",
        "outputId": "710ede3f-2f82-4da6-d7b1-379799bf3d3d"
      },
      "outputs": [
        {
          "output_type": "display_data",
          "data": {
            "text/plain": [
              "<Figure size 800x500 with 1 Axes>"
            ],
            "image/png": "[encoded data removed]"
          },
          "metadata": {}
        },
        {
          "output_type": "stream",
          "name": "stdout",
          "text": [
            "\n",
            "Skewness of the 'rating' distribution: -0.6863\n"
          ]
        }
      ],
      "source": [
        "# checking for skewness is necessary\n",
        "\n",
        "import matplotlib.pyplot as plt\n",
        "# Analyze and visualize skewness of the 'rating' column\n",
        "plt.figure(figsize=(8, 5))\n",
        "sns.histplot(ratings['rating'], kde=True, bins=5, edgecolor='black')\n",
        "plt.title('Distribution of Movie Ratings with Skewness')\n",
        "plt.xlabel('Rating')\n",
        "plt.ylabel('Frequency')\n",
        "plt.show()\n",
        "\n",
        "# Calculate skewness\n",
        "skewness = ratings['rating'].skew()\n",
        "print(f\"\\nSkewness of the 'rating' distribution: {skewness:.4f}\")\n",
        "\n"
      ]
    },
    {
      "cell_type": "markdown",
      "metadata": {
        "id": "ZStJdrcmWcZN"
      },
      "source": []
    },
    {
      "cell_type": "markdown",
      "metadata": {
        "id": "EJGAluDCWcdn"
      },
      "source": [
        "A skewness of -0.6553 in the 'rating' distribution means the data is left-skewed, with most values concentrated on the higher end (e.g., mostly 4-5 star ratings) and a few lower values pulling the tail to the left. This suggests that the product/service is generally well-rated, with fewer poor reviews."
      ]
    },
    {
      "cell_type": "markdown",
      "metadata": {
        "id": "eCdLBeDmxsCA"
      },
      "source": [
        "# **Data Preprocessing**\n",
        "####  Merging the two data sets\n",
        "#### Extracting the most important columns\n",
        "#### Checking for null values and duplicates"
      ]
    },
    {
      "cell_type": "code",
      "execution_count": null,
      "metadata": {
        "colab": {
          "base_uri": "https://localhost:8080/",
          "height": 206
        },
        "id": "stOQ3KLBpiEu",
        "outputId": "26536c6b-ba18-4e4c-c0a8-c8ae5a9d651c"
      },
      "outputs": [
        {
          "output_type": "execute_result",
          "data": {
            "text/plain": [
              "   user_id  movie_id  rating   timestamp  \\\n",
              "0        1       223     4.0  1112485573   \n",
              "1        1       253     4.0  1112484940   \n",
              "2        1       296     4.0  1112484767   \n",
              "3        1       593     3.5  1112484661   \n",
              "4        1       924     3.5  1094785598   \n",
              "\n",
              "                                            overview  \\\n",
              "0  A self-conscious bride is tormented by the mem...   \n",
              "1  James Bond must investigate a mysterious murde...   \n",
              "2  It's been 10 years since John Connor saved Ear...   \n",
              "3  Ground control has been receiving strange tran...   \n",
              "4  A group of surviving people take refuge in a s...   \n",
              "\n",
              "                                title  \n",
              "0                             Rebecca  \n",
              "1                    Live and Let Die  \n",
              "2  Terminator 3: Rise of the Machines  \n",
              "3                             Solaris  \n",
              "4                    Dawn of the Dead  "
            ],
            "text/html": [
              "\n",
              "  <div id=\"df-be40e2b9-b2a4-485d-b212-551c46e1048b\" class=\"colab-df-container\">\n",
              "    <div>\n",
              "<style scoped>\n",
              "    .dataframe tbody tr th:only-of-type {\n",
              "        vertical-align: middle;\n",
              "    }\n",
              "\n",
              "    .dataframe tbody tr th {\n",
              "        vertical-align: top;\n",
              "    }\n",
              "\n",
              "    .dataframe thead th {\n",
              "        text-align: right;\n",
              "    }\n",
              "</style>\n",
              "<table border=\"1\" class=\"dataframe\">\n",
              "  <thead>\n",
              "    <tr style=\"text-align: right;\">\n",
              "      <th></th>\n",
              "      <th>user_id</th>\n",
              "      <th>movie_id</th>\n",
              "      <th>rating</th>\n",
              "      <th>timestamp</th>\n",
              "      <th>overview</th>\n",
              "      <th>title</th>\n",
              "    </tr>\n",
              "  </thead>\n",
              "  <tbody>\n",
              "    <tr>\n",
              "      <th>0</th>\n",
              "      <td>1</td>\n",
              "      <td>223</td>\n",
              "      <td>4.0</td>\n",
              "      <td>1112485573</td>\n",
              "      <td>A self-conscious bride is tormented by the mem...</td>\n",
              "      <td>Rebecca</td>\n",
              "    </tr>\n",
              "    <tr>\n",
              "      <th>1</th>\n",
              "      <td>1</td>\n",
              "      <td>253</td>\n",
              "      <td>4.0</td>\n",
              "      <td>1112484940</td>\n",
              "      <td>James Bond must investigate a mysterious murde...</td>\n",
              "      <td>Live and Let Die</td>\n",
              "    </tr>\n",
              "    <tr>\n",
              "      <th>2</th>\n",
              "      <td>1</td>\n",
              "      <td>296</td>\n",
              "      <td>4.0</td>\n",
              "      <td>1112484767</td>\n",
              "      <td>It's been 10 years since John Connor saved Ear...</td>\n",
              "      <td>Terminator 3: Rise of the Machines</td>\n",
              "    </tr>\n",
              "    <tr>\n",
              "      <th>3</th>\n",
              "      <td>1</td>\n",
              "      <td>593</td>\n",
              "      <td>3.5</td>\n",
              "      <td>1112484661</td>\n",
              "      <td>Ground control has been receiving strange tran...</td>\n",
              "      <td>Solaris</td>\n",
              "    </tr>\n",
              "    <tr>\n",
              "      <th>4</th>\n",
              "      <td>1</td>\n",
              "      <td>924</td>\n",
              "      <td>3.5</td>\n",
              "      <td>1094785598</td>\n",
              "      <td>A group of surviving people take refuge in a s...</td>\n",
              "      <td>Dawn of the Dead</td>\n",
              "    </tr>\n",
              "  </tbody>\n",
              "</table>\n",
              "</div>\n",
              "    <div class=\"colab-df-buttons\">\n",
              "\n",
              "  <div class=\"colab-df-container\">\n",
              "    <button class=\"colab-df-convert\" onclick=\"convertToInteractive('df-be40e2b9-b2a4-485d-b212-551c46e1048b')\"\n",
              "            title=\"Convert this dataframe to an interactive table.\"\n",
              "            style=\"display:none;\">\n",
              "\n",
              "  <svg xmlns=\"http://www.w3.org/2000/svg\" height=\"24px\" viewBox=\"0 -960 960 960\">\n",
              "    <path d=\"M120-120v-720h720v720H120Zm60-500h600v-160H180v160Zm220 220h160v-160H400v160Zm0 220h160v-160H400v160ZM180-400h160v-160H180v160Zm440 0h160v-160H620v160ZM180-180h160v-160H180v160Zm440 0h160v-160H620v160Z\"/>\n",
              "  </svg>\n",
              "    </button>\n",
              "\n",
              "  <style>\n",
              "    .colab-df-container {\n",
              "      display:flex;\n",
              "      gap: 12px;\n",
              "    }\n",
              "\n",
              "    .colab-df-convert {\n",
              "      background-color: #E8F0FE;\n",
              "      border: none;\n",
              "      border-radius: 50%;\n",
              "      cursor: pointer;\n",
              "      display: none;\n",
              "      fill: #1967D2;\n",
              "      height: 32px;\n",
              "      padding: 0 0 0 0;\n",
              "      width: 32px;\n",
              "    }\n",
              "\n",
              "    .colab-df-convert:hover {\n",
              "      background-color: #E2EBFA;\n",
              "      box-shadow: 0px 1px 2px rgba(60, 64, 67, 0.3), 0px 1px 3px 1px rgba(60, 64, 67, 0.15);\n",
              "      fill: #174EA6;\n",
              "    }\n",
              "\n",
              "    .colab-df-buttons div {\n",
              "      margin-bottom: 4px;\n",
              "    }\n",
              "\n",
              "    [theme=dark] .colab-df-convert {\n",
              "      background-color: #3B4455;\n",
              "      fill: #D2E3FC;\n",
              "    }\n",
              "\n",
              "    [theme=dark] .colab-df-convert:hover {\n",
              "      background-color: #434B5C;\n",
              "      box-shadow: 0px 1px 3px 1px rgba(0, 0, 0, 0.15);\n",
              "      filter: drop-shadow(0px 1px 2px rgba(0, 0, 0, 0.3));\n",
              "      fill: #FFFFFF;\n",
              "    }\n",
              "  </style>\n",
              "\n",
              "    <script>\n",
              "      const buttonEl =\n",
              "        document.querySelector('#df-be40e2b9-b2a4-485d-b212-551c46e1048b button.colab-df-convert');\n",
              "      buttonEl.style.display =\n",
              "        google.colab.kernel.accessAllowed ? 'block' : 'none';\n",
              "\n",
              "      async function convertToInteractive(key) {\n",
              "        const element = document.querySelector('#df-be40e2b9-b2a4-485d-b212-551c46e1048b');\n",
              "        const dataTable =\n",
              "          await google.colab.kernel.invokeFunction('convertToInteractive',\n",
              "                                                    [key], {});\n",
              "        if (!dataTable) return;\n",
              "\n",
              "        const docLinkHtml = 'Like what you see? Visit the ' +\n",
              "          '<a target=\"_blank\" href=https://colab.research.google.com/notebooks/data_table.ipynb>data table notebook</a>'\n",
              "          + ' to learn more about interactive tables.';\n",
              "        element.innerHTML = '';\n",
              "        dataTable['output_type'] = 'display_data';\n",
              "        await google.colab.output.renderOutput(dataTable, element);\n",
              "        const docLink = document.createElement('div');\n",
              "        docLink.innerHTML = docLinkHtml;\n",
              "        element.appendChild(docLink);\n",
              "      }\n",
              "    </script>\n",
              "  </div>\n",
              "\n",
              "\n",
              "    <div id=\"df-09bfc996-3000-4c6e-9dd1-ee00d2c1fbc0\">\n",
              "      <button class=\"colab-df-quickchart\" onclick=\"quickchart('df-09bfc996-3000-4c6e-9dd1-ee00d2c1fbc0')\"\n",
              "                title=\"Suggest charts\"\n",
              "                style=\"display:none;\">\n",
              "\n",
              "<svg xmlns=\"http://www.w3.org/2000/svg\" height=\"24px\"viewBox=\"0 0 24 24\"\n",
              "     width=\"24px\">\n",
              "    <g>\n",
              "        <path d=\"M19 3H5c-1.1 0-2 .9-2 2v14c0 1.1.9 2 2 2h14c1.1 0 2-.9 2-2V5c0-1.1-.9-2-2-2zM9 17H7v-7h2v7zm4 0h-2V7h2v10zm4 0h-2v-4h2v4z\"/>\n",
              "    </g>\n",
              "</svg>\n",
              "      </button>\n",
              "\n",
              "<style>\n",
              "  .colab-df-quickchart {\n",
              "      --bg-color: #E8F0FE;\n",
              "      --fill-color: #1967D2;\n",
              "      --hover-bg-color: #E2EBFA;\n",
              "      --hover-fill-color: #174EA6;\n",
              "      --disabled-fill-color: #AAA;\n",
              "      --disabled-bg-color: #DDD;\n",
              "  }\n",
              "\n",
              "  [theme=dark] .colab-df-quickchart {\n",
              "      --bg-color: #3B4455;\n",
              "      --fill-color: #D2E3FC;\n",
              "      --hover-bg-color: #434B5C;\n",
              "      --hover-fill-color: #FFFFFF;\n",
              "      --disabled-bg-color: #3B4455;\n",
              "      --disabled-fill-color: #666;\n",
              "  }\n",
              "\n",
              "  .colab-df-quickchart {\n",
              "    background-color: var(--bg-color);\n",
              "    border: none;\n",
              "    border-radius: 50%;\n",
              "    cursor: pointer;\n",
              "    display: none;\n",
              "    fill: var(--fill-color);\n",
              "    height: 32px;\n",
              "    padding: 0;\n",
              "    width: 32px;\n",
              "  }\n",
              "\n",
              "  .colab-df-quickchart:hover {\n",
              "    background-color: var(--hover-bg-color);\n",
              "    box-shadow: 0 1px 2px rgba(60, 64, 67, 0.3), 0 1px 3px 1px rgba(60, 64, 67, 0.15);\n",
              "    fill: var(--button-hover-fill-color);\n",
              "  }\n",
              "\n",
              "  .colab-df-quickchart-complete:disabled,\n",
              "  .colab-df-quickchart-complete:disabled:hover {\n",
              "    background-color: var(--disabled-bg-color);\n",
              "    fill: var(--disabled-fill-color);\n",
              "    box-shadow: none;\n",
              "  }\n",
              "\n",
              "  .colab-df-spinner {\n",
              "    border: 2px solid var(--fill-color);\n",
              "    border-color: transparent;\n",
              "    border-bottom-color: var(--fill-color);\n",
              "    animation:\n",
              "      spin 1s steps(1) infinite;\n",
              "  }\n",
              "\n",
              "  @keyframes spin {\n",
              "    0% {\n",
              "      border-color: transparent;\n",
              "      border-bottom-color: var(--fill-color);\n",
              "      border-left-color: var(--fill-color);\n",
              "    }\n",
              "    20% {\n",
              "      border-color: transparent;\n",
              "      border-left-color: var(--fill-color);\n",
              "      border-top-color: var(--fill-color);\n",
              "    }\n",
              "    30% {\n",
              "      border-color: transparent;\n",
              "      border-left-color: var(--fill-color);\n",
              "      border-top-color: var(--fill-color);\n",
              "      border-right-color: var(--fill-color);\n",
              "    }\n",
              "    40% {\n",
              "      border-color: transparent;\n",
              "      border-right-color: var(--fill-color);\n",
              "      border-top-color: var(--fill-color);\n",
              "    }\n",
              "    60% {\n",
              "      border-color: transparent;\n",
              "      border-right-color: var(--fill-color);\n",
              "    }\n",
              "    80% {\n",
              "      border-color: transparent;\n",
              "      border-right-color: var(--fill-color);\n",
              "      border-bottom-color: var(--fill-color);\n",
              "    }\n",
              "    90% {\n",
              "      border-color: transparent;\n",
              "      border-bottom-color: var(--fill-color);\n",
              "    }\n",
              "  }\n",
              "</style>\n",
              "\n",
              "      <script>\n",
              "        async function quickchart(key) {\n",
              "          const quickchartButtonEl =\n",
              "            document.querySelector('#' + key + ' button');\n",
              "          quickchartButtonEl.disabled = true;  // To prevent multiple clicks.\n",
              "          quickchartButtonEl.classList.add('colab-df-spinner');\n",
              "          try {\n",
              "            const charts = await google.colab.kernel.invokeFunction(\n",
              "                'suggestCharts', [key], {});\n",
              "          } catch (error) {\n",
              "            console.error('Error during call to suggestCharts:', error);\n",
              "          }\n",
              "          quickchartButtonEl.classList.remove('colab-df-spinner');\n",
              "          quickchartButtonEl.classList.add('colab-df-quickchart-complete');\n",
              "        }\n",
              "        (() => {\n",
              "          let quickchartButtonEl =\n",
              "            document.querySelector('#df-09bfc996-3000-4c6e-9dd1-ee00d2c1fbc0 button');\n",
              "          quickchartButtonEl.style.display =\n",
              "            google.colab.kernel.accessAllowed ? 'block' : 'none';\n",
              "        })();\n",
              "      </script>\n",
              "    </div>\n",
              "\n",
              "    </div>\n",
              "  </div>\n"
            ],
            "application/vnd.google.colaboratory.intrinsic+json": {
              "type": "dataframe",
              "variable_name": "movie_ratings",
              "summary": "{\n  \"name\": \"movie_ratings\",\n  \"rows\": 99466,\n  \"fields\": [\n    {\n      \"column\": \"user_id\",\n      \"properties\": {\n        \"dtype\": \"number\",\n        \"std\": 976,\n        \"min\": 1,\n        \"max\": 3374,\n        \"num_unique_values\": 3362,\n        \"samples\": [\n          1120,\n          2366,\n          810\n        ],\n        \"semantic_type\": \"\",\n        \"description\": \"\"\n      }\n    },\n    {\n      \"column\": \"movie_id\",\n      \"properties\": {\n        \"dtype\": \"number\",\n        \"std\": 5385,\n        \"min\": 5,\n        \"max\": 116977,\n        \"num_unique_values\": 1093,\n        \"samples\": [\n          820,\n          592,\n          708\n        ],\n        \"semantic_type\": \"\",\n        \"description\": \"\"\n      }\n    },\n    {\n      \"column\": \"rating\",\n      \"properties\": {\n        \"dtype\": \"number\",\n        \"std\": 1.0585020260907831,\n        \"min\": 0.5,\n        \"max\": 5.0,\n        \"num_unique_values\": 10,\n        \"samples\": [\n          1.5,\n          3.5,\n          1.0\n        ],\n        \"semantic_type\": \"\",\n        \"description\": \"\"\n      }\n    },\n    {\n      \"column\": \"timestamp\",\n      \"properties\": {\n        \"dtype\": \"number\",\n        \"std\": 161347840,\n        \"min\": 826962492,\n        \"max\": 1427761906,\n        \"num_unique_values\": 85502,\n        \"samples\": [\n          1021334630,\n          1225267626,\n          1111548315\n        ],\n        \"semantic_type\": \"\",\n        \"description\": \"\"\n      }\n    },\n    {\n      \"column\": \"overview\",\n      \"properties\": {\n        \"dtype\": \"category\",\n        \"num_unique_values\": 1093,\n        \"samples\": [\n          \"New Orleans District Attorney Jim Garrison discovers there's more to the Kennedy assassination than the official story.\",\n          \"Surveillance expert Harry Caul (Gene Hackman) is hired by a mysterious client's brusque aide (Harrison Ford) to tail a young couple, Mark (Frederic Forrest) and Ann (Cindy Williams). Tracking the pair through San Francisco's Union Square, Caul and his associate Stan (John Cazale) manage to record a cryptic conversation between them. Tormented by memories of a previous case that ended badly, Caul becomes obsessed with the resulting tape, trying to determine if the couple are in danger.\",\n          \"James Bond helps a Russian General escape into the west. He soon finds out that the KGB wants to kill him for helping the General. A little while later the General is kidnapped from the Secret Service leading 007 to be suspicious.\"\n        ],\n        \"semantic_type\": \"\",\n        \"description\": \"\"\n      }\n    },\n    {\n      \"column\": \"title\",\n      \"properties\": {\n        \"dtype\": \"category\",\n        \"num_unique_values\": 1092,\n        \"samples\": [\n          \"JFK\",\n          \"The Conversation\",\n          \"The Living Daylights\"\n        ],\n        \"semantic_type\": \"\",\n        \"description\": \"\"\n      }\n    }\n  ]\n}"
            }
          },
          "metadata": {},
          "execution_count": 7
        }
      ],
      "source": [
        "import pandas as pd\n",
        "# merging the two data sets\n",
        "\n",
        "# Rename the 'id' column in the movies DataFrame to 'movie_id' to match the ratings DataFrame\n",
        "movies = movies.rename(columns={'id': 'movie_id'})\n",
        "\n",
        "\n",
        "movie_ratings = pd.merge(ratings, movies, on='movie_id')\n",
        "movie_ratings.head()"
      ]
    },
    {
      "cell_type": "code",
      "execution_count": null,
      "metadata": {
        "colab": {
          "base_uri": "https://localhost:8080/"
        },
        "id": "BAR9fFRcp2eA",
        "outputId": "994f9917-4e50-444a-8e51-48010e77f059"
      },
      "outputs": [
        {
          "output_type": "execute_result",
          "data": {
            "text/plain": [
              "(99466, 6)"
            ]
          },
          "metadata": {},
          "execution_count": 16
        }
      ],
      "source": [
        "movie_ratings.shape"
      ]
    },
    {
      "cell_type": "code",
      "execution_count": null,
      "metadata": {
        "colab": {
          "base_uri": "https://localhost:8080/",
          "height": 300
        },
        "id": "wgGcavUFX09x",
        "outputId": "1d2e78db-c141-4452-89dd-cbebbe217e2e"
      },
      "outputs": [
        {
          "output_type": "execute_result",
          "data": {
            "text/plain": [
              "            user_id       movie_id        rating     timestamp\n",
              "count  99466.000000   99466.000000  99466.000000  9.946600e+04\n",
              "mean    1703.754137    1882.118081      3.483140  1.040589e+09\n",
              "std      976.645307    5385.729118      1.058502  1.613478e+08\n",
              "min        1.000000       5.000000      0.500000  8.269625e+08\n",
              "25%      853.000000     348.000000      3.000000  9.011954e+08\n",
              "50%     1722.000000     711.000000      3.500000  1.009556e+09\n",
              "75%     2545.000000    1947.000000      4.000000  1.153339e+09\n",
              "max     3374.000000  116977.000000      5.000000  1.427762e+09"
            ],
            "text/html": [
              "\n",
              "  <div id=\"df-2f740179-bc81-4969-bb4f-f7c18fc59db1\" class=\"colab-df-container\">\n",
              "    <div>\n",
              "<style scoped>\n",
              "    .dataframe tbody tr th:only-of-type {\n",
              "        vertical-align: middle;\n",
              "    }\n",
              "\n",
              "    .dataframe tbody tr th {\n",
              "        vertical-align: top;\n",
              "    }\n",
              "\n",
              "    .dataframe thead th {\n",
              "        text-align: right;\n",
              "    }\n",
              "</style>\n",
              "<table border=\"1\" class=\"dataframe\">\n",
              "  <thead>\n",
              "    <tr style=\"text-align: right;\">\n",
              "      <th></th>\n",
              "      <th>user_id</th>\n",
              "      <th>movie_id</th>\n",
              "      <th>rating</th>\n",
              "      <th>timestamp</th>\n",
              "    </tr>\n",
              "  </thead>\n",
              "  <tbody>\n",
              "    <tr>\n",
              "      <th>count</th>\n",
              "      <td>99466.000000</td>\n",
              "      <td>99466.000000</td>\n",
              "      <td>99466.000000</td>\n",
              "      <td>9.946600e+04</td>\n",
              "    </tr>\n",
              "    <tr>\n",
              "      <th>mean</th>\n",
              "      <td>1703.754137</td>\n",
              "      <td>1882.118081</td>\n",
              "      <td>3.483140</td>\n",
              "      <td>1.040589e+09</td>\n",
              "    </tr>\n",
              "    <tr>\n",
              "      <th>std</th>\n",
              "      <td>976.645307</td>\n",
              "      <td>5385.729118</td>\n",
              "      <td>1.058502</td>\n",
              "      <td>1.613478e+08</td>\n",
              "    </tr>\n",
              "    <tr>\n",
              "      <th>min</th>\n",
              "      <td>1.000000</td>\n",
              "      <td>5.000000</td>\n",
              "      <td>0.500000</td>\n",
              "      <td>8.269625e+08</td>\n",
              "    </tr>\n",
              "    <tr>\n",
              "      <th>25%</th>\n",
              "      <td>853.000000</td>\n",
              "      <td>348.000000</td>\n",
              "      <td>3.000000</td>\n",
              "      <td>9.011954e+08</td>\n",
              "    </tr>\n",
              "    <tr>\n",
              "      <th>50%</th>\n",
              "      <td>1722.000000</td>\n",
              "      <td>711.000000</td>\n",
              "      <td>3.500000</td>\n",
              "      <td>1.009556e+09</td>\n",
              "    </tr>\n",
              "    <tr>\n",
              "      <th>75%</th>\n",
              "      <td>2545.000000</td>\n",
              "      <td>1947.000000</td>\n",
              "      <td>4.000000</td>\n",
              "      <td>1.153339e+09</td>\n",
              "    </tr>\n",
              "    <tr>\n",
              "      <th>max</th>\n",
              "      <td>3374.000000</td>\n",
              "      <td>116977.000000</td>\n",
              "      <td>5.000000</td>\n",
              "      <td>1.427762e+09</td>\n",
              "    </tr>\n",
              "  </tbody>\n",
              "</table>\n",
              "</div>\n",
              "    <div class=\"colab-df-buttons\">\n",
              "\n",
              "  <div class=\"colab-df-container\">\n",
              "    <button class=\"colab-df-convert\" onclick=\"convertToInteractive('df-2f740179-bc81-4969-bb4f-f7c18fc59db1')\"\n",
              "            title=\"Convert this dataframe to an interactive table.\"\n",
              "            style=\"display:none;\">\n",
              "\n",
              "  <svg xmlns=\"http://www.w3.org/2000/svg\" height=\"24px\" viewBox=\"0 -960 960 960\">\n",
              "    <path d=\"M120-120v-720h720v720H120Zm60-500h600v-160H180v160Zm220 220h160v-160H400v160Zm0 220h160v-160H400v160ZM180-400h160v-160H180v160Zm440 0h160v-160H620v160ZM180-180h160v-160H180v160Zm440 0h160v-160H620v160Z\"/>\n",
              "  </svg>\n",
              "    </button>\n",
              "\n",
              "  <style>\n",
              "    .colab-df-container {\n",
              "      display:flex;\n",
              "      gap: 12px;\n",
              "    }\n",
              "\n",
              "    .colab-df-convert {\n",
              "      background-color: #E8F0FE;\n",
              "      border: none;\n",
              "      border-radius: 50%;\n",
              "      cursor: pointer;\n",
              "      display: none;\n",
              "      fill: #1967D2;\n",
              "      height: 32px;\n",
              "      padding: 0 0 0 0;\n",
              "      width: 32px;\n",
              "    }\n",
              "\n",
              "    .colab-df-convert:hover {\n",
              "      background-color: #E2EBFA;\n",
              "      box-shadow: 0px 1px 2px rgba(60, 64, 67, 0.3), 0px 1px 3px 1px rgba(60, 64, 67, 0.15);\n",
              "      fill: #174EA6;\n",
              "    }\n",
              "\n",
              "    .colab-df-buttons div {\n",
              "      margin-bottom: 4px;\n",
              "    }\n",
              "\n",
              "    [theme=dark] .colab-df-convert {\n",
              "      background-color: #3B4455;\n",
              "      fill: #D2E3FC;\n",
              "    }\n",
              "\n",
              "    [theme=dark] .colab-df-convert:hover {\n",
              "      background-color: #434B5C;\n",
              "      box-shadow: 0px 1px 3px 1px rgba(0, 0, 0, 0.15);\n",
              "      filter: drop-shadow(0px 1px 2px rgba(0, 0, 0, 0.3));\n",
              "      fill: #FFFFFF;\n",
              "    }\n",
              "  </style>\n",
              "\n",
              "    <script>\n",
              "      const buttonEl =\n",
              "        document.querySelector('#df-2f740179-bc81-4969-bb4f-f7c18fc59db1 button.colab-df-convert');\n",
              "      buttonEl.style.display =\n",
              "        google.colab.kernel.accessAllowed ? 'block' : 'none';\n",
              "\n",
              "      async function convertToInteractive(key) {\n",
              "        const element = document.querySelector('#df-2f740179-bc81-4969-bb4f-f7c18fc59db1');\n",
              "        const dataTable =\n",
              "          await google.colab.kernel.invokeFunction('convertToInteractive',\n",
              "                                                    [key], {});\n",
              "        if (!dataTable) return;\n",
              "\n",
              "        const docLinkHtml = 'Like what you see? Visit the ' +\n",
              "          '<a target=\"_blank\" href=https://colab.research.google.com/notebooks/data_table.ipynb>data table notebook</a>'\n",
              "          + ' to learn more about interactive tables.';\n",
              "        element.innerHTML = '';\n",
              "        dataTable['output_type'] = 'display_data';\n",
              "        await google.colab.output.renderOutput(dataTable, element);\n",
              "        const docLink = document.createElement('div');\n",
              "        docLink.innerHTML = docLinkHtml;\n",
              "        element.appendChild(docLink);\n",
              "      }\n",
              "    </script>\n",
              "  </div>\n",
              "\n",
              "\n",
              "    <div id=\"df-94d7472c-1562-4b32-897a-aa0b9f8c98ae\">\n",
              "      <button class=\"colab-df-quickchart\" onclick=\"quickchart('df-94d7472c-1562-4b32-897a-aa0b9f8c98ae')\"\n",
              "                title=\"Suggest charts\"\n",
              "                style=\"display:none;\">\n",
              "\n",
              "<svg xmlns=\"http://www.w3.org/2000/svg\" height=\"24px\"viewBox=\"0 0 24 24\"\n",
              "     width=\"24px\">\n",
              "    <g>\n",
              "        <path d=\"M19 3H5c-1.1 0-2 .9-2 2v14c0 1.1.9 2 2 2h14c1.1 0 2-.9 2-2V5c0-1.1-.9-2-2-2zM9 17H7v-7h2v7zm4 0h-2V7h2v10zm4 0h-2v-4h2v4z\"/>\n",
              "    </g>\n",
              "</svg>\n",
              "      </button>\n",
              "\n",
              "<style>\n",
              "  .colab-df-quickchart {\n",
              "      --bg-color: #E8F0FE;\n",
              "      --fill-color: #1967D2;\n",
              "      --hover-bg-color: #E2EBFA;\n",
              "      --hover-fill-color: #174EA6;\n",
              "      --disabled-fill-color: #AAA;\n",
              "      --disabled-bg-color: #DDD;\n",
              "  }\n",
              "\n",
              "  [theme=dark] .colab-df-quickchart {\n",
              "      --bg-color: #3B4455;\n",
              "      --fill-color: #D2E3FC;\n",
              "      --hover-bg-color: #434B5C;\n",
              "      --hover-fill-color: #FFFFFF;\n",
              "      --disabled-bg-color: #3B4455;\n",
              "      --disabled-fill-color: #666;\n",
              "  }\n",
              "\n",
              "  .colab-df-quickchart {\n",
              "    background-color: var(--bg-color);\n",
              "    border: none;\n",
              "    border-radius: 50%;\n",
              "    cursor: pointer;\n",
              "    display: none;\n",
              "    fill: var(--fill-color);\n",
              "    height: 32px;\n",
              "    padding: 0;\n",
              "    width: 32px;\n",
              "  }\n",
              "\n",
              "  .colab-df-quickchart:hover {\n",
              "    background-color: var(--hover-bg-color);\n",
              "    box-shadow: 0 1px 2px rgba(60, 64, 67, 0.3), 0 1px 3px 1px rgba(60, 64, 67, 0.15);\n",
              "    fill: var(--button-hover-fill-color);\n",
              "  }\n",
              "\n",
              "  .colab-df-quickchart-complete:disabled,\n",
              "  .colab-df-quickchart-complete:disabled:hover {\n",
              "    background-color: var(--disabled-bg-color);\n",
              "    fill: var(--disabled-fill-color);\n",
              "    box-shadow: none;\n",
              "  }\n",
              "\n",
              "  .colab-df-spinner {\n",
              "    border: 2px solid var(--fill-color);\n",
              "    border-color: transparent;\n",
              "    border-bottom-color: var(--fill-color);\n",
              "    animation:\n",
              "      spin 1s steps(1) infinite;\n",
              "  }\n",
              "\n",
              "  @keyframes spin {\n",
              "    0% {\n",
              "      border-color: transparent;\n",
              "      border-bottom-color: var(--fill-color);\n",
              "      border-left-color: var(--fill-color);\n",
              "    }\n",
              "    20% {\n",
              "      border-color: transparent;\n",
              "      border-left-color: var(--fill-color);\n",
              "      border-top-color: var(--fill-color);\n",
              "    }\n",
              "    30% {\n",
              "      border-color: transparent;\n",
              "      border-left-color: var(--fill-color);\n",
              "      border-top-color: var(--fill-color);\n",
              "      border-right-color: var(--fill-color);\n",
              "    }\n",
              "    40% {\n",
              "      border-color: transparent;\n",
              "      border-right-color: var(--fill-color);\n",
              "      border-top-color: var(--fill-color);\n",
              "    }\n",
              "    60% {\n",
              "      border-color: transparent;\n",
              "      border-right-color: var(--fill-color);\n",
              "    }\n",
              "    80% {\n",
              "      border-color: transparent;\n",
              "      border-right-color: var(--fill-color);\n",
              "      border-bottom-color: var(--fill-color);\n",
              "    }\n",
              "    90% {\n",
              "      border-color: transparent;\n",
              "      border-bottom-color: var(--fill-color);\n",
              "    }\n",
              "  }\n",
              "</style>\n",
              "\n",
              "      <script>\n",
              "        async function quickchart(key) {\n",
              "          const quickchartButtonEl =\n",
              "            document.querySelector('#' + key + ' button');\n",
              "          quickchartButtonEl.disabled = true;  // To prevent multiple clicks.\n",
              "          quickchartButtonEl.classList.add('colab-df-spinner');\n",
              "          try {\n",
              "            const charts = await google.colab.kernel.invokeFunction(\n",
              "                'suggestCharts', [key], {});\n",
              "          } catch (error) {\n",
              "            console.error('Error during call to suggestCharts:', error);\n",
              "          }\n",
              "          quickchartButtonEl.classList.remove('colab-df-spinner');\n",
              "          quickchartButtonEl.classList.add('colab-df-quickchart-complete');\n",
              "        }\n",
              "        (() => {\n",
              "          let quickchartButtonEl =\n",
              "            document.querySelector('#df-94d7472c-1562-4b32-897a-aa0b9f8c98ae button');\n",
              "          quickchartButtonEl.style.display =\n",
              "            google.colab.kernel.accessAllowed ? 'block' : 'none';\n",
              "        })();\n",
              "      </script>\n",
              "    </div>\n",
              "\n",
              "    </div>\n",
              "  </div>\n"
            ],
            "application/vnd.google.colaboratory.intrinsic+json": {
              "type": "dataframe",
              "summary": "{\n  \"name\": \"movie_ratings\",\n  \"rows\": 8,\n  \"fields\": [\n    {\n      \"column\": \"user_id\",\n      \"properties\": {\n        \"dtype\": \"number\",\n        \"std\": 34617.719773751145,\n        \"min\": 1.0,\n        \"max\": 99466.0,\n        \"num_unique_values\": 8,\n        \"samples\": [\n          1703.7541370920717,\n          1722.0,\n          99466.0\n        ],\n        \"semantic_type\": \"\",\n        \"description\": \"\"\n      }\n    },\n    {\n      \"column\": \"movie_id\",\n      \"properties\": {\n        \"dtype\": \"number\",\n        \"std\": 49553.31917806566,\n        \"min\": 5.0,\n        \"max\": 116977.0,\n        \"num_unique_values\": 8,\n        \"samples\": [\n          1882.1180805501378,\n          711.0,\n          99466.0\n        ],\n        \"semantic_type\": \"\",\n        \"description\": \"\"\n      }\n    },\n    {\n      \"column\": \"rating\",\n      \"properties\": {\n        \"dtype\": \"number\",\n        \"std\": 35165.50407058269,\n        \"min\": 0.5,\n        \"max\": 99466.0,\n        \"num_unique_values\": 8,\n        \"samples\": [\n          3.4831399674260553,\n          3.5,\n          99466.0\n        ],\n        \"semantic_type\": \"\",\n        \"description\": \"\"\n      }\n    },\n    {\n      \"column\": \"timestamp\",\n      \"properties\": {\n        \"dtype\": \"number\",\n        \"std\": 489546351.42380214,\n        \"min\": 99466.0,\n        \"max\": 1427761906.0,\n        \"num_unique_values\": 8,\n        \"samples\": [\n          1040589333.1787446,\n          1009555758.0,\n          99466.0\n        ],\n        \"semantic_type\": \"\",\n        \"description\": \"\"\n      }\n    }\n  ]\n}"
            }
          },
          "metadata": {},
          "execution_count": 17
        }
      ],
      "source": [
        "movie_ratings.describe()"
      ]
    },
    {
      "cell_type": "code",
      "execution_count": null,
      "metadata": {
        "colab": {
          "base_uri": "https://localhost:8080/"
        },
        "id": "vOloKIaispQO",
        "outputId": "e63897df-0d27-4dbb-869c-63b202c21a9d"
      },
      "outputs": [
        {
          "output_type": "stream",
          "name": "stdout",
          "text": [
            "   user_id  movie_id  rating   timestamp  \\\n",
            "0        1       223     4.0  1112485573   \n",
            "1        1       253     4.0  1112484940   \n",
            "2        1       296     4.0  1112484767   \n",
            "3        1       593     3.5  1112484661   \n",
            "4        1       924     3.5  1094785598   \n",
            "\n",
            "                                            overview  \\\n",
            "0  A self-conscious bride is tormented by the mem...   \n",
            "1  James Bond must investigate a mysterious murde...   \n",
            "2  It's been 10 years since John Connor saved Ear...   \n",
            "3  Ground control has been receiving strange tran...   \n",
            "4  A group of surviving people take refuge in a s...   \n",
            "\n",
            "                          movie_title  \n",
            "0                             Rebecca  \n",
            "1                    Live and Let Die  \n",
            "2  Terminator 3: Rise of the Machines  \n",
            "3                             Solaris  \n",
            "4                    Dawn of the Dead  \n"
          ]
        }
      ],
      "source": [
        "# Rename 'title' column to 'movie_title' for consistency\n",
        "movie_ratings = movie_ratings.rename(columns={'title': 'movie_title'})\n",
        "\n",
        "print(movie_ratings.head())"
      ]
    },
    {
      "cell_type": "markdown",
      "metadata": {
        "id": "Mzhw5JDWa_3s"
      },
      "source": [
        "🎯 Collaborative Filtering\n",
        "Collaborative filtering relies on user ratings. The key columns you need are:\n",
        "\n",
        "Column\tDescription\n",
        "userId\tUnique ID of the user\n",
        "movieId\tUnique ID of the movie\n",
        "rating\tThe score the user gave the movie\n",
        "movie_title The title of the movies\n",
        "\n",
        "These three are mandatory for building a user-item matrix for collaborative filtering (e.g., matrix factorization with SVD in Surprise)."
      ]
    },
    {
      "cell_type": "code",
      "execution_count": null,
      "metadata": {
        "colab": {
          "base_uri": "https://localhost:8080/",
          "height": 206
        },
        "id": "NNtgVLEnqefu",
        "outputId": "023afa5f-2183-47a6-eacf-ec9403334ef1"
      },
      "outputs": [
        {
          "output_type": "execute_result",
          "data": {
            "text/plain": [
              "   user_id  movie_id  rating                         movie_title\n",
              "0        1       223     4.0                             Rebecca\n",
              "1        1       253     4.0                    Live and Let Die\n",
              "2        1       296     4.0  Terminator 3: Rise of the Machines\n",
              "3        1       593     3.5                             Solaris\n",
              "4        1       924     3.5                    Dawn of the Dead"
            ],
            "text/html": [
              "\n",
              "  <div id=\"df-565d0466-ebf2-49be-b1ef-7bb271189522\" class=\"colab-df-container\">\n",
              "    <div>\n",
              "<style scoped>\n",
              "    .dataframe tbody tr th:only-of-type {\n",
              "        vertical-align: middle;\n",
              "    }\n",
              "\n",
              "    .dataframe tbody tr th {\n",
              "        vertical-align: top;\n",
              "    }\n",
              "\n",
              "    .dataframe thead th {\n",
              "        text-align: right;\n",
              "    }\n",
              "</style>\n",
              "<table border=\"1\" class=\"dataframe\">\n",
              "  <thead>\n",
              "    <tr style=\"text-align: right;\">\n",
              "      <th></th>\n",
              "      <th>user_id</th>\n",
              "      <th>movie_id</th>\n",
              "      <th>rating</th>\n",
              "      <th>movie_title</th>\n",
              "    </tr>\n",
              "  </thead>\n",
              "  <tbody>\n",
              "    <tr>\n",
              "      <th>0</th>\n",
              "      <td>1</td>\n",
              "      <td>223</td>\n",
              "      <td>4.0</td>\n",
              "      <td>Rebecca</td>\n",
              "    </tr>\n",
              "    <tr>\n",
              "      <th>1</th>\n",
              "      <td>1</td>\n",
              "      <td>253</td>\n",
              "      <td>4.0</td>\n",
              "      <td>Live and Let Die</td>\n",
              "    </tr>\n",
              "    <tr>\n",
              "      <th>2</th>\n",
              "      <td>1</td>\n",
              "      <td>296</td>\n",
              "      <td>4.0</td>\n",
              "      <td>Terminator 3: Rise of the Machines</td>\n",
              "    </tr>\n",
              "    <tr>\n",
              "      <th>3</th>\n",
              "      <td>1</td>\n",
              "      <td>593</td>\n",
              "      <td>3.5</td>\n",
              "      <td>Solaris</td>\n",
              "    </tr>\n",
              "    <tr>\n",
              "      <th>4</th>\n",
              "      <td>1</td>\n",
              "      <td>924</td>\n",
              "      <td>3.5</td>\n",
              "      <td>Dawn of the Dead</td>\n",
              "    </tr>\n",
              "  </tbody>\n",
              "</table>\n",
              "</div>\n",
              "    <div class=\"colab-df-buttons\">\n",
              "\n",
              "  <div class=\"colab-df-container\">\n",
              "    <button class=\"colab-df-convert\" onclick=\"convertToInteractive('df-565d0466-ebf2-49be-b1ef-7bb271189522')\"\n",
              "            title=\"Convert this dataframe to an interactive table.\"\n",
              "            style=\"display:none;\">\n",
              "\n",
              "  <svg xmlns=\"http://www.w3.org/2000/svg\" height=\"24px\" viewBox=\"0 -960 960 960\">\n",
              "    <path d=\"M120-120v-720h720v720H120Zm60-500h600v-160H180v160Zm220 220h160v-160H400v160Zm0 220h160v-160H400v160ZM180-400h160v-160H180v160Zm440 0h160v-160H620v160ZM180-180h160v-160H180v160Zm440 0h160v-160H620v160Z\"/>\n",
              "  </svg>\n",
              "    </button>\n",
              "\n",
              "  <style>\n",
              "    .colab-df-container {\n",
              "      display:flex;\n",
              "      gap: 12px;\n",
              "    }\n",
              "\n",
              "    .colab-df-convert {\n",
              "      background-color: #E8F0FE;\n",
              "      border: none;\n",
              "      border-radius: 50%;\n",
              "      cursor: pointer;\n",
              "      display: none;\n",
              "      fill: #1967D2;\n",
              "      height: 32px;\n",
              "      padding: 0 0 0 0;\n",
              "      width: 32px;\n",
              "    }\n",
              "\n",
              "    .colab-df-convert:hover {\n",
              "      background-color: #E2EBFA;\n",
              "      box-shadow: 0px 1px 2px rgba(60, 64, 67, 0.3), 0px 1px 3px 1px rgba(60, 64, 67, 0.15);\n",
              "      fill: #174EA6;\n",
              "    }\n",
              "\n",
              "    .colab-df-buttons div {\n",
              "      margin-bottom: 4px;\n",
              "    }\n",
              "\n",
              "    [theme=dark] .colab-df-convert {\n",
              "      background-color: #3B4455;\n",
              "      fill: #D2E3FC;\n",
              "    }\n",
              "\n",
              "    [theme=dark] .colab-df-convert:hover {\n",
              "      background-color: #434B5C;\n",
              "      box-shadow: 0px 1px 3px 1px rgba(0, 0, 0, 0.15);\n",
              "      filter: drop-shadow(0px 1px 2px rgba(0, 0, 0, 0.3));\n",
              "      fill: #FFFFFF;\n",
              "    }\n",
              "  </style>\n",
              "\n",
              "    <script>\n",
              "      const buttonEl =\n",
              "        document.querySelector('#df-565d0466-ebf2-49be-b1ef-7bb271189522 button.colab-df-convert');\n",
              "      buttonEl.style.display =\n",
              "        google.colab.kernel.accessAllowed ? 'block' : 'none';\n",
              "\n",
              "      async function convertToInteractive(key) {\n",
              "        const element = document.querySelector('#df-565d0466-ebf2-49be-b1ef-7bb271189522');\n",
              "        const dataTable =\n",
              "          await google.colab.kernel.invokeFunction('convertToInteractive',\n",
              "                                                    [key], {});\n",
              "        if (!dataTable) return;\n",
              "\n",
              "        const docLinkHtml = 'Like what you see? Visit the ' +\n",
              "          '<a target=\"_blank\" href=https://colab.research.google.com/notebooks/data_table.ipynb>data table notebook</a>'\n",
              "          + ' to learn more about interactive tables.';\n",
              "        element.innerHTML = '';\n",
              "        dataTable['output_type'] = 'display_data';\n",
              "        await google.colab.output.renderOutput(dataTable, element);\n",
              "        const docLink = document.createElement('div');\n",
              "        docLink.innerHTML = docLinkHtml;\n",
              "        element.appendChild(docLink);\n",
              "      }\n",
              "    </script>\n",
              "  </div>\n",
              "\n",
              "\n",
              "    <div id=\"df-e5129f96-e2d4-4499-a4f2-d555d3a6182a\">\n",
              "      <button class=\"colab-df-quickchart\" onclick=\"quickchart('df-e5129f96-e2d4-4499-a4f2-d555d3a6182a')\"\n",
              "                title=\"Suggest charts\"\n",
              "                style=\"display:none;\">\n",
              "\n",
              "<svg xmlns=\"http://www.w3.org/2000/svg\" height=\"24px\"viewBox=\"0 0 24 24\"\n",
              "     width=\"24px\">\n",
              "    <g>\n",
              "        <path d=\"M19 3H5c-1.1 0-2 .9-2 2v14c0 1.1.9 2 2 2h14c1.1 0 2-.9 2-2V5c0-1.1-.9-2-2-2zM9 17H7v-7h2v7zm4 0h-2V7h2v10zm4 0h-2v-4h2v4z\"/>\n",
              "    </g>\n",
              "</svg>\n",
              "      </button>\n",
              "\n",
              "<style>\n",
              "  .colab-df-quickchart {\n",
              "      --bg-color: #E8F0FE;\n",
              "      --fill-color: #1967D2;\n",
              "      --hover-bg-color: #E2EBFA;\n",
              "      --hover-fill-color: #174EA6;\n",
              "      --disabled-fill-color: #AAA;\n",
              "      --disabled-bg-color: #DDD;\n",
              "  }\n",
              "\n",
              "  [theme=dark] .colab-df-quickchart {\n",
              "      --bg-color: #3B4455;\n",
              "      --fill-color: #D2E3FC;\n",
              "      --hover-bg-color: #434B5C;\n",
              "      --hover-fill-color: #FFFFFF;\n",
              "      --disabled-bg-color: #3B4455;\n",
              "      --disabled-fill-color: #666;\n",
              "  }\n",
              "\n",
              "  .colab-df-quickchart {\n",
              "    background-color: var(--bg-color);\n",
              "    border: none;\n",
              "    border-radius: 50%;\n",
              "    cursor: pointer;\n",
              "    display: none;\n",
              "    fill: var(--fill-color);\n",
              "    height: 32px;\n",
              "    padding: 0;\n",
              "    width: 32px;\n",
              "  }\n",
              "\n",
              "  .colab-df-quickchart:hover {\n",
              "    background-color: var(--hover-bg-color);\n",
              "    box-shadow: 0 1px 2px rgba(60, 64, 67, 0.3), 0 1px 3px 1px rgba(60, 64, 67, 0.15);\n",
              "    fill: var(--button-hover-fill-color);\n",
              "  }\n",
              "\n",
              "  .colab-df-quickchart-complete:disabled,\n",
              "  .colab-df-quickchart-complete:disabled:hover {\n",
              "    background-color: var(--disabled-bg-color);\n",
              "    fill: var(--disabled-fill-color);\n",
              "    box-shadow: none;\n",
              "  }\n",
              "\n",
              "  .colab-df-spinner {\n",
              "    border: 2px solid var(--fill-color);\n",
              "    border-color: transparent;\n",
              "    border-bottom-color: var(--fill-color);\n",
              "    animation:\n",
              "      spin 1s steps(1) infinite;\n",
              "  }\n",
              "\n",
              "  @keyframes spin {\n",
              "    0% {\n",
              "      border-color: transparent;\n",
              "      border-bottom-color: var(--fill-color);\n",
              "      border-left-color: var(--fill-color);\n",
              "    }\n",
              "    20% {\n",
              "      border-color: transparent;\n",
              "      border-left-color: var(--fill-color);\n",
              "      border-top-color: var(--fill-color);\n",
              "    }\n",
              "    30% {\n",
              "      border-color: transparent;\n",
              "      border-left-color: var(--fill-color);\n",
              "      border-top-color: var(--fill-color);\n",
              "      border-right-color: var(--fill-color);\n",
              "    }\n",
              "    40% {\n",
              "      border-color: transparent;\n",
              "      border-right-color: var(--fill-color);\n",
              "      border-top-color: var(--fill-color);\n",
              "    }\n",
              "    60% {\n",
              "      border-color: transparent;\n",
              "      border-right-color: var(--fill-color);\n",
              "    }\n",
              "    80% {\n",
              "      border-color: transparent;\n",
              "      border-right-color: var(--fill-color);\n",
              "      border-bottom-color: var(--fill-color);\n",
              "    }\n",
              "    90% {\n",
              "      border-color: transparent;\n",
              "      border-bottom-color: var(--fill-color);\n",
              "    }\n",
              "  }\n",
              "</style>\n",
              "\n",
              "      <script>\n",
              "        async function quickchart(key) {\n",
              "          const quickchartButtonEl =\n",
              "            document.querySelector('#' + key + ' button');\n",
              "          quickchartButtonEl.disabled = true;  // To prevent multiple clicks.\n",
              "          quickchartButtonEl.classList.add('colab-df-spinner');\n",
              "          try {\n",
              "            const charts = await google.colab.kernel.invokeFunction(\n",
              "                'suggestCharts', [key], {});\n",
              "          } catch (error) {\n",
              "            console.error('Error during call to suggestCharts:', error);\n",
              "          }\n",
              "          quickchartButtonEl.classList.remove('colab-df-spinner');\n",
              "          quickchartButtonEl.classList.add('colab-df-quickchart-complete');\n",
              "        }\n",
              "        (() => {\n",
              "          let quickchartButtonEl =\n",
              "            document.querySelector('#df-e5129f96-e2d4-4499-a4f2-d555d3a6182a button');\n",
              "          quickchartButtonEl.style.display =\n",
              "            google.colab.kernel.accessAllowed ? 'block' : 'none';\n",
              "        })();\n",
              "      </script>\n",
              "    </div>\n",
              "\n",
              "    </div>\n",
              "  </div>\n"
            ],
            "application/vnd.google.colaboratory.intrinsic+json": {
              "type": "dataframe",
              "variable_name": "movie_ratings",
              "summary": "{\n  \"name\": \"movie_ratings\",\n  \"rows\": 99466,\n  \"fields\": [\n    {\n      \"column\": \"user_id\",\n      \"properties\": {\n        \"dtype\": \"number\",\n        \"std\": 976,\n        \"min\": 1,\n        \"max\": 3374,\n        \"num_unique_values\": 3362,\n        \"samples\": [\n          1120,\n          2366,\n          810\n        ],\n        \"semantic_type\": \"\",\n        \"description\": \"\"\n      }\n    },\n    {\n      \"column\": \"movie_id\",\n      \"properties\": {\n        \"dtype\": \"number\",\n        \"std\": 5385,\n        \"min\": 5,\n        \"max\": 116977,\n        \"num_unique_values\": 1093,\n        \"samples\": [\n          820,\n          592,\n          708\n        ],\n        \"semantic_type\": \"\",\n        \"description\": \"\"\n      }\n    },\n    {\n      \"column\": \"rating\",\n      \"properties\": {\n        \"dtype\": \"number\",\n        \"std\": 1.0585020260907831,\n        \"min\": 0.5,\n        \"max\": 5.0,\n        \"num_unique_values\": 10,\n        \"samples\": [\n          1.5,\n          3.5,\n          1.0\n        ],\n        \"semantic_type\": \"\",\n        \"description\": \"\"\n      }\n    },\n    {\n      \"column\": \"movie_title\",\n      \"properties\": {\n        \"dtype\": \"category\",\n        \"num_unique_values\": 1092,\n        \"samples\": [\n          \"JFK\",\n          \"The Conversation\",\n          \"The Living Daylights\"\n        ],\n        \"semantic_type\": \"\",\n        \"description\": \"\"\n      }\n    }\n  ]\n}"
            }
          },
          "metadata": {},
          "execution_count": 9
        }
      ],
      "source": [
        "# Extracting the most important columns\n",
        "movie_ratings = movie_ratings[['user_id', 'movie_id', 'rating', 'movie_title']]\n",
        "movie_ratings.head()"
      ]
    },
    {
      "cell_type": "code",
      "execution_count": null,
      "metadata": {
        "colab": {
          "base_uri": "https://localhost:8080/"
        },
        "id": "43xgsqldqkEe",
        "outputId": "a4f46ec7-9c36-4c89-aaff-4ba0120e7bf8"
      },
      "outputs": [
        {
          "output_type": "execute_result",
          "data": {
            "text/plain": [
              "(99466, 4)"
            ]
          },
          "metadata": {},
          "execution_count": 23
        }
      ],
      "source": [
        "\n",
        "movie_ratings.shape"
      ]
    },
    {
      "cell_type": "code",
      "execution_count": null,
      "metadata": {
        "colab": {
          "base_uri": "https://localhost:8080/"
        },
        "id": "-3aiWUJZqEq2",
        "outputId": "da743eca-e4b0-42ad-ead3-763fb2f25ce2"
      },
      "outputs": [
        {
          "output_type": "stream",
          "name": "stdout",
          "text": [
            "\n",
            "Null values in merged dataframe:\n",
            "user_id        0\n",
            "movie_id       0\n",
            "rating         0\n",
            "movie_title    0\n",
            "dtype: int64\n",
            "\n",
            "Number of duplicate rows in merged dataframe:\n",
            "0\n"
          ]
        }
      ],
      "source": [
        "\n",
        "# Check for null values and duplicates\n",
        "print(\"\\nNull values in merged dataframe:\")\n",
        "print(movie_ratings.isnull().sum())\n",
        "print(\"\\nNumber of duplicate rows in merged dataframe:\")\n",
        "print(movie_ratings.duplicated().sum())\n",
        "\n"
      ]
    },
    {
      "cell_type": "markdown",
      "metadata": {
        "id": "YLM4EUIyrW9t"
      },
      "source": [
        "# **Collaborative Filtering**\n",
        "#### **Create a user-item matrix**\n",
        "#### **Split data into training and testing sets**\n",
        "#### **Calculate user similarity (using cosine similarity)**\n",
        "###### Cosine similarity is the preferred choice in many movie recommender systems due to its robustness to sparsity, scale-invariance, and simplicity—making it especially well-suited for user-based collaborative filtering using ratings.\n"
      ]
    },
    {
      "cell_type": "markdown",
      "metadata": {
        "id": "IHVJbZcvHk1h"
      },
      "source": [
        "# Evaluating the Similarity by cosine Similarity\n"
      ]
    },
    {
      "cell_type": "code",
      "execution_count": null,
      "metadata": {
        "colab": {
          "base_uri": "https://localhost:8080/"
        },
        "id": "3YVnPo9BX_DM",
        "outputId": "e82c0211-af71-4f96-f426-0968435aeb9f"
      },
      "outputs": [
        {
          "output_type": "stream",
          "name": "stdout",
          "text": [
            "User-Item Matrix Head:\n",
            "movie_title  10 Things I Hate About You  12 Angry Men  127 Hours  1408  \\\n",
            "user_id                                                                  \n",
            "1                                   0.0           0.0        0.0   0.0   \n",
            "2                                   0.0           0.0        0.0   0.0   \n",
            "3                                   0.0           0.0        0.0   0.0   \n",
            "4                                   0.0           0.0        0.0   0.0   \n",
            "5                                   0.0           0.0        0.0   0.0   \n",
            "\n",
            "movie_title  15 Minutes  16 Blocks  2 Fast 2 Furious  \\\n",
            "user_id                                                \n",
            "1                   0.0        0.0               0.0   \n",
            "2                   0.0        0.0               0.0   \n",
            "3                   0.0        0.0               0.0   \n",
            "4                   0.0        0.0               0.0   \n",
            "5                   0.0        0.0               0.0   \n",
            "\n",
            "movie_title  20,000 Leagues Under the Sea  2001: A Space Odyssey  2046  ...  \\\n",
            "user_id                                                                 ...   \n",
            "1                                     0.0                    0.0   0.0  ...   \n",
            "2                                     0.0                    5.0   0.0  ...   \n",
            "3                                     2.0                    0.0   0.0  ...   \n",
            "4                                     0.0                    0.0   0.0  ...   \n",
            "5                                     0.0                    5.0   0.0  ...   \n",
            "\n",
            "movie_title  X-Men Origins: Wolverine  Y Tu Mamá También  You Kill Me  \\\n",
            "user_id                                                                 \n",
            "1                                 0.0                0.0          0.0   \n",
            "2                                 0.0                0.0          0.0   \n",
            "3                                 0.0                0.0          0.0   \n",
            "4                                 0.0                0.0          0.0   \n",
            "5                                 0.0                0.0          0.0   \n",
            "\n",
            "movie_title  You Only Live Twice  You, Me and Dupree  Young Frankenstein  \\\n",
            "user_id                                                                    \n",
            "1                            0.0                 0.0                 0.0   \n",
            "2                            0.0                 0.0                 0.0   \n",
            "3                            0.0                 0.0                 0.0   \n",
            "4                            0.0                 0.0                 0.0   \n",
            "5                            0.0                 0.0                 0.0   \n",
            "\n",
            "movie_title  Zathura: A Space Adventure  Zodiac  eXistenZ  xXx  \n",
            "user_id                                                         \n",
            "1                                   0.0     0.0       0.0  0.0  \n",
            "2                                   0.0     0.0       0.0  0.0  \n",
            "3                                   0.0     0.0       0.0  0.0  \n",
            "4                                   0.0     0.0       0.0  0.0  \n",
            "5                                   0.0     0.0       0.0  0.0  \n",
            "\n",
            "[5 rows x 1092 columns]\n",
            "\n",
            "Training Data Head:\n",
            "       user_id  movie_id  rating                 movie_title\n",
            "37580     1294       165     3.0  Back to the Future Part II\n",
            "51942     1793        73     3.0          American History X\n",
            "\n",
            "Testing Data Head:\n",
            "       user_id  movie_id  rating           movie_title\n",
            "40535     1395      1538     2.0            Collateral\n",
            "80501     2756      8665     3.5  K-19: The Widowmaker\n",
            "\n",
            "User Similarity Matrix Head (Cosine Similarity):\n",
            "user_id     1        2         3         4         5         6         7     \\\n",
            "user_id                                                                       \n",
            "1        1.00000  0.14692  0.321472  0.000000  0.025507  0.000000  0.080407   \n",
            "2        0.14692  1.00000  0.258156  0.109589  0.152470  0.170853  0.218470   \n",
            "\n",
            "user_id      8        9     10    ...      3365      3366  3367      3368  \\\n",
            "user_id                           ...                                       \n",
            "1        0.131071  0.19875   0.0  ...  0.157101  0.186375   0.0  0.126788   \n",
            "2        0.068341  0.00000   0.0  ...  0.053012  0.000000   0.0  0.117026   \n",
            "\n",
            "user_id      3369      3370      3371      3372      3373      3374  \n",
            "user_id                                                              \n",
            "1        0.082772  0.058548  0.188268  0.064156  0.216335  0.000000  \n",
            "2        0.000000  0.170127  0.080180  0.102266  0.000000  0.169095  \n",
            "\n",
            "[2 rows x 3362 columns]\n"
          ]
        }
      ],
      "source": [
        "# prompt: calculate user similarity using  cosine similarity\n",
        "\n",
        "import pandas as pd\n",
        "# Create a user-item matrix\n",
        "user_item_matrix = movie_ratings.pivot_table(index='user_id', columns='movie_title', values='rating').fillna(0)\n",
        "print(\"User-Item Matrix Head:\")\n",
        "print(user_item_matrix.head())\n",
        "\n",
        "# Split data into training and testing sets\n",
        "# Using the user-item matrix directly for splitting is less common for collaborative filtering training.\n",
        "# Typically, you'd split the original ratings data first.\n",
        "# However, if the goal is just to show the split, we can demonstrate on the matrix indices/columns.\n",
        "# For a true CF training split, you'd split the 'ratings' dataframe and then build train/test matrices.\n",
        "\n",
        "# Let's split the original ratings dataframe for proper evaluation later if needed\n",
        "train_data, test_data = train_test_split(movie_ratings, test_size=0.2, random_state=42)\n",
        "\n",
        "print(\"\\nTraining Data Head:\")\n",
        "print(train_data.head(2))\n",
        "print(\"\\nTesting Data Head:\")\n",
        "print(test_data.head(2))\n",
        "\n",
        "# Re-create user-item matrices for train and test sets (handling potential new users/movies in test)\n",
        "# For simplicity in similarity calculation, we'll calculate similarity on the full matrix first.\n",
        "# In a real system, similarity would typically be calculated on the training matrix.\n",
        "\n",
        "# Calculate user similarity (using cosine similarity)\n",
        "# This is the core of user-based collaborative filtering\n",
        "user_similarity = cosine_similarity(user_item_matrix)\n",
        "user_similarity_df = pd.DataFrame(user_similarity, index=user_item_matrix.index, columns=user_item_matrix.index)\n",
        "\n",
        "print(\"\\nUser Similarity Matrix Head (Cosine Similarity):\")\n",
        "print(user_similarity_df.head(2))\n"
      ]
    },
    {
      "cell_type": "markdown",
      "source": [
        "Cosine similarity measures the cosine of the angle between two non-zero vectors. In the context of a recommender system, it measures the similarity between two users based on their rating vectors. A cosine similarity close to 1 indicates that the users have similar rating patterns, while a value close to -1 indicates opposite rating patterns. A value of 0 means there is no similarity.\n",
        "\n",
        "Why is it used here?\n",
        "\n",
        "In user-based collaborative filtering, cosine similarity is often used to find users who are similar to a target user. Once similar users are identified, their ratings on movies the target user hasn't seen can be used to predict how the target user might rate those movies. This code is calculating the similarity matrix that will be used later for making recommendations."
      ],
      "metadata": {
        "id": "qHyaPj1pQ0Qc"
      }
    },
    {
      "cell_type": "markdown",
      "source": [
        "1. **Training Data**:  \n",
        "   - Contains user-movie ratings (e.g., user `1294` rated *Back to the Future Part II* a `3.0`).  \n",
        "   - Used to train the collaborative filtering model.  \n",
        "\n",
        "2. **Testing Data**:  \n",
        "   - Another set of user-movie ratings (e.g., user `1395` rated *Collateral* a `2.0`).  \n",
        "   - Used to evaluate the model's prediction accuracy.  \n",
        "\n",
        "3. **User Similarity Matrix (Cosine Similarity)**:  \n",
        "   - Measures how similar users are based on their rating patterns (range: `0` = no similarity, `1` = identical).  \n",
        "   - Example:  \n",
        "     - User `1` is perfectly similar to themselves (`1.0`).  \n",
        "     - User `1` and `2` have low similarity (`0.14692`).  \n",
        "     - User `1` is moderately similar to user `3` (`0.321472`).  \n",
        "   - Sparse entries (e.g., `0.0`) imply no overlapping rated movies or orthogonal preferences.  \n",
        "\n",
        "**Purpose**: This matrix helps predict ratings for unseen movies by leveraging ratings from similar users (nearest neighbors)."
      ],
      "metadata": {
        "id": "-LdFoL9dRnC6"
      }
    },
    {
      "cell_type": "code",
      "execution_count": null,
      "metadata": {
        "colab": {
          "base_uri": "https://localhost:8080/"
        },
        "id": "w-uKMKvR_ZXn",
        "outputId": "b290b9c6-f2ec-4916-ea10-7b9cd157ecd3"
      },
      "outputs": [
        {
          "output_type": "stream",
          "name": "stdout",
          "text": [
            "\n",
            "--- Model Performance Evaluation ---\n",
            "Number of test ratings evaluated: 19894\n",
            "Mean Squared Error (MSE): 0.8421\n",
            "Root Mean Squared Error (RMSE): 0.9176\n"
          ]
        }
      ],
      "source": [
        "# Function to make rating predictions based on user similarity\n",
        "\n",
        "def predict_rating(user_id, movie_title, user_item_matrix, user_similarity_df):\n",
        "\n",
        "    # Ensuring the movie exists in the matrix columns\n",
        "    if movie_title not in user_item_matrix.columns:\n",
        "        return 0 # Cannot predict if movie is not in the matrix\n",
        "\n",
        "\n",
        "    user_row = user_similarity_df.loc[user_id] # Getting the user's row from the similarity matrix\n",
        "\n",
        "    movie_ratings = user_item_matrix[movie_title] # Getting ratings for the target movie from all users\n",
        "\n",
        "    rated_users = movie_ratings[movie_ratings > 0].index # Finding users who have rated the target movie\n",
        "\n",
        "    # If no users have rated this movie, we cannot make a prediction based on similarity\n",
        "    if rated_users.empty:\n",
        "        return 0 # Return a default value like 0 or the global average\n",
        "\n",
        "\n",
        "    similar_users = user_row[rated_users] # Filterring similarity to only include users who rated the target movie\n",
        "\n",
        "    # Get ratings of the target movie from these similar users\n",
        "    similar_users_ratings = movie_ratings[rated_users]\n",
        "\n",
        "    # If there are no similar users who rated the target movie after filtering\n",
        "    if similar_users.empty or similar_users.sum() == 0: # Check if there are any similar users and if their similarities sum to non-zero\n",
        "         return 0 # Return a default value\n",
        "\n",
        "\n",
        "    # Calculate the weighted average of ratings from similar users\n",
        "    # Avoid division by zero if the sum of similarities is zero\n",
        "    weighted_sum = np.dot(similar_users, similar_users_ratings)\n",
        "    sum_of_similarities = similar_users.sum()\n",
        "\n",
        "    if sum_of_similarities == 0:\n",
        "        return 0 # Return a default if sum of similarities is zero\n",
        "\n",
        "    predicted_rating = weighted_sum / sum_of_similarities\n",
        "\n",
        "    return predicted_rating\n",
        "\n",
        "\n",
        "# Evaluate the performance using the test set\n",
        "# We need to iterate through the test set and make predictions for each (user, movie) pair.\n",
        "# Then compare predicted ratings with actual ratings.\n",
        "\n",
        "actual_ratings = []\n",
        "predicted_ratings = []\n",
        "\n",
        "# Iterate through the test data\n",
        "for index, row in test_data.iterrows():\n",
        "    user_id = row['user_id']\n",
        "    movie_title = row['movie_title']\n",
        "    actual_rating = row['rating']\n",
        "\n",
        "    # Make prediction for the test instance\n",
        "    # We need to ensure the user and movie exist in the matrices built from the full data\n",
        "    if user_id in user_item_matrix.index and movie_title in user_item_matrix.columns:\n",
        "        predicted_rating = predict_rating(user_id, movie_title, user_item_matrix, user_similarity_df)\n",
        "\n",
        "        # Store actual and predicted ratings\n",
        "        actual_ratings.append(actual_rating)\n",
        "        predicted_ratings.append(predicted_rating)\n",
        "    # else:\n",
        "        # print(f\"Skipping test instance: User {user_id} or Movie '{movie_title}' not in matrix.\")\n",
        "\n",
        "# Convert lists to numpy arrays for calculation\n",
        "actual_ratings = np.array(actual_ratings)\n",
        "predicted_ratings = np.array(predicted_ratings)\n",
        "\n",
        "# Calculate Mean Squared Error (RMSE is often preferred, which is sqrt(MSE))\n",
        "mse = mean_squared_error(actual_ratings, predicted_ratings)\n",
        "rmse = np.sqrt(mse)\n",
        "\n",
        "print(f\"\\n--- Model Performance Evaluation ---\")\n",
        "print(f\"Number of test ratings evaluated: {len(actual_ratings)}\")\n",
        "print(f\"Mean Squared Error (MSE): {mse:.4f}\")\n",
        "print(f\"Root Mean Squared Error (RMSE): {rmse:.4f}\")"
      ]
    },
    {
      "cell_type": "markdown",
      "source": [
        "📊 **Model Performance Evaluation Summary**\n",
        "\n",
        "#### ✅ `Number of test ratings evaluated: 19894`\n",
        "\n",
        "* This means the model made **19,894 predictions** on the test dataset.\n",
        "* It shows the **sample size** used to evaluate performance — the more ratings, the more reliable the error estimate.\n",
        "\n",
        "---\n",
        "\n",
        "#### 📉 **Mean Squared Error (MSE): 0.8421**\n",
        "\n",
        "* MSE measures the **average of the squared differences** between predicted ratings and actual ratings.\n",
        "* A **lower MSE** indicates **better accuracy**.\n",
        "* In our case, an MSE of `0.8421` means the **predicted ratings deviate, on average, by around 0.8421 units squared** from the actual ratings.\n",
        "\n",
        "---\n",
        "\n",
        "#### 📉 **Root Mean Squared Error (RMSE): 0.9176**\n",
        "\n",
        "* RMSE is the **square root of MSE**, and it’s easier to interpret because it's in the **same units as the ratings** (e.g., if ratings are from 1 to 5).\n",
        "Our RMSE of `0.9176` means that on average, the predicted ratings are off by approximately 0.92 rating points from the true ratings.\n"
      ],
      "metadata": {
        "id": "V-d0Bit_Aukg"
      }
    },
    {
      "cell_type": "markdown",
      "source": [
        "### **How Accurate Are Our Movie Rating Predictions?**  \n",
        "Imagine you’re guessing how much someone will like a movie (on a scale of 1 to 5). Sometimes you’ll guess too high, sometimes too low.  \n",
        "\n",
        "- **MSE (0.8421)**: This measures how \"off\" your guesses are, but it squares the errors (so bigger mistakes count more). A lower number is better—ours is decent but not perfect.  \n",
        "- **RMSE (0.92)**: This tells you roughly how far off your guesses are *on average*. Here, it means:  \n",
        "  - If you predict a movie will be a **4**, it might actually be a **3.1** or a **4.9**.  \n",
        "  - The system is usually within **±0.92 stars** of the real rating.  \n",
        "\n",
        "### **Is This Good?**  \n",
        "- Ratings go from 1–5, so being off by **about 1 star** is okay but not amazing.  \n",
        "- It’s like predicting the weather: if you say \"it’ll be 75°F\" and it’s usually between **74° and 76°**, that’s great. But if it’s between **70° and 80°**, you’re close but not super precise."
      ],
      "metadata": {
        "id": "jihuXWa2Ur6K"
      }
    },
    {
      "cell_type": "markdown",
      "metadata": {
        "id": "rD1o-c_AGnK5"
      },
      "source": [
        "# Comment\n",
        "RMSE is a common metric to evaluate the accuracy of rating predictions.\n",
        "It represents the standard deviation of the prediction errors.\n",
        "### A lower **RMSE** indicates better model performance.\n",
        "In this case, the RMSE of **0.9550** means that, on average, the predicted ratings are off by about 0.9550 units from the actual ratings on a 1-5 scale.\n",
        "The acceptable RMSE value depends on the specific application and scale of ratings.\n"
      ]
    },
    {
      "cell_type": "markdown",
      "metadata": {
        "id": "LlXxBGBfDAuM"
      },
      "source": [
        "# **Enhancing Performance**"
      ]
    },
    {
      "cell_type": "code",
      "source": [
        "#!pip uninstall -y numpy scipy scikit-surprise\n"
      ],
      "metadata": {
        "colab": {
          "base_uri": "https://localhost:8080/"
        },
        "id": "cT5o3sMm5UyQ",
        "outputId": "6bad5a2a-72c2-440b-e620-5c552ed418ce"
      },
      "execution_count": null,
      "outputs": [
        {
          "output_type": "stream",
          "name": "stdout",
          "text": [
            "\u001b[33mWARNING: Skipping numpy as it is not installed.\u001b[0m\u001b[33m\n",
            "\u001b[0mFound existing installation: scipy 1.16.0\n",
            "Uninstalling scipy-1.16.0:\n",
            "  Successfully uninstalled scipy-1.16.0\n",
            "Found existing installation: scikit-surprise 1.1.4\n",
            "Uninstalling scikit-surprise-1.1.4:\n",
            "  Successfully uninstalled scikit-surprise-1.1.4\n"
          ]
        }
      ]
    },
    {
      "cell_type": "code",
      "source": [
        "#install compatible version of numpy and scipy\n",
        "#!pip install numpy\n",
        "#!pip install scipy"
      ],
      "metadata": {
        "colab": {
          "base_uri": "https://localhost:8080/",
          "height": 1000
        },
        "id": "llhHHUD55fWm",
        "outputId": "fc44cf92-19d0-4653-fef0-825d9d2b6d67"
      },
      "execution_count": null,
      "outputs": [
        {
          "output_type": "stream",
          "name": "stdout",
          "text": [
            "Collecting numpy\n",
            "  Using cached numpy-2.3.2-cp311-cp311-manylinux_2_27_x86_64.manylinux_2_28_x86_64.whl.metadata (62 kB)\n",
            "Using cached numpy-2.3.2-cp311-cp311-manylinux_2_27_x86_64.manylinux_2_28_x86_64.whl (16.9 MB)\n",
            "Installing collected packages: numpy\n",
            "\u001b[31mERROR: pip's dependency resolver does not currently take into account all the packages that are installed. This behaviour is the source of the following dependency conflicts.\n",
            "scs 3.2.7.post2 requires scipy, which is not installed.\n",
            "clarabel 0.11.1 requires scipy, which is not installed.\n",
            "libpysal 4.13.0 requires scipy>=1.8, which is not installed.\n",
            "hyperopt 0.2.7 requires scipy, which is not installed.\n",
            "jaxlib 0.5.1 requires scipy>=1.11.1, which is not installed.\n",
            "yellowbrick 1.5 requires scipy>=1.0.0, which is not installed.\n",
            "missingno 0.5.2 requires scipy, which is not installed.\n",
            "jax 0.5.2 requires scipy>=1.11.1, which is not installed.\n",
            "scikit-image 0.25.2 requires scipy>=1.11.4, which is not installed.\n",
            "albumentations 2.0.8 requires scipy>=1.10.0, which is not installed.\n",
            "cvxpy 1.6.7 requires scipy>=1.11.0, which is not installed.\n",
            "shap 0.48.0 requires scipy, which is not installed.\n",
            "cuml-cu12 25.6.0 requires scipy>=1.8.0, which is not installed.\n",
            "pytensor 2.31.7 requires scipy<2,>=1, which is not installed.\n",
            "hdbscan 0.8.40 requires scipy>=1.0, which is not installed.\n",
            "mlxtend 0.23.4 requires scipy>=1.2.1, which is not installed.\n",
            "treelite 4.4.1 requires scipy, which is not installed.\n",
            "tsfresh 0.21.0 requires scipy>=1.14.0; python_version >= \"3.10\", which is not installed.\n",
            "xgboost 3.0.2 requires scipy, which is not installed.\n",
            "osqp 1.0.4 requires scipy>=0.13.2, which is not installed.\n",
            "statsmodels 0.14.5 requires scipy!=1.9.2,>=1.8, which is not installed.\n",
            "stumpy 1.13.0 requires scipy>=1.10, which is not installed.\n",
            "arviz 0.22.0 requires scipy>=1.11.0, which is not installed.\n",
            "umap-learn 0.5.9.post2 requires scipy>=1.3.1, which is not installed.\n",
            "plotnine 0.14.5 requires scipy>=1.8.0, which is not installed.\n",
            "matplotlib-venn 1.1.2 requires scipy, which is not installed.\n",
            "imbalanced-learn 0.13.0 requires scipy<2,>=1.10.1, which is not installed.\n",
            "sklearn-pandas 2.2.0 requires scipy>=1.5.1, which is not installed.\n",
            "pymc 5.24.1 requires scipy>=1.4.1, which is not installed.\n",
            "mizani 0.13.5 requires scipy>=1.8.0, which is not installed.\n",
            "xarray-einstats 0.9.1 requires scipy>=1.11, which is not installed.\n",
            "fastai 2.7.19 requires scipy, which is not installed.\n",
            "scikit-learn 1.6.1 requires scipy>=1.6.0, which is not installed.\n",
            "lightgbm 4.6.0 requires scipy, which is not installed.\n",
            "librosa 0.11.0 requires scipy>=1.6.0, which is not installed.\n",
            "opencv-python 4.12.0.88 requires numpy<2.3.0,>=2; python_version >= \"3.9\", but you have numpy 2.3.2 which is incompatible.\n",
            "opencv-contrib-python 4.12.0.88 requires numpy<2.3.0,>=2; python_version >= \"3.9\", but you have numpy 2.3.2 which is incompatible.\n",
            "cupy-cuda12x 13.3.0 requires numpy<2.3,>=1.22, but you have numpy 2.3.2 which is incompatible.\n",
            "numba 0.60.0 requires numpy<2.1,>=1.22, but you have numpy 2.3.2 which is incompatible.\n",
            "tensorflow 2.18.0 requires numpy<2.1.0,>=1.26.0, but you have numpy 2.3.2 which is incompatible.\n",
            "opencv-python-headless 4.12.0.88 requires numpy<2.3.0,>=2; python_version >= \"3.9\", but you have numpy 2.3.2 which is incompatible.\u001b[0m\u001b[31m\n",
            "\u001b[0mSuccessfully installed numpy-2.3.2\n"
          ]
        },
        {
          "output_type": "display_data",
          "data": {
            "application/vnd.colab-display-data+json": {
              "pip_warning": {
                "packages": [
                  "numpy"
                ]
              },
              "id": "9d7e8c88ac524441867de8dcb54e4072"
            }
          },
          "metadata": {}
        },
        {
          "output_type": "stream",
          "name": "stdout",
          "text": [
            "Collecting scipy\n",
            "  Using cached scipy-1.16.0-cp311-cp311-manylinux2014_x86_64.manylinux_2_17_x86_64.whl.metadata (61 kB)\n",
            "Requirement already satisfied: numpy<2.6,>=1.25.2 in /usr/local/lib/python3.11/dist-packages (from scipy) (2.3.2)\n",
            "Using cached scipy-1.16.0-cp311-cp311-manylinux2014_x86_64.manylinux_2_17_x86_64.whl (35.3 MB)\n",
            "^C\n"
          ]
        }
      ]
    },
    {
      "cell_type": "code",
      "source": [
        "# 1. Uninstall broken/conflicting packages\n",
        "!pip uninstall -y numpy scipy scikit-surprise\n",
        "\n",
        "# 2. Reinstall specific compatible versions\n",
        "!pip install numpy==1.23.5\n",
        "!pip install scipy==1.9.3\n",
        "!pip install scikit-surprise==1.1.1\n"
      ],
      "metadata": {
        "colab": {
          "base_uri": "https://localhost:8080/",
          "height": 1000
        },
        "id": "rsUsG_xY7Aj4",
        "outputId": "f68bbcf8-7fce-489f-ffd4-f23213309619"
      },
      "execution_count": null,
      "outputs": [
        {
          "output_type": "stream",
          "name": "stdout",
          "text": [
            "Found existing installation: numpy 1.23.5\n",
            "Uninstalling numpy-1.23.5:\n",
            "  Successfully uninstalled numpy-1.23.5\n",
            "Found existing installation: scipy 1.9.3\n",
            "Uninstalling scipy-1.9.3:\n",
            "  Successfully uninstalled scipy-1.9.3\n",
            "\u001b[33mWARNING: Skipping scikit-surprise as it is not installed.\u001b[0m\u001b[33m\n",
            "\u001b[0mCollecting numpy==1.23.5\n",
            "  Using cached numpy-1.23.5-cp311-cp311-manylinux_2_17_x86_64.manylinux2014_x86_64.whl.metadata (2.3 kB)\n",
            "Using cached numpy-1.23.5-cp311-cp311-manylinux_2_17_x86_64.manylinux2014_x86_64.whl (17.1 MB)\n",
            "Installing collected packages: numpy\n",
            "\u001b[31mERROR: pip's dependency resolver does not currently take into account all the packages that are installed. This behaviour is the source of the following dependency conflicts.\n",
            "xarray-einstats 0.9.1 requires scipy>=1.11, which is not installed.\n",
            "scikit-learn 1.6.1 requires scipy>=1.6.0, which is not installed.\n",
            "mlxtend 0.23.4 requires scipy>=1.2.1, which is not installed.\n",
            "treelite 4.4.1 requires scipy, which is not installed.\n",
            "statsmodels 0.14.5 requires scipy!=1.9.2,>=1.8, which is not installed.\n",
            "umap-learn 0.5.9.post2 requires scipy>=1.3.1, which is not installed.\n",
            "arviz 0.22.0 requires scipy>=1.11.0, which is not installed.\n",
            "stumpy 1.13.0 requires scipy>=1.10, which is not installed.\n",
            "osqp 1.0.4 requires scipy>=0.13.2, which is not installed.\n",
            "hdbscan 0.8.40 requires scipy>=1.0, which is not installed.\n",
            "imbalanced-learn 0.13.0 requires scipy<2,>=1.10.1, which is not installed.\n",
            "fastai 2.7.19 requires scipy, which is not installed.\n",
            "clarabel 0.11.1 requires scipy, which is not installed.\n",
            "tsfresh 0.21.0 requires scipy>=1.14.0; python_version >= \"3.10\", which is not installed.\n",
            "pytensor 2.31.7 requires scipy<2,>=1, which is not installed.\n",
            "xgboost 3.0.2 requires scipy, which is not installed.\n",
            "jax 0.5.2 requires scipy>=1.11.1, which is not installed.\n",
            "hyperopt 0.2.7 requires scipy, which is not installed.\n",
            "cuml-cu12 25.6.0 requires scipy>=1.8.0, which is not installed.\n",
            "plotnine 0.14.5 requires scipy>=1.8.0, which is not installed.\n",
            "cvxpy 1.6.7 requires scipy>=1.11.0, which is not installed.\n",
            "albumentations 2.0.8 requires scipy>=1.10.0, which is not installed.\n",
            "lightgbm 4.6.0 requires scipy, which is not installed.\n",
            "jaxlib 0.5.1 requires scipy>=1.11.1, which is not installed.\n",
            "pymc 5.25.0 requires scipy>=1.4.1, which is not installed.\n",
            "librosa 0.11.0 requires scipy>=1.6.0, which is not installed.\n",
            "scikit-image 0.25.2 requires scipy>=1.11.4, which is not installed.\n",
            "sklearn-pandas 2.2.0 requires scipy>=1.5.1, which is not installed.\n",
            "mizani 0.13.5 requires scipy>=1.8.0, which is not installed.\n",
            "missingno 0.5.2 requires scipy, which is not installed.\n",
            "libpysal 4.13.0 requires scipy>=1.8, which is not installed.\n",
            "yellowbrick 1.5 requires scipy>=1.0.0, which is not installed.\n",
            "sentence-transformers 4.1.0 requires scipy, which is not installed.\n",
            "shap 0.48.0 requires scipy, which is not installed.\n",
            "scs 3.2.7.post2 requires scipy, which is not installed.\n",
            "pynndescent 0.5.13 requires scipy>=1.0, which is not installed.\n",
            "matplotlib-venn 1.1.2 requires scipy, which is not installed.\n",
            "xarray-einstats 0.9.1 requires numpy>=1.25, but you have numpy 1.23.5 which is incompatible.\n",
            "treescope 0.1.9 requires numpy>=1.25.2, but you have numpy 1.23.5 which is incompatible.\n",
            "xarray 2025.7.1 requires numpy>=1.26, but you have numpy 1.23.5 which is incompatible.\n",
            "arviz 0.22.0 requires numpy>=1.26.0, but you have numpy 1.23.5 which is incompatible.\n",
            "albucore 0.0.24 requires numpy>=1.24.4, but you have numpy 1.23.5 which is incompatible.\n",
            "blosc2 3.6.1 requires numpy>=1.26, but you have numpy 1.23.5 which is incompatible.\n",
            "tensorflow 2.18.0 requires numpy<2.1.0,>=1.26.0, but you have numpy 1.23.5 which is incompatible.\n",
            "imbalanced-learn 0.13.0 requires numpy<3,>=1.24.3, but you have numpy 1.23.5 which is incompatible.\n",
            "opencv-python 4.12.0.88 requires numpy<2.3.0,>=2; python_version >= \"3.9\", but you have numpy 1.23.5 which is incompatible.\n",
            "jax 0.5.2 requires numpy>=1.25, but you have numpy 1.23.5 which is incompatible.\n",
            "thinc 8.3.6 requires numpy<3.0.0,>=2.0.0, but you have numpy 1.23.5 which is incompatible.\n",
            "chex 0.1.90 requires numpy>=1.24.1, but you have numpy 1.23.5 which is incompatible.\n",
            "albumentations 2.0.8 requires numpy>=1.24.4, but you have numpy 1.23.5 which is incompatible.\n",
            "jaxlib 0.5.1 requires numpy>=1.25, but you have numpy 1.23.5 which is incompatible.\n",
            "pymc 5.25.0 requires numpy>=1.25.0, but you have numpy 1.23.5 which is incompatible.\n",
            "scikit-image 0.25.2 requires numpy>=1.24, but you have numpy 1.23.5 which is incompatible.\n",
            "bigframes 2.11.0 requires numpy>=1.24.0, but you have numpy 1.23.5 which is incompatible.\n",
            "geopandas 1.1.1 requires numpy>=1.24, but you have numpy 1.23.5 which is incompatible.\n",
            "opencv-python-headless 4.12.0.88 requires numpy<2.3.0,>=2; python_version >= \"3.9\", but you have numpy 1.23.5 which is incompatible.\n",
            "db-dtypes 1.4.3 requires numpy>=1.24.0, but you have numpy 1.23.5 which is incompatible.\n",
            "opencv-contrib-python 4.12.0.88 requires numpy<2.3.0,>=2; python_version >= \"3.9\", but you have numpy 1.23.5 which is incompatible.\u001b[0m\u001b[31m\n",
            "\u001b[0mSuccessfully installed numpy-1.23.5\n"
          ]
        },
        {
          "output_type": "display_data",
          "data": {
            "application/vnd.colab-display-data+json": {
              "pip_warning": {
                "packages": [
                  "numpy"
                ]
              },
              "id": "1931eb03fc1c4abe8d4ad8bcb3bdb832"
            }
          },
          "metadata": {}
        },
        {
          "output_type": "stream",
          "name": "stdout",
          "text": [
            "Collecting scipy==1.9.3\n",
            "  Using cached scipy-1.9.3-cp311-cp311-manylinux_2_17_x86_64.manylinux2014_x86_64.whl.metadata (58 kB)\n",
            "Requirement already satisfied: numpy<1.26.0,>=1.18.5 in /usr/local/lib/python3.11/dist-packages (from scipy==1.9.3) (1.23.5)\n",
            "Using cached scipy-1.9.3-cp311-cp311-manylinux_2_17_x86_64.manylinux2014_x86_64.whl (33.4 MB)\n",
            "Installing collected packages: scipy\n",
            "\u001b[31mERROR: pip's dependency resolver does not currently take into account all the packages that are installed. This behaviour is the source of the following dependency conflicts.\n",
            "xarray-einstats 0.9.1 requires numpy>=1.25, but you have numpy 1.23.5 which is incompatible.\n",
            "xarray-einstats 0.9.1 requires scipy>=1.11, but you have scipy 1.9.3 which is incompatible.\n",
            "arviz 0.22.0 requires numpy>=1.26.0, but you have numpy 1.23.5 which is incompatible.\n",
            "arviz 0.22.0 requires scipy>=1.11.0, but you have scipy 1.9.3 which is incompatible.\n",
            "stumpy 1.13.0 requires scipy>=1.10, but you have scipy 1.9.3 which is incompatible.\n",
            "imbalanced-learn 0.13.0 requires numpy<3,>=1.24.3, but you have numpy 1.23.5 which is incompatible.\n",
            "imbalanced-learn 0.13.0 requires scipy<2,>=1.10.1, but you have scipy 1.9.3 which is incompatible.\n",
            "tsfresh 0.21.0 requires scipy>=1.14.0; python_version >= \"3.10\", but you have scipy 1.9.3 which is incompatible.\n",
            "jax 0.5.2 requires numpy>=1.25, but you have numpy 1.23.5 which is incompatible.\n",
            "jax 0.5.2 requires scipy>=1.11.1, but you have scipy 1.9.3 which is incompatible.\n",
            "chex 0.1.90 requires numpy>=1.24.1, but you have numpy 1.23.5 which is incompatible.\n",
            "cvxpy 1.6.7 requires scipy>=1.11.0, but you have scipy 1.9.3 which is incompatible.\n",
            "albumentations 2.0.8 requires numpy>=1.24.4, but you have numpy 1.23.5 which is incompatible.\n",
            "albumentations 2.0.8 requires scipy>=1.10.0, but you have scipy 1.9.3 which is incompatible.\n",
            "jaxlib 0.5.1 requires numpy>=1.25, but you have numpy 1.23.5 which is incompatible.\n",
            "jaxlib 0.5.1 requires scipy>=1.11.1, but you have scipy 1.9.3 which is incompatible.\n",
            "pymc 5.25.0 requires numpy>=1.25.0, but you have numpy 1.23.5 which is incompatible.\n",
            "scikit-image 0.25.2 requires numpy>=1.24, but you have numpy 1.23.5 which is incompatible.\n",
            "scikit-image 0.25.2 requires scipy>=1.11.4, but you have scipy 1.9.3 which is incompatible.\u001b[0m\u001b[31m\n",
            "\u001b[0mSuccessfully installed scipy-1.9.3\n",
            "Collecting scikit-surprise==1.1.1\n",
            "  Downloading scikit-surprise-1.1.1.tar.gz (11.8 MB)\n",
            "\u001b[2K     \u001b[90m━━━━━━━━━━━━━━━━━━━━━━━━━━━━━━━━━━━━━━━━\u001b[0m \u001b[32m11.8/11.8 MB\u001b[0m \u001b[31m2.1 MB/s\u001b[0m eta \u001b[36m0:00:00\u001b[0m\n",
            "\u001b[?25h  Preparing metadata (setup.py) ... \u001b[?25l\u001b[?25hdone\n",
            "Requirement already satisfied: joblib>=0.11 in /usr/local/lib/python3.11/dist-packages (from scikit-surprise==1.1.1) (1.5.1)\n",
            "Requirement already satisfied: numpy>=1.11.2 in /usr/local/lib/python3.11/dist-packages (from scikit-surprise==1.1.1) (1.23.5)\n",
            "Requirement already satisfied: scipy>=1.0.0 in /usr/local/lib/python3.11/dist-packages (from scikit-surprise==1.1.1) (1.9.3)\n",
            "Requirement already satisfied: six>=1.10.0 in /usr/local/lib/python3.11/dist-packages (from scikit-surprise==1.1.1) (1.17.0)\n",
            "Building wheels for collected packages: scikit-surprise\n",
            "  Building wheel for scikit-surprise (setup.py) ... \u001b[?25l\u001b[?25hdone\n",
            "  Created wheel for scikit-surprise: filename=scikit_surprise-1.1.1-cp311-cp311-linux_x86_64.whl size=2149300 sha256=08d0a17ac552dad7adda4699ba5f69494974e36ad8389132dfffa23436268e0e\n",
            "  Stored in directory: /root/.cache/pip/wheels/8f/5e/64/3684b2537e2024fea30180824007029e8f0c5667f3cbe57a1c\n",
            "Successfully built scikit-surprise\n",
            "Installing collected packages: scikit-surprise\n",
            "Successfully installed scikit-surprise-1.1.1\n"
          ]
        }
      ]
    },
    {
      "cell_type": "code",
      "source": [
        "from surprise import Dataset, Reader, SVD\n",
        "from surprise.model_selection import train_test_split\n",
        "from surprise import accuracy"
      ],
      "metadata": {
        "id": "Tl15l6HG7T29"
      },
      "execution_count": null,
      "outputs": []
    },
    {
      "cell_type": "code",
      "source": [
        "import numpy\n",
        "import scipy\n",
        "import surprise\n",
        "\n",
        "print(\"NumPy:\", numpy.__version__)\n",
        "print(\"SciPy:\", scipy.__version__)\n",
        "print(\"Surprise:\", surprise.__version__)\n"
      ],
      "metadata": {
        "colab": {
          "base_uri": "https://localhost:8080/"
        },
        "id": "RkmTjwYA7rak",
        "outputId": "2c514d5b-67bf-4e89-96fa-10bfe267e154"
      },
      "execution_count": null,
      "outputs": [
        {
          "output_type": "stream",
          "name": "stdout",
          "text": [
            "NumPy: 1.23.5\n",
            "SciPy: 1.9.3\n",
            "Surprise: 1.1.1\n"
          ]
        }
      ]
    },
    {
      "cell_type": "code",
      "execution_count": null,
      "metadata": {
        "id": "gam-BvrTE1VL"
      },
      "outputs": [],
      "source": [
        "# Load the ratings data into Surprise format\n",
        "reader = Reader(rating_scale=(1, 5)) # Ratings are on a 1-5 scale\n",
        "# Create the Surprise Dataset directly from the pandas DataFrame\n",
        "# It expects columns in the order user, item, rating\n",
        "surprise_data = Dataset.load_from_df(ratings[['user_id', 'movie_id', 'rating']], reader)\n",
        "\n"
      ]
    },
    {
      "cell_type": "code",
      "execution_count": null,
      "metadata": {
        "id": "iKtc58ybFAZb"
      },
      "outputs": [],
      "source": [
        "# Split the data into training and test sets using Surprise's splitter\n",
        "trainset, testset = surprise.model_selection.train_test_split(surprise_data, test_size=0.2, random_state=42)"
      ]
    },
    {
      "cell_type": "code",
      "execution_count": null,
      "metadata": {
        "colab": {
          "base_uri": "https://localhost:8080/"
        },
        "id": "9y6mwljgFI0q",
        "outputId": "33b0cb88-fe93-43b2-c00b-f9691869dcd8"
      },
      "outputs": [
        {
          "output_type": "stream",
          "name": "stdout",
          "text": [
            "Training SVD model...\n",
            "SVD model training complete.\n"
          ]
        }
      ],
      "source": [
        "# Initialize the SVD algorithm\n",
        "algo = SVD(random_state=42)\n",
        "\n",
        "# Train the algorithm on the trainset\n",
        "print(\"Training SVD model...\")\n",
        "algo.fit(trainset)\n",
        "print(\"SVD model training complete.\")\n",
        "\n"
      ]
    },
    {
      "cell_type": "code",
      "execution_count": null,
      "metadata": {
        "colab": {
          "base_uri": "https://localhost:8080/"
        },
        "id": "J0wcmvSuFOvS",
        "outputId": "0aecd2a7-f312-4ac8-957d-17582b4b927f"
      },
      "outputs": [
        {
          "output_type": "stream",
          "name": "stdout",
          "text": [
            "Making predictions on test set...\n",
            "Prediction complete.\n"
          ]
        }
      ],
      "source": [
        "# Predict ratings for the testset\n",
        "print(\"Making predictions on test set...\")\n",
        "predictions = algo.test(testset)\n",
        "print(\"Prediction complete.\")\n",
        "\n"
      ]
    },
    {
      "cell_type": "markdown",
      "metadata": {
        "id": "fhZfimxHFneC"
      },
      "source": [
        "#Evaluating Peformance after Using the Surprise library's SVD algorithm"
      ]
    },
    {
      "cell_type": "code",
      "execution_count": null,
      "metadata": {
        "colab": {
          "base_uri": "https://localhost:8080/"
        },
        "id": "G4fsIb7xFWZy",
        "outputId": "99d9b782-1383-49d2-d872-42651629ac74"
      },
      "outputs": [
        {
          "output_type": "stream",
          "name": "stdout",
          "text": [
            "\n",
            "--- SVD Model Performance Evaluation (Surprise) ---\n",
            "RMSE: 0.8552\n",
            "MAE:  0.6536\n"
          ]
        }
      ],
      "source": [
        "# Evaluate the performance using Surprise's accuracy module\n",
        "print(\"\\n--- SVD Model Performance Evaluation (Surprise) ---\")\n",
        "# Calculate RMSE\n",
        "rmse_surprise = accuracy.rmse(predictions, verbose=True)\n",
        "# Calculate MAE (Mean Absolute Error)\n",
        "mae_surprise = accuracy.mae(predictions, verbose=True)\n",
        "\n",
        "\n"
      ]
    },
    {
      "cell_type": "markdown",
      "source": [
        "### 🎯 **SVD Model Evaluation Summary**\n",
        "\n",
        "* **RMSE: 0.8552** → On average, predictions deviate by **\\~0.86 rating points** from actual ratings.\n",
        "* **MAE: 0.6536** → Average absolute error is **\\~0.65**, showing reasonably accurate predictions.\n",
        "\n",
        "✅ **Conclusion**: The model performs **fairly well**, with errors under 1.0 on a typical 1–5 rating scale.\n"
      ],
      "metadata": {
        "id": "i1_GO6OIC7kG"
      }
    },
    {
      "cell_type": "markdown",
      "source": [
        "### 🔍 **Comparison of Model Performances**\n",
        "\n",
        "| Metric           | SVD Model (Surprise) | Other Model |\n",
        "| ---------------- | -------------------- | ----------- |\n",
        "| **RMSE**         | 0.8552               | 0.9176      |\n",
        "| **MSE**          | —                    | 0.8421      |\n",
        "| **MAE**          | 0.6536               | —           |\n",
        "| **Test Ratings** | —                    | 19,894      |\n",
        "\n",
        "### ✅ **Summary**:\n",
        "\n",
        "* **SVD performs better**, with a lower RMSE (**0.8552 vs 0.9176**) indicating **more accurate predictions**.\n",
        "* SVD also provides **MAE (0.6536)**, which gives additional insight into average prediction error.\n",
        "* Overall, **SVD is the more reliable model** based on the evaluation metrics.\n"
      ],
      "metadata": {
        "id": "Z-ZiFRaMDdSc"
      }
    },
    {
      "cell_type": "markdown",
      "metadata": {
        "id": "eeErCx60I1VY"
      },
      "source": [
        "These metrics indicate the average error in the predicted ratings.\n",
        "RMSE penalizes larger errors more than MAE.\n",
        "\n",
        "\n",
        "Comparing these to the previous collaborative filtering method's RMSE gives an indication of which model performs better.\n",
        "Matrix factorization methods like SVD often perform better than neighborhood-based methods (like the previous cosine similarity approach) on sparse datasets by uncovering latent factors."
      ]
    },
    {
      "cell_type": "markdown",
      "metadata": {
        "id": "-A8veJP5GB3h"
      },
      "source": []
    },
    {
      "cell_type": "markdown",
      "metadata": {
        "id": "6XTU9oGGMASX"
      },
      "source": [
        "# **Testing the algorithm**\n",
        "\n",
        "## Making a single prediction using the trained SVD model for user 196 and movie 242"
      ]
    },
    {
      "cell_type": "code",
      "execution_count": null,
      "metadata": {
        "colab": {
          "base_uri": "https://localhost:8080/"
        },
        "id": "3WDTh07VF-x5",
        "outputId": "2afb41a5-72ef-4a07-8d4d-3bff4c7464fc"
      },
      "outputs": [
        {
          "output_type": "stream",
          "name": "stdout",
          "text": [
            "\n",
            "Example Prediction for User 700 and Movie 24:\n",
            "Predicted rating: 2.7087\n",
            "Actual rating not found for this user/movie pair.\n"
          ]
        }
      ],
      "source": [
        "\n",
        "user_id_example = 700\n",
        "movie_id_example = 24\n",
        "\n",
        "# Surprise uses inner IDs for training, but predict() takes raw IDs\n",
        "try:\n",
        "    prediction_example = algo.predict(uid=user_id_example, iid=movie_id_example)\n",
        "    print(f\"\\nExample Prediction for User {user_id_example} and Movie {movie_id_example}:\")\n",
        "    print(f\"Predicted rating: {prediction_example.est:.4f}\")\n",
        "    #  checking for the actual rating if it exists in the test set\n",
        "    # Find if this specific (user, movie) pair is in the testset\n",
        "    actual_rating_example = None\n",
        "    for uid, iid, r in testset:\n",
        "        if uid == user_id_example and iid == movie_id_example:\n",
        "            actual_rating_example = r\n",
        "            break\n",
        "    if actual_rating_example is not None:\n",
        "        print(f\"Actual rating (if in test set): {actual_rating_example}\")\n",
        "    else:\n",
        "         # checking if it's in the full ratings data but not the test set\n",
        "         full_rating_example = ratings[(ratings['user_id'] == user_id_example) & (ratings['movie_id'] == movie_id_example)]\n",
        "         if not full_rating_example.empty:\n",
        "             print(f\"Actual rating (from full data): {full_rating_example['rating'].iloc[0]}\")\n",
        "         else:\n",
        "             print(\"Actual rating not found for this user/movie pair.\")\n",
        "\n",
        "except Exception as e:\n",
        "    print(f\"\\nCould not make example prediction: {e}\")\n",
        "    print(\"This might happen if the example user or movie ID was not in the training data.\")\n",
        "\n",
        "\n"
      ]
    },
    {
      "cell_type": "code",
      "execution_count": null,
      "metadata": {
        "id": "tHxF7J8GOpkE"
      },
      "outputs": [],
      "source": [
        "# Function to get top N movie recommendations for a user using SVD\n",
        "def get_top_n_recommendations_svd(user_id, n=10):\n",
        "    # Get a list of all movie IDs from the ratings data\n",
        "    all_movie_ids = ratings['movie_id'].unique()\n",
        "\n",
        "    # Get movies already rated by the user\n",
        "    rated_movie_ids = ratings[ratings['user_id'] == user_id]['movie_id'].tolist()\n",
        "\n",
        "    # Identify movies the user has NOT rated\n",
        "    unrated_movie_ids = [movie_id for movie_id in all_movie_ids if movie_id not in rated_movie_ids]\n",
        "\n",
        "    # Predict ratings for the unrated movies\n",
        "    predictions_unrated = []\n",
        "    for movie_id in unrated_movie_ids:\n",
        "         # Use algo.predict with the user_id and unrated movie_id\n",
        "         # The estimate (prediction_example.est) is the predicted rating\n",
        "         # Check if the movie_id is known by the algorithm\n",
        "         try:\n",
        "             predicted_rating = algo.predict(uid=user_id, iid=movie_id).est\n",
        "             predictions_unrated.append((movie_id, predicted_rating))\n",
        "         except Exception as e:\n",
        "             # This can happen if the movie ID was not in the training set\n",
        "             # print(f\"Could not predict for movie ID {movie_id}: {e}\") # Optional: uncomment for debugging\n",
        "             pass\n",
        "\n",
        "\n",
        "    # Sort the predictions by estimated rating in descending order\n",
        "    predictions_unrated.sort(key=lambda x: x[1], reverse=True)\n",
        "\n",
        "    # Get the top N movie IDs and their predicted ratings\n",
        "    top_n_predictions = predictions_unrated[:n]\n",
        "\n",
        "    # Merge with movie titles for display\n",
        "    top_n_recommendations = []\n",
        "    for movie_id, predicted_rating in top_n_predictions:\n",
        "        # Check if the movie_id exists in the movies DataFrame before trying to get the title\n",
        "        movie_info = movies[movies['movie_id'] == movie_id]\n",
        "        if not movie_info.empty:\n",
        "            movie_title = movie_info['movie_title'].iloc[0] # Get the title\n",
        "            top_n_recommendations.append({'movie_id': movie_id, 'movie_title': movie_title, 'predicted_rating': predicted_rating})\n",
        "        # else:\n",
        "            # print(f\"Warning: Movie ID {movie_id} not found in movies DataFrame. Skipping.\") # Removed warning\n",
        "\n",
        "\n",
        "    return top_n_recommendations"
      ]
    },
    {
      "cell_type": "code",
      "execution_count": null,
      "metadata": {
        "colab": {
          "base_uri": "https://localhost:8080/"
        },
        "id": "F5JY6FfKOCWM",
        "outputId": "dc62034b-6f6c-4fdb-8004-cf2ed4647010"
      },
      "outputs": [
        {
          "output_type": "stream",
          "name": "stdout",
          "text": [
            "\n",
            "--- Top 4 Movie Recommendations for User 9 (SVD) ---\n",
            "Could not generate 4 recommendations for user 9. This user may have rated all available movies or the movies they haven't rated are not in the movie list.\n"
          ]
        }
      ],
      "source": [
        "# Getting recommendations for a user\n",
        "# user_to_recommend_for = 501 # Replace with a user ID from your dataset\n",
        "top_n = 4\n",
        "\n",
        "# Get a random user ID from the trainset\n",
        "import random\n",
        "# Get a list of all raw user IDs from the training set\n",
        "trainset_raw_uids = [trainset.to_raw_uid(i) for i in range(trainset.n_users)]\n",
        "# Select a random user ID from the list of training set user IDs\n",
        "user_to_recommend_for = random.choice(trainset_raw_uids)\n",
        "\n",
        "\n",
        "print(f\"\\n--- Top {top_n} Movie Recommendations for User {user_to_recommend_for} (SVD) ---\")\n",
        "try:\n",
        "    recommendations = get_top_n_recommendations_svd(user_to_recommend_for, n=top_n)\n",
        "    if recommendations:\n",
        "        for rec in recommendations:\n",
        "            print(f\"  - {rec['movie_title']} (Predicted Rating: {rec['predicted_rating']:.4f})\")\n",
        "    else:\n",
        "        print(f\"Could not generate {top_n} recommendations for user {user_to_recommend_for}. This user may have rated all available movies or the movies they haven't rated are not in the movie list.\")\n",
        "\n",
        "except Exception as e:\n",
        "     print(f\"An error occurred while generating recommendations: {e}\")\n",
        "     print(\"Ensure the user_to_recommend_for exists in the original ratings data and the movie data is correctly loaded.\")"
      ]
    },
    {
      "cell_type": "markdown",
      "source": [],
      "metadata": {
        "id": "t7LN1cKuXBIZ"
      }
    },
    {
      "cell_type": "markdown",
      "metadata": {
        "id": "cPY7jQkMTFaJ"
      },
      "source": [
        "# Other Performance Metrics"
      ]
    },
    {
      "cell_type": "code",
      "execution_count": null,
      "metadata": {
        "colab": {
          "base_uri": "https://localhost:8080/"
        },
        "id": "-Z8rHzHmPzXr",
        "outputId": "0f521dd4-1b5a-47ac-8150-d9e57efe96b7"
      },
      "outputs": [
        {
          "output_type": "stream",
          "name": "stdout",
          "text": [
            "\n",
            "--- SVD Model Top-10 Recommendation Metrics (Threshold >= 4.0) ---\n",
            "Average Precision@10: 0.5813\n",
            "Average Recall@10: 0.6994\n",
            "Average F1 Score@10: 0.6349\n",
            "(Evaluated on 3275 users with >=1 positive rating in test set)\n"
          ]
        }
      ],
      "source": [
        "\n",
        "# Defining what constitutes a \"positive\" rating\n",
        "RATING_THRESHOLD = 4.0\n",
        "\n",
        "# Function to get the actual positive items for each user in the test set\n",
        "def get_actual_positives(testset, rating_threshold):\n",
        "    actual_positives = {}\n",
        "    for uid, iid, rating in testset:\n",
        "        if rating >= rating_threshold:\n",
        "            if uid not in actual_positives:\n",
        "                actual_positives[uid] = set()\n",
        "            actual_positives[uid].add(iid)\n",
        "    return actual_positives\n",
        "\n",
        "# Function to get top N predicted items for each user using the trained algorithm\n",
        "def get_top_n_predictions_surprise(predictions, n=10):\n",
        "    # Group predictions by user\n",
        "    top_n = {}\n",
        "    for uid, iid, true_r, est, _ in predictions:\n",
        "        if uid not in top_n:\n",
        "            top_n[uid] = []\n",
        "        top_n[uid].append((iid, est))\n",
        "\n",
        "    # Sort the predictions for each user and retrieve the top n\n",
        "    for uid, user_ratings in top_n.items():\n",
        "        user_ratings.sort(key=lambda x: x[1], reverse=True)\n",
        "        top_n[uid] = [iid for (iid, est) in user_ratings[:n]]\n",
        "\n",
        "    return top_n\n",
        "\n",
        "# Calculate actual positives from the test set\n",
        "actual_positives = get_actual_positives(testset, RATING_THRESHOLD)\n",
        "\n",
        "# Get top N predictions from the SVD model\n",
        "TOP_N_VALUE = 10\n",
        "top_n_predictions = get_top_n_predictions_surprise(predictions, n=TOP_N_VALUE)\n",
        "\n",
        "# Calculate Precision and Recall @ N\n",
        "precision_sum = 0\n",
        "recall_sum = 0\n",
        "user_count_with_positives = 0 # Only consider users who actually have positive ratings in the test set\n",
        "\n",
        "for uid, recommended_items in top_n_predictions.items():\n",
        "    if uid in actual_positives and actual_positives[uid]: # Check if user is in actual_positives and has positive items\n",
        "        user_count_with_positives += 1\n",
        "        actual_set = actual_positives[uid]\n",
        "        recommended_set = set(recommended_items)\n",
        "\n",
        "        # Calculate True Positives (items recommended that are also in the actual positives)\n",
        "        true_positives = len(actual_set.intersection(recommended_set))\n",
        "\n",
        "        # Calculate Precision\n",
        "        if TOP_N_VALUE > 0:\n",
        "            precision = true_positives / TOP_N_VALUE\n",
        "        else:\n",
        "            precision = 0\n",
        "        precision_sum += precision\n",
        "\n",
        "        # Calculate Recall\n",
        "        if len(actual_set) > 0:\n",
        "            recall = true_positives / len(actual_set)\n",
        "        else:\n",
        "            recall = 0 # User had no actual positives\n",
        "        recall_sum += recall\n",
        "\n",
        "# Calculate average Precision and Recall\n",
        "avg_precision = precision_sum / user_count_with_positives if user_count_with_positives > 0 else 0\n",
        "avg_recall = recall_sum / user_count_with_positives if user_count_with_positives > 0 else 0\n",
        "\n",
        "# Calculate F1 Score\n",
        "if (avg_precision + avg_recall) > 0:\n",
        "    avg_f1 = 2 * (avg_precision * avg_recall) / (avg_precision + avg_recall)\n",
        "else:\n",
        "    avg_f1 = 0\n",
        "\n",
        "print(f\"\\n--- SVD Model Top-{TOP_N_VALUE} Recommendation Metrics (Threshold >= {RATING_THRESHOLD}) ---\")\n",
        "print(f\"Average Precision@{TOP_N_VALUE}: {avg_precision:.4f}\")\n",
        "print(f\"Average Recall@{TOP_N_VALUE}: {avg_recall:.4f}\")\n",
        "print(f\"Average F1 Score@{TOP_N_VALUE}: {avg_f1:.4f}\")\n",
        "print(f\"(Evaluated on {user_count_with_positives} users with >=1 positive rating in test set)\")\n",
        "\n"
      ]
    },
    {
      "cell_type": "markdown",
      "source": [
        "### 🔹 **SVD Top-10 Recommendation Summary**\n",
        "\n",
        "The model shows strong performance in recommending top-10 movies:\n",
        "\n",
        "* **Precision\\@10**: 0.5813 → \\~58% of recommended movies are relevant\n",
        "* **Recall\\@10**: 0.6994 → \\~70% of relevant movies were recommended\n",
        "* **F1\\@10**: 0.6349 → Balanced accuracy between precision and recall\n",
        "\n",
        "**Evaluated on 3,275 users** with at least one positive rating.\n"
      ],
      "metadata": {
        "id": "LcDq3LaQFGbj"
      }
    },
    {
      "cell_type": "markdown",
      "metadata": {
        "id": "2MPEQGF-Tmmo"
      },
      "source": []
    },
    {
      "cell_type": "code",
      "metadata": {
        "colab": {
          "base_uri": "https://localhost:8080/",
          "height": 617
        },
        "id": "4c4c4458",
        "outputId": "5d0e4b94-cf6a-4712-d4af-9a79649f0b21"
      },
      "source": [
        "from scipy.sparse import csr_matrix\n",
        "from scipy.sparse.linalg import svds\n",
        "\n",
        "# Create a user-item matrix in a sparse format\n",
        "# First, pivot the data to get the user-item matrix structure\n",
        "# We'll fill NaN values with 0 for the sparse matrix creation, as SVD works on numerical data.\n",
        "# However, it's important to remember that 0 here represents missing data, not a rating of 0.\n",
        "user_item_pivot = movie_ratings.pivot_table(index='user_id', columns='movie_id', values='rating').fillna(0)\n",
        "\n",
        "# Get the user and movie IDs for mapping\n",
        "user_ids = user_item_pivot.index\n",
        "movie_ids = user_item_pivot.columns\n",
        "\n",
        "# Convert the pivot table to a sparse matrix (CSR format is efficient for row-based operations)\n",
        "user_item_sparse_matrix = csr_matrix(user_item_pivot.values)\n",
        "\n",
        "print(\"Shape of the sparse user-item matrix:\", user_item_sparse_matrix.shape)\n",
        "\n",
        "# Perform SVD\n",
        "# n_components is the number of latent factors. You can tune this value.\n",
        "n_components = 50  # Example: using 50 latent factors\n",
        "U, sigma, Vt = svds(user_item_sparse_matrix, k=n_components)\n",
        "\n",
        "# The sigma values are returned as a 1D array. Convert to a diagonal matrix.\n",
        "sigma = np.diag(sigma)\n",
        "\n",
        "print(\"\\nShape of U (User features):\", U.shape)\n",
        "print(\"Shape of sigma (Singular values):\", sigma.shape)\n",
        "print(\"Shape of Vt (Movie features):\", Vt.shape)\n",
        "\n",
        "# Reconstruct the original matrix (or get predicted ratings)\n",
        "# This is U * sigma * Vt\n",
        "# The result is a dense matrix of predicted ratings\n",
        "predicted_ratings = np.dot(np.dot(U, sigma), Vt)\n",
        "\n",
        "# Convert the predicted ratings numpy array back to a pandas DataFrame\n",
        "predicted_ratings_df = pd.DataFrame(predicted_ratings, index=user_ids, columns=movie_ids)\n",
        "\n",
        "print(\"\\nPredicted Ratings Matrix Head:\")\n",
        "display(predicted_ratings_df.head())\n",
        "\n",
        "# Now you can use predicted_ratings_df to get recommendations\n",
        "# For a given user, find movies they haven't rated and recommend those with the highest predicted ratings.\n",
        "\n",
        "# Example: Get recommendations for a specific user (e.g., user_id = 196)\n",
        "user_id_to_recommend = 196 # Make sure this user_id exists in your original data\n",
        "\n",
        "if user_id_to_recommend in predicted_ratings_df.index:\n",
        "    # Get the predicted ratings for the target user\n",
        "    user_predicted_ratings = predicted_ratings_df.loc[user_id_to_recommend]\n",
        "\n",
        "    # Find movies the user has already rated in the original data\n",
        "    rated_movies_by_user = movie_ratings[movie_ratings['user_id'] == user_id_to_recommend]['movie_id']\n",
        "\n",
        "    # Filter out movies already rated by the user from the predictions\n",
        "    unrated_movies_predictions = user_predicted_ratings.drop(rated_movies_by_user, errors='ignore')\n",
        "\n",
        "    # Sort the predicted ratings for unrated movies in descending order\n",
        "    top_recommendations = unrated_movies_predictions.sort_values(ascending=False)\n",
        "\n",
        "    # Get the top N movie IDs\n",
        "    top_n = 10 # Number of recommendations to get\n",
        "    top_n_movie_ids = top_recommendations.head(top_n).index.tolist()\n",
        "\n",
        "    # Get the movie titles for the recommended movie IDs\n",
        "    # Access the original 'title' column from the 'movies' DataFrame\n",
        "    recommended_movies_info = movies[movies['movie_id'].isin(top_n_movie_ids)][['movie_id', 'title']]\n",
        "\n",
        "    print(f\"\\n--- Top {top_n} Movie Recommendations for User {user_id_to_recommend} (SVD with SciPy) ---\")\n",
        "    # Merge predicted ratings with movie titles for display\n",
        "    recommended_movies_with_ratings = []\n",
        "    for movie_id in top_n_movie_ids:\n",
        "        # Use the original 'title' column name here as well\n",
        "        title = recommended_movies_info[recommended_movies_info['movie_id'] == movie_id]['title'].iloc[0]\n",
        "        predicted_rating = top_recommendations.loc[movie_id]\n",
        "        recommended_movies_with_ratings.append({'movie_id': movie_id, 'movie_title': title, 'predicted_rating': predicted_rating})\n",
        "\n",
        "    # Sort by predicted rating again just to be sure\n",
        "    recommended_movies_with_ratings.sort(key=lambda x: x['predicted_rating'], reverse=True)\n",
        "\n",
        "    for rec in recommended_movies_with_ratings:\n",
        "        print(f\"  - {rec['movie_title']} (Predicted Rating: {rec['predicted_rating']:.4f})\")\n",
        "\n",
        "else:\n",
        "    print(f\"User ID {user_id_to_recommend} not found in the user-item matrix.\")"
      ],
      "execution_count": null,
      "outputs": [
        {
          "output_type": "stream",
          "name": "stdout",
          "text": [
            "Shape of the sparse user-item matrix: (3362, 1093)\n",
            "\n",
            "Shape of U (User features): (3362, 50)\n",
            "Shape of sigma (Singular values): (50, 50)\n",
            "Shape of Vt (Movie features): (50, 1093)\n",
            "\n",
            "Predicted Ratings Matrix Head:\n"
          ]
        },
        {
          "output_type": "display_data",
          "data": {
            "text/plain": [
              "movie_id    5         11        12        13        14        16      \\\n",
              "user_id                                                                \n",
              "1        -0.205975  0.084648 -0.048264 -0.031691 -0.101800 -0.601812   \n",
              "2         0.277984  0.889536 -0.012518  0.029962  0.111440  0.251619   \n",
              "3        -0.194111  1.242655  0.279082  0.265665  0.116621 -0.258133   \n",
              "4         0.137983  0.858491  0.083329  0.049264  0.146472  0.586952   \n",
              "5         0.893330  3.088957  0.215349  0.073691  0.369094  0.250783   \n",
              "\n",
              "movie_id    18        19        20        22      ...    74510     77156   \\\n",
              "user_id                                           ...                       \n",
              "1         0.119040  0.316062 -0.220425  0.431162  ...  0.065898 -0.010336   \n",
              "2         0.220474 -0.087896 -0.008680 -0.043584  ...  0.008484 -0.005055   \n",
              "3         0.016936 -0.165654 -0.076671 -0.211116  ... -0.058982 -0.001515   \n",
              "4        -0.225176  0.749074  0.283429  0.617984  ...  0.050834  0.005984   \n",
              "5        -0.023271  0.251155 -0.270770  0.530502  ...  0.041580  0.008139   \n",
              "\n",
              "movie_id    77866     82703     83588     87499     89492     114635  \\\n",
              "user_id                                                                \n",
              "1         0.031383  0.009811  0.023972  0.009434  0.142053  0.001119   \n",
              "2         0.115217  0.001299 -0.006585  0.004059  0.082136 -0.000917   \n",
              "3        -0.007555  0.005369  0.006873  0.001781  0.021717  0.003675   \n",
              "4        -0.083140 -0.007594 -0.003942 -0.006636 -0.057678 -0.002949   \n",
              "5        -0.017074 -0.009958  0.004176  0.006570  0.011247  0.002286   \n",
              "\n",
              "movie_id    115210    116977  \n",
              "user_id                       \n",
              "1        -0.009092  0.015329  \n",
              "2        -0.011227  0.007497  \n",
              "3        -0.001589 -0.010613  \n",
              "4        -0.021766  0.000701  \n",
              "5        -0.019649 -0.011237  \n",
              "\n",
              "[5 rows x 1093 columns]"
            ],
            "text/html": [
              "\n",
              "  <div id=\"df-36a0c5e5-0274-44b3-8b75-d64cea5d1b25\" class=\"colab-df-container\">\n",
              "    <div>\n",
              "<style scoped>\n",
              "    .dataframe tbody tr th:only-of-type {\n",
              "        vertical-align: middle;\n",
              "    }\n",
              "\n",
              "    .dataframe tbody tr th {\n",
              "        vertical-align: top;\n",
              "    }\n",
              "\n",
              "    .dataframe thead th {\n",
              "        text-align: right;\n",
              "    }\n",
              "</style>\n",
              "<table border=\"1\" class=\"dataframe\">\n",
              "  <thead>\n",
              "    <tr style=\"text-align: right;\">\n",
              "      <th>movie_id</th>\n",
              "      <th>5</th>\n",
              "      <th>11</th>\n",
              "      <th>12</th>\n",
              "      <th>13</th>\n",
              "      <th>14</th>\n",
              "      <th>16</th>\n",
              "      <th>18</th>\n",
              "      <th>19</th>\n",
              "      <th>20</th>\n",
              "      <th>22</th>\n",
              "      <th>...</th>\n",
              "      <th>74510</th>\n",
              "      <th>77156</th>\n",
              "      <th>77866</th>\n",
              "      <th>82703</th>\n",
              "      <th>83588</th>\n",
              "      <th>87499</th>\n",
              "      <th>89492</th>\n",
              "      <th>114635</th>\n",
              "      <th>115210</th>\n",
              "      <th>116977</th>\n",
              "    </tr>\n",
              "    <tr>\n",
              "      <th>user_id</th>\n",
              "      <th></th>\n",
              "      <th></th>\n",
              "      <th></th>\n",
              "      <th></th>\n",
              "      <th></th>\n",
              "      <th></th>\n",
              "      <th></th>\n",
              "      <th></th>\n",
              "      <th></th>\n",
              "      <th></th>\n",
              "      <th></th>\n",
              "      <th></th>\n",
              "      <th></th>\n",
              "      <th></th>\n",
              "      <th></th>\n",
              "      <th></th>\n",
              "      <th></th>\n",
              "      <th></th>\n",
              "      <th></th>\n",
              "      <th></th>\n",
              "      <th></th>\n",
              "    </tr>\n",
              "  </thead>\n",
              "  <tbody>\n",
              "    <tr>\n",
              "      <th>1</th>\n",
              "      <td>-0.205975</td>\n",
              "      <td>0.084648</td>\n",
              "      <td>-0.048264</td>\n",
              "      <td>-0.031691</td>\n",
              "      <td>-0.101800</td>\n",
              "      <td>-0.601812</td>\n",
              "      <td>0.119040</td>\n",
              "      <td>0.316062</td>\n",
              "      <td>-0.220425</td>\n",
              "      <td>0.431162</td>\n",
              "      <td>...</td>\n",
              "      <td>0.065898</td>\n",
              "      <td>-0.010336</td>\n",
              "      <td>0.031383</td>\n",
              "      <td>0.009811</td>\n",
              "      <td>0.023972</td>\n",
              "      <td>0.009434</td>\n",
              "      <td>0.142053</td>\n",
              "      <td>0.001119</td>\n",
              "      <td>-0.009092</td>\n",
              "      <td>0.015329</td>\n",
              "    </tr>\n",
              "    <tr>\n",
              "      <th>2</th>\n",
              "      <td>0.277984</td>\n",
              "      <td>0.889536</td>\n",
              "      <td>-0.012518</td>\n",
              "      <td>0.029962</td>\n",
              "      <td>0.111440</td>\n",
              "      <td>0.251619</td>\n",
              "      <td>0.220474</td>\n",
              "      <td>-0.087896</td>\n",
              "      <td>-0.008680</td>\n",
              "      <td>-0.043584</td>\n",
              "      <td>...</td>\n",
              "      <td>0.008484</td>\n",
              "      <td>-0.005055</td>\n",
              "      <td>0.115217</td>\n",
              "      <td>0.001299</td>\n",
              "      <td>-0.006585</td>\n",
              "      <td>0.004059</td>\n",
              "      <td>0.082136</td>\n",
              "      <td>-0.000917</td>\n",
              "      <td>-0.011227</td>\n",
              "      <td>0.007497</td>\n",
              "    </tr>\n",
              "    <tr>\n",
              "      <th>3</th>\n",
              "      <td>-0.194111</td>\n",
              "      <td>1.242655</td>\n",
              "      <td>0.279082</td>\n",
              "      <td>0.265665</td>\n",
              "      <td>0.116621</td>\n",
              "      <td>-0.258133</td>\n",
              "      <td>0.016936</td>\n",
              "      <td>-0.165654</td>\n",
              "      <td>-0.076671</td>\n",
              "      <td>-0.211116</td>\n",
              "      <td>...</td>\n",
              "      <td>-0.058982</td>\n",
              "      <td>-0.001515</td>\n",
              "      <td>-0.007555</td>\n",
              "      <td>0.005369</td>\n",
              "      <td>0.006873</td>\n",
              "      <td>0.001781</td>\n",
              "      <td>0.021717</td>\n",
              "      <td>0.003675</td>\n",
              "      <td>-0.001589</td>\n",
              "      <td>-0.010613</td>\n",
              "    </tr>\n",
              "    <tr>\n",
              "      <th>4</th>\n",
              "      <td>0.137983</td>\n",
              "      <td>0.858491</td>\n",
              "      <td>0.083329</td>\n",
              "      <td>0.049264</td>\n",
              "      <td>0.146472</td>\n",
              "      <td>0.586952</td>\n",
              "      <td>-0.225176</td>\n",
              "      <td>0.749074</td>\n",
              "      <td>0.283429</td>\n",
              "      <td>0.617984</td>\n",
              "      <td>...</td>\n",
              "      <td>0.050834</td>\n",
              "      <td>0.005984</td>\n",
              "      <td>-0.083140</td>\n",
              "      <td>-0.007594</td>\n",
              "      <td>-0.003942</td>\n",
              "      <td>-0.006636</td>\n",
              "      <td>-0.057678</td>\n",
              "      <td>-0.002949</td>\n",
              "      <td>-0.021766</td>\n",
              "      <td>0.000701</td>\n",
              "    </tr>\n",
              "    <tr>\n",
              "      <th>5</th>\n",
              "      <td>0.893330</td>\n",
              "      <td>3.088957</td>\n",
              "      <td>0.215349</td>\n",
              "      <td>0.073691</td>\n",
              "      <td>0.369094</td>\n",
              "      <td>0.250783</td>\n",
              "      <td>-0.023271</td>\n",
              "      <td>0.251155</td>\n",
              "      <td>-0.270770</td>\n",
              "      <td>0.530502</td>\n",
              "      <td>...</td>\n",
              "      <td>0.041580</td>\n",
              "      <td>0.008139</td>\n",
              "      <td>-0.017074</td>\n",
              "      <td>-0.009958</td>\n",
              "      <td>0.004176</td>\n",
              "      <td>0.006570</td>\n",
              "      <td>0.011247</td>\n",
              "      <td>0.002286</td>\n",
              "      <td>-0.019649</td>\n",
              "      <td>-0.011237</td>\n",
              "    </tr>\n",
              "  </tbody>\n",
              "</table>\n",
              "<p>5 rows × 1093 columns</p>\n",
              "</div>\n",
              "    <div class=\"colab-df-buttons\">\n",
              "\n",
              "  <div class=\"colab-df-container\">\n",
              "    <button class=\"colab-df-convert\" onclick=\"convertToInteractive('df-36a0c5e5-0274-44b3-8b75-d64cea5d1b25')\"\n",
              "            title=\"Convert this dataframe to an interactive table.\"\n",
              "            style=\"display:none;\">\n",
              "\n",
              "  <svg xmlns=\"http://www.w3.org/2000/svg\" height=\"24px\" viewBox=\"0 -960 960 960\">\n",
              "    <path d=\"M120-120v-720h720v720H120Zm60-500h600v-160H180v160Zm220 220h160v-160H400v160Zm0 220h160v-160H400v160ZM180-400h160v-160H180v160Zm440 0h160v-160H620v160ZM180-180h160v-160H180v160Zm440 0h160v-160H620v160Z\"/>\n",
              "  </svg>\n",
              "    </button>\n",
              "\n",
              "  <style>\n",
              "    .colab-df-container {\n",
              "      display:flex;\n",
              "      gap: 12px;\n",
              "    }\n",
              "\n",
              "    .colab-df-convert {\n",
              "      background-color: #E8F0FE;\n",
              "      border: none;\n",
              "      border-radius: 50%;\n",
              "      cursor: pointer;\n",
              "      display: none;\n",
              "      fill: #1967D2;\n",
              "      height: 32px;\n",
              "      padding: 0 0 0 0;\n",
              "      width: 32px;\n",
              "    }\n",
              "\n",
              "    .colab-df-convert:hover {\n",
              "      background-color: #E2EBFA;\n",
              "      box-shadow: 0px 1px 2px rgba(60, 64, 67, 0.3), 0px 1px 3px 1px rgba(60, 64, 67, 0.15);\n",
              "      fill: #174EA6;\n",
              "    }\n",
              "\n",
              "    .colab-df-buttons div {\n",
              "      margin-bottom: 4px;\n",
              "    }\n",
              "\n",
              "    [theme=dark] .colab-df-convert {\n",
              "      background-color: #3B4455;\n",
              "      fill: #D2E3FC;\n",
              "    }\n",
              "\n",
              "    [theme=dark] .colab-df-convert:hover {\n",
              "      background-color: #434B5C;\n",
              "      box-shadow: 0px 1px 3px 1px rgba(0, 0, 0, 0.15);\n",
              "      filter: drop-shadow(0px 1px 2px rgba(0, 0, 0, 0.3));\n",
              "      fill: #FFFFFF;\n",
              "    }\n",
              "  </style>\n",
              "\n",
              "    <script>\n",
              "      const buttonEl =\n",
              "        document.querySelector('#df-36a0c5e5-0274-44b3-8b75-d64cea5d1b25 button.colab-df-convert');\n",
              "      buttonEl.style.display =\n",
              "        google.colab.kernel.accessAllowed ? 'block' : 'none';\n",
              "\n",
              "      async function convertToInteractive(key) {\n",
              "        const element = document.querySelector('#df-36a0c5e5-0274-44b3-8b75-d64cea5d1b25');\n",
              "        const dataTable =\n",
              "          await google.colab.kernel.invokeFunction('convertToInteractive',\n",
              "                                                    [key], {});\n",
              "        if (!dataTable) return;\n",
              "\n",
              "        const docLinkHtml = 'Like what you see? Visit the ' +\n",
              "          '<a target=\"_blank\" href=https://colab.research.google.com/notebooks/data_table.ipynb>data table notebook</a>'\n",
              "          + ' to learn more about interactive tables.';\n",
              "        element.innerHTML = '';\n",
              "        dataTable['output_type'] = 'display_data';\n",
              "        await google.colab.output.renderOutput(dataTable, element);\n",
              "        const docLink = document.createElement('div');\n",
              "        docLink.innerHTML = docLinkHtml;\n",
              "        element.appendChild(docLink);\n",
              "      }\n",
              "    </script>\n",
              "  </div>\n",
              "\n",
              "\n",
              "    <div id=\"df-db27a16e-66b2-44eb-af86-e2944bddbdd7\">\n",
              "      <button class=\"colab-df-quickchart\" onclick=\"quickchart('df-db27a16e-66b2-44eb-af86-e2944bddbdd7')\"\n",
              "                title=\"Suggest charts\"\n",
              "                style=\"display:none;\">\n",
              "\n",
              "<svg xmlns=\"http://www.w3.org/2000/svg\" height=\"24px\"viewBox=\"0 0 24 24\"\n",
              "     width=\"24px\">\n",
              "    <g>\n",
              "        <path d=\"M19 3H5c-1.1 0-2 .9-2 2v14c0 1.1.9 2 2 2h14c1.1 0 2-.9 2-2V5c0-1.1-.9-2-2-2zM9 17H7v-7h2v7zm4 0h-2V7h2v10zm4 0h-2v-4h2v4z\"/>\n",
              "    </g>\n",
              "</svg>\n",
              "      </button>\n",
              "\n",
              "<style>\n",
              "  .colab-df-quickchart {\n",
              "      --bg-color: #E8F0FE;\n",
              "      --fill-color: #1967D2;\n",
              "      --hover-bg-color: #E2EBFA;\n",
              "      --hover-fill-color: #174EA6;\n",
              "      --disabled-fill-color: #AAA;\n",
              "      --disabled-bg-color: #DDD;\n",
              "  }\n",
              "\n",
              "  [theme=dark] .colab-df-quickchart {\n",
              "      --bg-color: #3B4455;\n",
              "      --fill-color: #D2E3FC;\n",
              "      --hover-bg-color: #434B5C;\n",
              "      --hover-fill-color: #FFFFFF;\n",
              "      --disabled-bg-color: #3B4455;\n",
              "      --disabled-fill-color: #666;\n",
              "  }\n",
              "\n",
              "  .colab-df-quickchart {\n",
              "    background-color: var(--bg-color);\n",
              "    border: none;\n",
              "    border-radius: 50%;\n",
              "    cursor: pointer;\n",
              "    display: none;\n",
              "    fill: var(--fill-color);\n",
              "    height: 32px;\n",
              "    padding: 0;\n",
              "    width: 32px;\n",
              "  }\n",
              "\n",
              "  .colab-df-quickchart:hover {\n",
              "    background-color: var(--hover-bg-color);\n",
              "    box-shadow: 0 1px 2px rgba(60, 64, 67, 0.3), 0 1px 3px 1px rgba(60, 64, 67, 0.15);\n",
              "    fill: var(--button-hover-fill-color);\n",
              "  }\n",
              "\n",
              "  .colab-df-quickchart-complete:disabled,\n",
              "  .colab-df-quickchart-complete:disabled:hover {\n",
              "    background-color: var(--disabled-bg-color);\n",
              "    fill: var(--disabled-fill-color);\n",
              "    box-shadow: none;\n",
              "  }\n",
              "\n",
              "  .colab-df-spinner {\n",
              "    border: 2px solid var(--fill-color);\n",
              "    border-color: transparent;\n",
              "    border-bottom-color: var(--fill-color);\n",
              "    animation:\n",
              "      spin 1s steps(1) infinite;\n",
              "  }\n",
              "\n",
              "  @keyframes spin {\n",
              "    0% {\n",
              "      border-color: transparent;\n",
              "      border-bottom-color: var(--fill-color);\n",
              "      border-left-color: var(--fill-color);\n",
              "    }\n",
              "    20% {\n",
              "      border-color: transparent;\n",
              "      border-left-color: var(--fill-color);\n",
              "      border-top-color: var(--fill-color);\n",
              "    }\n",
              "    30% {\n",
              "      border-color: transparent;\n",
              "      border-left-color: var(--fill-color);\n",
              "      border-top-color: var(--fill-color);\n",
              "      border-right-color: var(--fill-color);\n",
              "    }\n",
              "    40% {\n",
              "      border-color: transparent;\n",
              "      border-right-color: var(--fill-color);\n",
              "      border-top-color: var(--fill-color);\n",
              "    }\n",
              "    60% {\n",
              "      border-color: transparent;\n",
              "      border-right-color: var(--fill-color);\n",
              "    }\n",
              "    80% {\n",
              "      border-color: transparent;\n",
              "      border-right-color: var(--fill-color);\n",
              "      border-bottom-color: var(--fill-color);\n",
              "    }\n",
              "    90% {\n",
              "      border-color: transparent;\n",
              "      border-bottom-color: var(--fill-color);\n",
              "    }\n",
              "  }\n",
              "</style>\n",
              "\n",
              "      <script>\n",
              "        async function quickchart(key) {\n",
              "          const quickchartButtonEl =\n",
              "            document.querySelector('#' + key + ' button');\n",
              "          quickchartButtonEl.disabled = true;  // To prevent multiple clicks.\n",
              "          quickchartButtonEl.classList.add('colab-df-spinner');\n",
              "          try {\n",
              "            const charts = await google.colab.kernel.invokeFunction(\n",
              "                'suggestCharts', [key], {});\n",
              "          } catch (error) {\n",
              "            console.error('Error during call to suggestCharts:', error);\n",
              "          }\n",
              "          quickchartButtonEl.classList.remove('colab-df-spinner');\n",
              "          quickchartButtonEl.classList.add('colab-df-quickchart-complete');\n",
              "        }\n",
              "        (() => {\n",
              "          let quickchartButtonEl =\n",
              "            document.querySelector('#df-db27a16e-66b2-44eb-af86-e2944bddbdd7 button');\n",
              "          quickchartButtonEl.style.display =\n",
              "            google.colab.kernel.accessAllowed ? 'block' : 'none';\n",
              "        })();\n",
              "      </script>\n",
              "    </div>\n",
              "\n",
              "    </div>\n",
              "  </div>\n"
            ],
            "application/vnd.google.colaboratory.intrinsic+json": {
              "type": "dataframe"
            }
          },
          "metadata": {}
        },
        {
          "output_type": "stream",
          "name": "stdout",
          "text": [
            "\n",
            "--- Top 10 Movie Recommendations for User 196 (SVD with SciPy) ---\n",
            "  - We Own the Night (Predicted Rating: 1.8800)\n",
            "  - Big Fish (Predicted Rating: 1.2286)\n",
            "  - The Thirteenth Floor (Predicted Rating: 1.2149)\n",
            "  - Shortbus (Predicted Rating: 1.1589)\n",
            "  - The Butterfly Effect (Predicted Rating: 1.1577)\n",
            "  - Gods and Monsters (Predicted Rating: 1.1055)\n",
            "  - 8 Women (Predicted Rating: 1.0476)\n",
            "  - Because I Said So (Predicted Rating: 0.9654)\n",
            "  - X-Men Origins: Wolverine (Predicted Rating: 0.8470)\n",
            "  - Lost in Translation (Predicted Rating: 0.8331)\n"
          ]
        }
      ]
    },
    {
      "cell_type": "code",
      "source": [
        "# Save the movie_ratings DataFrame as a pickle file\n",
        "movie_ratings.to_pickle('/content/drive/MyDrive/DeepTech/Movie_Recommender_System/movie_ratings.pkl')\n",
        "print(\"movie_ratings DataFrame saved as movie_ratings.pkl\")"
      ],
      "metadata": {
        "colab": {
          "base_uri": "https://localhost:8080/"
        },
        "id": "TOfZTKvWGd32",
        "outputId": "8fc995cd-7f6a-4f1e-b15b-da531e1a1e71"
      },
      "execution_count": null,
      "outputs": [
        {
          "output_type": "stream",
          "name": "stdout",
          "text": [
            "movie_ratings DataFrame saved as movie_ratings.pkl\n"
          ]
        }
      ]
    },
    {
      "cell_type": "markdown",
      "metadata": {
        "id": "44c35610"
      },
      "source": [
        "# Task\n",
        "Explain how to use the `similarity.pkl` file in a Streamlit application to generate movie recommendations."
      ]
    },
    {
      "cell_type": "markdown",
      "metadata": {
        "id": "18cc140b"
      },
      "source": [
        "## Save the necessary data and model\n",
        "\n",
        "### Subtask:\n",
        "Ensure that all the data (like `movie_ratings` or the user-item matrix) and the trained SVD model (or the components U, sigma, Vt if using SciPy's SVD) that your recommendation logic relies on are saved as pickle files or other suitable formats.\n"
      ]
    },
    {
      "cell_type": "markdown",
      "metadata": {
        "id": "05f92c9b"
      },
      "source": [
        "**Reasoning**:\n",
        "Save the trained Surprise SVD model to a pickle file for later use in a Streamlit application.\n",
        "\n"
      ]
    },
    {
      "cell_type": "code",
      "metadata": {
        "colab": {
          "base_uri": "https://localhost:8080/"
        },
        "id": "31355ada",
        "outputId": "f2366f44-00a8-488e-854f-1f2358ab9ced"
      },
      "source": [
        "import pickle\n",
        "\n",
        "# Save the trained Surprise SVD algorithm\n",
        "with open('/content/drive/MyDrive/DeepTech/Movie_Recommender_System/svd_model.pkl', 'wb') as f:\n",
        "    pickle.dump(algo, f)\n",
        "\n",
        "print(\"Surprise SVD model saved as svd_model.pkl\")"
      ],
      "execution_count": null,
      "outputs": [
        {
          "output_type": "stream",
          "name": "stdout",
          "text": [
            "Surprise SVD model saved as svd_model.pkl\n"
          ]
        }
      ]
    },
    {
      "cell_type": "markdown",
      "metadata": {
        "id": "5e4f3a3a"
      },
      "source": [
        "**Reasoning**:\n",
        "Save the SciPy SVD components (U, sigma, Vt) to separate pickle files so they can be used in a Streamlit application for generating recommendations.\n",
        "\n"
      ]
    },
    {
      "cell_type": "code",
      "metadata": {
        "colab": {
          "base_uri": "https://localhost:8080/"
        },
        "id": "0f287a18",
        "outputId": "5e9e4125-8548-4d29-97db-6bf4ec37d523"
      },
      "source": [
        "# Save the SciPy SVD components\n",
        "with open('/content/drive/MyDrive/DeepTech/Movie_Recommender_System/U.pkl', 'wb') as f:\n",
        "    pickle.dump(U, f)\n",
        "\n",
        "with open('/content/drive/MyDrive/DeepTech/Movie_Recommender_System/sigma.pkl', 'wb') as f:\n",
        "    pickle.dump(sigma, f)\n",
        "\n",
        "with open('/content/drive/MyDrive/DeepTech/Movie_Recommender_System/Vt.pkl', 'wb') as f:\n",
        "    pickle.dump(Vt, f)\n",
        "\n",
        "print(\"SciPy SVD components (U, sigma, Vt) saved as U.pkl, sigma.pkl, and Vt.pkl\")"
      ],
      "execution_count": null,
      "outputs": [
        {
          "output_type": "stream",
          "name": "stdout",
          "text": [
            "SciPy SVD components (U, sigma, Vt) saved as U.pkl, sigma.pkl, and Vt.pkl\n"
          ]
        }
      ]
    },
    {
      "cell_type": "markdown",
      "metadata": {
        "id": "11ba25e6"
      },
      "source": [
        "## Create a streamlit app file\n",
        "\n",
        "### Subtask:\n",
        "Write a Python script (e.g., `app.py`) that will contain your Streamlit application code.\n"
      ]
    },
    {
      "cell_type": "markdown",
      "metadata": {
        "id": "f2fc07b8"
      },
      "source": [
        "**Reasoning**:\n",
        "Create the `app.py` file with necessary imports and basic structure for a Streamlit application.\n",
        "\n"
      ]
    },
    {
      "cell_type": "code",
      "metadata": {
        "colab": {
          "base_uri": "https://localhost:8080/",
          "height": 383
        },
        "id": "44f1a2f2",
        "outputId": "f9fb9fd2-78a3-417d-ace8-8bd1f2473112"
      },
      "source": [
        "# # app.py\n",
        "\n",
        "# # 1. Import necessary libraries\n",
        "# import streamlit as st\n",
        "# import pandas as pd\n",
        "# import numpy as np\n",
        "# import pickle\n",
        "# from surprise import Dataset, Reader, SVD\n",
        "\n",
        "# # 2. Outline sections\n",
        "\n",
        "# # Section: Load Data and Model\n",
        "# # This section will handle loading the movie ratings, movie titles,\n",
        "# # and the trained recommendation model (SVD model or SciPy components).\n",
        "\n",
        "# # Section: Recommendation Logic\n",
        "# # This section will contain the function(s) to generate movie recommendations\n",
        "# # based on the loaded model and user input.\n",
        "\n",
        "# # Section: Streamlit UI\n",
        "# # This section will define the layout and interactive elements of the\n",
        "# # Streamlit web application."
      ],
      "execution_count": null,
      "outputs": [
        {
          "output_type": "error",
          "ename": "ModuleNotFoundError",
          "evalue": "No module named 'streamlit'",
          "traceback": [
            "\u001b[0;31m---------------------------------------------------------------------------\u001b[0m",
            "\u001b[0;31mModuleNotFoundError\u001b[0m                       Traceback (most recent call last)",
            "\u001b[0;32m/tmp/ipython-input-54-3765224546.py\u001b[0m in \u001b[0;36m<cell line: 0>\u001b[0;34m()\u001b[0m\n\u001b[1;32m      2\u001b[0m \u001b[0;34m\u001b[0m\u001b[0m\n\u001b[1;32m      3\u001b[0m \u001b[0;31m# 1. Import necessary libraries\u001b[0m\u001b[0;34m\u001b[0m\u001b[0;34m\u001b[0m\u001b[0m\n\u001b[0;32m----> 4\u001b[0;31m \u001b[0;32mimport\u001b[0m \u001b[0mstreamlit\u001b[0m \u001b[0;32mas\u001b[0m \u001b[0mst\u001b[0m\u001b[0;34m\u001b[0m\u001b[0;34m\u001b[0m\u001b[0m\n\u001b[0m\u001b[1;32m      5\u001b[0m \u001b[0;32mimport\u001b[0m \u001b[0mpandas\u001b[0m \u001b[0;32mas\u001b[0m \u001b[0mpd\u001b[0m\u001b[0;34m\u001b[0m\u001b[0;34m\u001b[0m\u001b[0m\n\u001b[1;32m      6\u001b[0m \u001b[0;32mimport\u001b[0m \u001b[0mnumpy\u001b[0m \u001b[0;32mas\u001b[0m \u001b[0mnp\u001b[0m\u001b[0;34m\u001b[0m\u001b[0;34m\u001b[0m\u001b[0m\n",
            "\u001b[0;31mModuleNotFoundError\u001b[0m: No module named 'streamlit'",
            "",
            "\u001b[0;31m---------------------------------------------------------------------------\u001b[0;32m\nNOTE: If your import is failing due to a missing package, you can\nmanually install dependencies using either !pip or !apt.\n\nTo view examples of installing some common dependencies, click the\n\"Open Examples\" button below.\n\u001b[0;31m---------------------------------------------------------------------------\u001b[0m\n"
          ],
          "errorDetails": {
            "actions": [
              {
                "action": "open_url",
                "actionText": "Open Examples",
                "url": "/notebooks/snippets/importing_libraries.ipynb"
              }
            ]
          }
        }
      ]
    },
    {
      "cell_type": "markdown",
      "metadata": {
        "id": "f9772caf"
      },
      "source": [
        "**Reasoning**:\n",
        "The traceback indicates that the `streamlit` library is not installed. Install `streamlit` to resolve the `ModuleNotFoundError`.\n",
        "\n"
      ]
    },
    {
      "cell_type": "code",
      "metadata": {
        "colab": {
          "base_uri": "https://localhost:8080/"
        },
        "id": "xMNPRpfJmxXD",
        "outputId": "b592e01b-719e-44a1-dcd6-598f72596722"
      },
      "source": [
        "# !pip install streamlit"
      ],
      "execution_count": null,
      "outputs": [
        {
          "output_type": "stream",
          "name": "stdout",
          "text": [
            "Collecting streamlit\n",
            "  Downloading streamlit-1.47.1-py3-none-any.whl.metadata (9.0 kB)\n",
            "Requirement already satisfied: altair<6,>=4.0 in /usr/local/lib/python3.11/dist-packages (from streamlit) (5.5.0)\n",
            "Requirement already satisfied: blinker<2,>=1.5.0 in /usr/local/lib/python3.11/dist-packages (from streamlit) (1.9.0)\n",
            "Requirement already satisfied: cachetools<7,>=4.0 in /usr/local/lib/python3.11/dist-packages (from streamlit) (5.5.2)\n",
            "Requirement already satisfied: click<9,>=7.0 in /usr/local/lib/python3.11/dist-packages (from streamlit) (8.2.1)\n",
            "Requirement already satisfied: numpy<3,>=1.23 in /usr/local/lib/python3.11/dist-packages (from streamlit) (1.23.5)\n",
            "Requirement already satisfied: packaging<26,>=20 in /usr/local/lib/python3.11/dist-packages (from streamlit) (25.0)\n",
            "Requirement already satisfied: pandas<3,>=1.4.0 in /usr/local/lib/python3.11/dist-packages (from streamlit) (2.2.2)\n",
            "Requirement already satisfied: pillow<12,>=7.1.0 in /usr/local/lib/python3.11/dist-packages (from streamlit) (11.3.0)\n",
            "Requirement already satisfied: protobuf<7,>=3.20 in /usr/local/lib/python3.11/dist-packages (from streamlit) (5.29.5)\n",
            "Requirement already satisfied: pyarrow>=7.0 in /usr/local/lib/python3.11/dist-packages (from streamlit) (18.1.0)\n",
            "Requirement already satisfied: requests<3,>=2.27 in /usr/local/lib/python3.11/dist-packages (from streamlit) (2.32.3)\n",
            "Requirement already satisfied: tenacity<10,>=8.1.0 in /usr/local/lib/python3.11/dist-packages (from streamlit) (8.5.0)\n",
            "Requirement already satisfied: toml<2,>=0.10.1 in /usr/local/lib/python3.11/dist-packages (from streamlit) (0.10.2)\n",
            "Requirement already satisfied: typing-extensions<5,>=4.4.0 in /usr/local/lib/python3.11/dist-packages (from streamlit) (4.14.1)\n",
            "Collecting watchdog<7,>=2.1.5 (from streamlit)\n",
            "  Downloading watchdog-6.0.0-py3-none-manylinux2014_x86_64.whl.metadata (44 kB)\n",
            "\u001b[2K     \u001b[90m━━━━━━━━━━━━━━━━━━━━━━━━━━━━━━━━━━━━━━━\u001b[0m \u001b[32m44.3/44.3 kB\u001b[0m \u001b[31m476.5 kB/s\u001b[0m eta \u001b[36m0:00:00\u001b[0m\n",
            "\u001b[?25hRequirement already satisfied: gitpython!=3.1.19,<4,>=3.0.7 in /usr/local/lib/python3.11/dist-packages (from streamlit) (3.1.44)\n",
            "Collecting pydeck<1,>=0.8.0b4 (from streamlit)\n",
            "  Downloading pydeck-0.9.1-py2.py3-none-any.whl.metadata (4.1 kB)\n",
            "Requirement already satisfied: tornado!=6.5.0,<7,>=6.0.3 in /usr/local/lib/python3.11/dist-packages (from streamlit) (6.4.2)\n",
            "Requirement already satisfied: jinja2 in /usr/local/lib/python3.11/dist-packages (from altair<6,>=4.0->streamlit) (3.1.6)\n",
            "Requirement already satisfied: jsonschema>=3.0 in /usr/local/lib/python3.11/dist-packages (from altair<6,>=4.0->streamlit) (4.25.0)\n",
            "Requirement already satisfied: narwhals>=1.14.2 in /usr/local/lib/python3.11/dist-packages (from altair<6,>=4.0->streamlit) (1.48.0)\n",
            "Requirement already satisfied: gitdb<5,>=4.0.1 in /usr/local/lib/python3.11/dist-packages (from gitpython!=3.1.19,<4,>=3.0.7->streamlit) (4.0.12)\n",
            "Requirement already satisfied: python-dateutil>=2.8.2 in /usr/local/lib/python3.11/dist-packages (from pandas<3,>=1.4.0->streamlit) (2.9.0.post0)\n",
            "Requirement already satisfied: pytz>=2020.1 in /usr/local/lib/python3.11/dist-packages (from pandas<3,>=1.4.0->streamlit) (2025.2)\n",
            "Requirement already satisfied: tzdata>=2022.7 in /usr/local/lib/python3.11/dist-packages (from pandas<3,>=1.4.0->streamlit) (2025.2)\n",
            "Requirement already satisfied: charset-normalizer<4,>=2 in /usr/local/lib/python3.11/dist-packages (from requests<3,>=2.27->streamlit) (3.4.2)\n",
            "Requirement already satisfied: idna<4,>=2.5 in /usr/local/lib/python3.11/dist-packages (from requests<3,>=2.27->streamlit) (3.10)\n",
            "Requirement already satisfied: urllib3<3,>=1.21.1 in /usr/local/lib/python3.11/dist-packages (from requests<3,>=2.27->streamlit) (2.5.0)\n",
            "Requirement already satisfied: certifi>=2017.4.17 in /usr/local/lib/python3.11/dist-packages (from requests<3,>=2.27->streamlit) (2025.7.14)\n",
            "Requirement already satisfied: smmap<6,>=3.0.1 in /usr/local/lib/python3.11/dist-packages (from gitdb<5,>=4.0.1->gitpython!=3.1.19,<4,>=3.0.7->streamlit) (5.0.2)\n",
            "Requirement already satisfied: MarkupSafe>=2.0 in /usr/local/lib/python3.11/dist-packages (from jinja2->altair<6,>=4.0->streamlit) (3.0.2)\n",
            "Requirement already satisfied: attrs>=22.2.0 in /usr/local/lib/python3.11/dist-packages (from jsonschema>=3.0->altair<6,>=4.0->streamlit) (25.3.0)\n",
            "Requirement already satisfied: jsonschema-specifications>=2023.03.6 in /usr/local/lib/python3.11/dist-packages (from jsonschema>=3.0->altair<6,>=4.0->streamlit) (2025.4.1)\n",
            "Requirement already satisfied: referencing>=0.28.4 in /usr/local/lib/python3.11/dist-packages (from jsonschema>=3.0->altair<6,>=4.0->streamlit) (0.36.2)\n",
            "Requirement already satisfied: rpds-py>=0.7.1 in /usr/local/lib/python3.11/dist-packages (from jsonschema>=3.0->altair<6,>=4.0->streamlit) (0.26.0)\n",
            "Requirement already satisfied: six>=1.5 in /usr/local/lib/python3.11/dist-packages (from python-dateutil>=2.8.2->pandas<3,>=1.4.0->streamlit) (1.17.0)\n",
            "Downloading streamlit-1.47.1-py3-none-any.whl (9.9 MB)\n",
            "\u001b[2K   \u001b[90m━━━━━━━━━━━━━━━━━━━━━━━━━━━━━━━━━━━━━━━━\u001b[0m \u001b[32m9.9/9.9 MB\u001b[0m \u001b[31m20.9 MB/s\u001b[0m eta \u001b[36m0:00:00\u001b[0m\n",
            "\u001b[?25hDownloading pydeck-0.9.1-py2.py3-none-any.whl (6.9 MB)\n",
            "\u001b[2K   \u001b[90m━━━━━━━━━━━━━━━━━━━━━━━━━━━━━━━━━━━━━━━━\u001b[0m \u001b[32m6.9/6.9 MB\u001b[0m \u001b[31m46.8 MB/s\u001b[0m eta \u001b[36m0:00:00\u001b[0m\n",
            "\u001b[?25hDownloading watchdog-6.0.0-py3-none-manylinux2014_x86_64.whl (79 kB)\n",
            "\u001b[2K   \u001b[90m━━━━━━━━━━━━━━━━━━━━━━━━━━━━━━━━━━━━━━━━\u001b[0m \u001b[32m79.1/79.1 kB\u001b[0m \u001b[31m4.6 MB/s\u001b[0m eta \u001b[36m0:00:00\u001b[0m\n",
            "\u001b[?25hInstalling collected packages: watchdog, pydeck, streamlit\n",
            "Successfully installed pydeck-0.9.1 streamlit-1.47.1 watchdog-6.0.0\n"
          ]
        }
      ]
    },
    {
      "cell_type": "markdown",
      "metadata": {
        "id": "0077cc91"
      },
      "source": [
        "**Reasoning**:\n",
        "Now that `streamlit` is installed, create the `app.py` file with the necessary imports and basic structure as outlined in the instructions.\n",
        "\n"
      ]
    },
    {
      "cell_type": "code",
      "metadata": {
        "id": "8ee3afa8"
      },
      "source": [
        "# # app.py\n",
        "\n",
        "# # 1. Import necessary libraries\n",
        "# import streamlit as st\n",
        "# import pandas as pd\n",
        "# import numpy as np\n",
        "# import pickle\n",
        "# from surprise import Dataset, Reader, SVD # Import Surprise libraries\n",
        "\n",
        "# # 2. Outline sections\n",
        "\n",
        "# # Section: Load Data and Model\n",
        "# # This section will handle loading the movie ratings, movie titles,\n",
        "# # and the trained recommendation model (SVD model or SciPy components)\n",
        "# # from the pickle files saved previously.\n",
        "# # Use st.cache_resource to load data and models efficiently.\n",
        "\n",
        "# # Section: Recommendation Logic\n",
        "# # This section will contain the function(s) to generate movie recommendations\n",
        "# # based on the loaded model and user input. This will involve:\n",
        "# # - Identifying movies the user hasn't rated.\n",
        "# # - Predicting ratings for these unrated movies using the loaded model.\n",
        "# # - Sorting predictions and selecting the top N.\n",
        "# # - Retrieving movie titles for the recommended movie IDs.\n",
        "\n",
        "# # Section: Streamlit UI\n",
        "# # This section will define the layout and interactive elements of the\n",
        "# # Streamlit web application. This will include:\n",
        "# # - Setting the page title and layout.\n",
        "# # - Creating input widgets (e.g., a selectbox for user ID).\n",
        "# # - Displaying the recommendations to the user."
      ],
      "execution_count": null,
      "outputs": []
    },
    {
      "cell_type": "markdown",
      "metadata": {
        "id": "f0529428"
      },
      "source": [
        "## Load the data and model in the streamlit app\n",
        "\n",
        "### Subtask:\n",
        "Load the saved pickle files containing the data and the trained model in your `app.py` file.\n"
      ]
    },
    {
      "cell_type": "markdown",
      "metadata": {
        "id": "fcc7d52f"
      },
      "source": [
        "**Reasoning**:\n",
        "I will now write the Python code for the `app.py` file, which will load the `movie_ratings.pkl`, `movies.pkl`, and `svd_model.pkl` files. I will define a function decorated with `@st.cache_resource` to handle the loading of these files, which will improve the performance of the Streamlit application by caching these resources. Finally, I will call this function to load the data and the model.\n",
        "\n"
      ]
    },
    {
      "cell_type": "code",
      "metadata": {
        "colab": {
          "base_uri": "https://localhost:8080/"
        },
        "id": "1cdd62dd",
        "outputId": "4c9d58d0-6566-464a-cafd-7385d31fa80b"
      },
      "source": [
        "# %%writefile app.py\n",
        "# import streamlit as st\n",
        "# import pandas as pd\n",
        "# import numpy as np\n",
        "# import pickle\n",
        "\n",
        "# # Load the Surprise SVD model and data\n",
        "# @st.cache_resource\n",
        "# def load_data_and_model():\n",
        "#     \"\"\"\n",
        "#     Loads the movie ratings, movies DataFrame, and the trained SVD model from pickle files.\n",
        "#     \"\"\"\n",
        "#     with open('/content/drive/MyDrive/DeepTech/Movie_Recommender_System/movie_ratings.pkl', 'rb') as f:\n",
        "#         movie_ratings = pickle.load(f)\n",
        "\n",
        "#     # The movies dataframe was not saved as a pickle file, so I will save it first and then load it.\n",
        "#     # movies.to_pickle('/content/drive/MyDrive/DeepTech/Movie_Recommender_System/movies.pkl')\n",
        "\n",
        "#     with open('/content/drive/MyDrive/DeepTech/Movie_Recommender_System/movies.pkl', 'rb') as f:\n",
        "#         movies = pickle.load(f)\n",
        "\n",
        "#     with open('/content/drive/MyDrive/DeepTech/Movie_Recommender_System/svd_model.pkl', 'rb') as f:\n",
        "#         algo = pickle.load(f)\n",
        "\n",
        "#     return movie_ratings, movies, algo\n",
        "\n",
        "# # Load the data and model\n",
        "# movie_ratings, movies, algo = load_data_and_model()\n",
        "\n",
        "# st.write(\"Data and model loaded successfully!\")"
      ],
      "execution_count": null,
      "outputs": [
        {
          "output_type": "stream",
          "name": "stdout",
          "text": [
            "Writing app.py\n"
          ]
        }
      ]
    },
    {
      "cell_type": "markdown",
      "metadata": {
        "id": "7cbee4d7"
      },
      "source": [
        "**Reasoning**:\n",
        "The previous code block wrote the `app.py` file which attempts to load `movies.pkl`, but this file does not exist yet. To fix this, I need to create the `movies.pkl` file by pickling the `movies` DataFrame.\n",
        "\n"
      ]
    },
    {
      "cell_type": "code",
      "metadata": {
        "colab": {
          "base_uri": "https://localhost:8080/"
        },
        "id": "3e4a7780",
        "outputId": "0beb777a-cb22-4208-af28-e0035b7c3092"
      },
      "source": [
        "# # Save the movies DataFrame as a pickle file\n",
        "# movies.to_pickle('/content/drive/MyDrive/DeepTech/Movie_Recommender_System/movies.pkl')\n",
        "# print(\"movies DataFrame saved as movies.pkl\")"
      ],
      "execution_count": null,
      "outputs": [
        {
          "output_type": "stream",
          "name": "stdout",
          "text": [
            "movies DataFrame saved as movies.pkl\n"
          ]
        }
      ]
    }
  ],
  "metadata": {
    "colab": {
      "gpuType": "T4",
      "provenance": []
    },
    "kernelspec": {
      "display_name": "Python 3",
      "name": "python3"
    },
    "language_info": {
      "name": "python"
    }
  },
  "nbformat": 4,
  "nbformat_minor": 0
}